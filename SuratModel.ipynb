{
  "cells": [
    {
      "cell_type": "code",
      "execution_count": 1,
      "metadata": {
        "id": "aJGK9VAlIyE8"
      },
      "outputs": [
        {
          "name": "stderr",
          "output_type": "stream",
          "text": [
            "Cloning into 'pm2.5'...\n"
          ]
        }
      ],
      "source": [
        "# !git clone https://github.com/SamuunJinnie/pm2.5"
      ]
    },
    {
      "cell_type": "code",
      "execution_count": 2,
      "metadata": {},
      "outputs": [],
      "source": [
        "# !mv ./pm2.5/* ."
      ]
    },
    {
      "cell_type": "code",
      "execution_count": 35,
      "metadata": {},
      "outputs": [],
      "source": [
        "provinces = ['BKK', 'Chiangmai', 'Khonkaen', 'Rayong', 'Saraburi', 'Surat']"
      ]
    },
    {
      "cell_type": "code",
      "execution_count": 2,
      "metadata": {},
      "outputs": [],
      "source": [
        "import pandas as pd"
      ]
    },
    {
      "cell_type": "code",
      "execution_count": 4,
      "metadata": {
        "id": "vdpRLYEBYYYS"
      },
      "outputs": [],
      "source": [
        "\n",
        "def format_datetime(df):\n",
        "  df['date_time'] = pd.to_datetime(df['date_time'])\n",
        "  df = df.set_index('date_time')\n",
        "  return df"
      ]
    },
    {
      "cell_type": "code",
      "execution_count": 3,
      "metadata": {
        "id": "-otG7RVDlHHG"
      },
      "outputs": [],
      "source": [
        "def format_datetime_2(df):\n",
        "    df['date_time'] = pd.to_datetime(df['date_time'] , format='%d/%m/%Y %H:%M')\n",
        "    df = df.set_index('date_time')\n",
        "    return df"
      ]
    },
    {
      "cell_type": "code",
      "execution_count": 5,
      "metadata": {
        "id": "BA3RWnLPMb14"
      },
      "outputs": [],
      "source": [
        "def get_train_data(prov):\n",
        "  df_train = pd.read_csv(prov + '/train/' + prov.lower() + '_train.csv')\n",
        "  df_temp_surface = pd.read_csv(prov + '/train/' + prov.lower() + '_temp_surface.csv')\n",
        "  df_weather_wind = pd.read_csv(prov + '/train/' + prov.lower() + '_weather_wind.csv')\n",
        "  df_so2 = pd.read_csv(prov + '/train/' + prov.lower() + '_so2_surface_train.csv')\n",
        "  df_rh = pd.read_csv(prov + '/train/' + prov.lower() + '_RH_train.csv')\n",
        "  df_train = df_train.rename(columns={'Unnamed: 0':'date_time'})\n",
        "  df_train, df_temp_surface, df_weather_wind, df_so2, df_rh = format_datetime(df_train), format_datetime(df_temp_surface), format_datetime(df_weather_wind), format_datetime(df_so2), format_datetime(df_rh)\n",
        "  df_train, df_temp_surface, df_weather_wind, df_so2, df_rh = df_train.interpolate(), df_temp_surface.interpolate(), df_weather_wind.interpolate(), df_so2.interpolate(), df_rh.interpolate()\n",
        "  df_train, df_temp_surface, df_weather_wind, df_so2, df_rh = df_train.resample('h').ffill(), df_temp_surface.resample('h').ffill(), df_weather_wind.resample('h').ffill(), df_so2.resample('h').ffill(), df_rh.resample('h').ffill()\n",
        "  return df_train, df_temp_surface, df_weather_wind, df_so2, df_rh"
      ]
    },
    {
      "cell_type": "code",
      "execution_count": 6,
      "metadata": {
        "id": "TEBMjQLplHHH"
      },
      "outputs": [],
      "source": [
        "def get_test_data(prov):\n",
        "  df_test = pd.read_csv(f'{prov}/test/{prov.lower()}_test.csv')\n",
        "  df_temp_surface_test = pd.read_csv(f'{prov}/test/{prov.lower()}_temp_surface_test.csv')\n",
        "  df_weather_wind_test = pd.read_csv(f'{prov}/test/{prov.lower()}_weather_wind_test.csv')\n",
        "  df_so2_test = pd.read_csv(prov + '/test/' + prov.lower() + '_so2_surface_test.csv')\n",
        "  df_rh_test = pd.read_csv(prov + '/test/' + prov.lower() + '_RH_test.csv')\n",
        "  df_test = df_test.rename(columns={'Unnamed: 0':'date_time'})\n",
        "  df_test, df_temp_surface_test, df_weather_wind_test, df_so2_test, df_rh_test = format_datetime(df_test), format_datetime_2(df_temp_surface_test), format_datetime_2(df_weather_wind_test),format_datetime(df_so2_test),format_datetime(df_rh_test)\n",
        "  df_test, df_temp_surface_test, df_weather_wind_test, df_so2_test, df_rh_test = df_test.interpolate(), df_temp_surface_test.interpolate(), df_weather_wind_test.interpolate(), df_so2_test.interpolate(), df_rh_test.interpolate()\n",
        "  df_test, df_temp_surface_test,df_weather_wind_test, df_so2_test, df_rh_test = df_test.resample('h').ffill(), df_temp_surface_test.resample('h').ffill(), df_weather_wind_test.resample('h').ffill(), df_so2_test.resample('h').ffill(), df_rh_test.resample('h').ffill()\n",
        "  return df_test, df_temp_surface_test, df_weather_wind_test, df_so2_test, df_rh_test"
      ]
    },
    {
      "cell_type": "code",
      "execution_count": 7,
      "metadata": {
        "id": "2xTGj8yuiJDi"
      },
      "outputs": [],
      "source": [
        "def get_na_rows(df, col):\n",
        "  return df[df[col].isna() == True].index.to_list()"
      ]
    },
    {
      "cell_type": "code",
      "execution_count": 36,
      "metadata": {
        "id": "mi-y6uqpTuEb"
      },
      "outputs": [],
      "source": [
        "df_train, df_temp_surface, df_weather_wind, df_so2, df_rh = get_train_data('Surat')\n",
        "df_test, df_temp_surface_test, df_weather_wind_test, df_so2_test, df_rh_test = get_test_data('Surat')"
      ]
    },
    {
      "cell_type": "code",
      "execution_count": 37,
      "metadata": {
        "colab": {
          "base_uri": "https://localhost:8080/",
          "height": 475
        },
        "id": "8PU8BddzlHHJ",
        "outputId": "08f4cfd2-33be-49dd-98e7-0cac5a1362be"
      },
      "outputs": [
        {
          "data": {
            "text/html": [
              "<div>\n",
              "<style scoped>\n",
              "    .dataframe tbody tr th:only-of-type {\n",
              "        vertical-align: middle;\n",
              "    }\n",
              "\n",
              "    .dataframe tbody tr th {\n",
              "        vertical-align: top;\n",
              "    }\n",
              "\n",
              "    .dataframe thead th {\n",
              "        text-align: right;\n",
              "    }\n",
              "</style>\n",
              "<table border=\"1\" class=\"dataframe\">\n",
              "  <thead>\n",
              "    <tr style=\"text-align: right;\">\n",
              "      <th></th>\n",
              "      <th>PM2.5</th>\n",
              "    </tr>\n",
              "    <tr>\n",
              "      <th>date_time</th>\n",
              "      <th></th>\n",
              "    </tr>\n",
              "  </thead>\n",
              "  <tbody>\n",
              "    <tr>\n",
              "      <th>2021-07-01 19:00:00</th>\n",
              "      <td>13.0</td>\n",
              "    </tr>\n",
              "    <tr>\n",
              "      <th>2021-07-01 20:00:00</th>\n",
              "      <td>13.0</td>\n",
              "    </tr>\n",
              "    <tr>\n",
              "      <th>2021-07-01 21:00:00</th>\n",
              "      <td>14.0</td>\n",
              "    </tr>\n",
              "    <tr>\n",
              "      <th>2021-07-01 22:00:00</th>\n",
              "      <td>14.0</td>\n",
              "    </tr>\n",
              "    <tr>\n",
              "      <th>2021-07-01 23:00:00</th>\n",
              "      <td>14.0</td>\n",
              "    </tr>\n",
              "  </tbody>\n",
              "</table>\n",
              "</div>"
            ],
            "text/plain": [
              "                     PM2.5\n",
              "date_time                 \n",
              "2021-07-01 19:00:00   13.0\n",
              "2021-07-01 20:00:00   13.0\n",
              "2021-07-01 21:00:00   14.0\n",
              "2021-07-01 22:00:00   14.0\n",
              "2021-07-01 23:00:00   14.0"
            ]
          },
          "metadata": {},
          "output_type": "display_data"
        },
        {
          "data": {
            "text/html": [
              "<div>\n",
              "<style scoped>\n",
              "    .dataframe tbody tr th:only-of-type {\n",
              "        vertical-align: middle;\n",
              "    }\n",
              "\n",
              "    .dataframe tbody tr th {\n",
              "        vertical-align: top;\n",
              "    }\n",
              "\n",
              "    .dataframe thead th {\n",
              "        text-align: right;\n",
              "    }\n",
              "</style>\n",
              "<table border=\"1\" class=\"dataframe\">\n",
              "  <thead>\n",
              "    <tr style=\"text-align: right;\">\n",
              "      <th></th>\n",
              "      <th>temp</th>\n",
              "      <th>Unnamed: 2</th>\n",
              "    </tr>\n",
              "    <tr>\n",
              "      <th>date_time</th>\n",
              "      <th></th>\n",
              "      <th></th>\n",
              "    </tr>\n",
              "  </thead>\n",
              "  <tbody>\n",
              "    <tr>\n",
              "      <th>2021-07-01 18:00:00</th>\n",
              "      <td>30.2</td>\n",
              "      <td>NaN</td>\n",
              "    </tr>\n",
              "    <tr>\n",
              "      <th>2021-07-01 19:00:00</th>\n",
              "      <td>26.8</td>\n",
              "      <td>NaN</td>\n",
              "    </tr>\n",
              "    <tr>\n",
              "      <th>2021-07-01 20:00:00</th>\n",
              "      <td>26.8</td>\n",
              "      <td>NaN</td>\n",
              "    </tr>\n",
              "    <tr>\n",
              "      <th>2021-07-01 21:00:00</th>\n",
              "      <td>26.8</td>\n",
              "      <td>NaN</td>\n",
              "    </tr>\n",
              "    <tr>\n",
              "      <th>2021-07-01 22:00:00</th>\n",
              "      <td>25.7</td>\n",
              "      <td>NaN</td>\n",
              "    </tr>\n",
              "  </tbody>\n",
              "</table>\n",
              "</div>"
            ],
            "text/plain": [
              "                     temp  Unnamed: 2\n",
              "date_time                            \n",
              "2021-07-01 18:00:00  30.2         NaN\n",
              "2021-07-01 19:00:00  26.8         NaN\n",
              "2021-07-01 20:00:00  26.8         NaN\n",
              "2021-07-01 21:00:00  26.8         NaN\n",
              "2021-07-01 22:00:00  25.7         NaN"
            ]
          },
          "metadata": {},
          "output_type": "display_data"
        },
        {
          "data": {
            "text/html": [
              "<div>\n",
              "<style scoped>\n",
              "    .dataframe tbody tr th:only-of-type {\n",
              "        vertical-align: middle;\n",
              "    }\n",
              "\n",
              "    .dataframe tbody tr th {\n",
              "        vertical-align: top;\n",
              "    }\n",
              "\n",
              "    .dataframe thead th {\n",
              "        text-align: right;\n",
              "    }\n",
              "</style>\n",
              "<table border=\"1\" class=\"dataframe\">\n",
              "  <thead>\n",
              "    <tr style=\"text-align: right;\">\n",
              "      <th></th>\n",
              "      <th>wind speed</th>\n",
              "      <th>wind dir</th>\n",
              "    </tr>\n",
              "    <tr>\n",
              "      <th>date_time</th>\n",
              "      <th></th>\n",
              "      <th></th>\n",
              "    </tr>\n",
              "  </thead>\n",
              "  <tbody>\n",
              "    <tr>\n",
              "      <th>2021-07-01 18:00:00</th>\n",
              "      <td>10</td>\n",
              "      <td>250</td>\n",
              "    </tr>\n",
              "    <tr>\n",
              "      <th>2021-07-01 19:00:00</th>\n",
              "      <td>9</td>\n",
              "      <td>245</td>\n",
              "    </tr>\n",
              "    <tr>\n",
              "      <th>2021-07-01 20:00:00</th>\n",
              "      <td>9</td>\n",
              "      <td>245</td>\n",
              "    </tr>\n",
              "    <tr>\n",
              "      <th>2021-07-01 21:00:00</th>\n",
              "      <td>9</td>\n",
              "      <td>245</td>\n",
              "    </tr>\n",
              "    <tr>\n",
              "      <th>2021-07-01 22:00:00</th>\n",
              "      <td>9</td>\n",
              "      <td>235</td>\n",
              "    </tr>\n",
              "  </tbody>\n",
              "</table>\n",
              "</div>"
            ],
            "text/plain": [
              "                     wind speed  wind dir\n",
              "date_time                                \n",
              "2021-07-01 18:00:00          10       250\n",
              "2021-07-01 19:00:00           9       245\n",
              "2021-07-01 20:00:00           9       245\n",
              "2021-07-01 21:00:00           9       245\n",
              "2021-07-01 22:00:00           9       235"
            ]
          },
          "metadata": {},
          "output_type": "display_data"
        },
        {
          "data": {
            "text/html": [
              "<div>\n",
              "<style scoped>\n",
              "    .dataframe tbody tr th:only-of-type {\n",
              "        vertical-align: middle;\n",
              "    }\n",
              "\n",
              "    .dataframe tbody tr th {\n",
              "        vertical-align: top;\n",
              "    }\n",
              "\n",
              "    .dataframe thead th {\n",
              "        text-align: right;\n",
              "    }\n",
              "</style>\n",
              "<table border=\"1\" class=\"dataframe\">\n",
              "  <thead>\n",
              "    <tr style=\"text-align: right;\">\n",
              "      <th></th>\n",
              "      <th>so2 (ug/m^3)</th>\n",
              "    </tr>\n",
              "    <tr>\n",
              "      <th>date_time</th>\n",
              "      <th></th>\n",
              "    </tr>\n",
              "  </thead>\n",
              "  <tbody>\n",
              "    <tr>\n",
              "      <th>2021-07-01 18:00:00</th>\n",
              "      <td>0.48</td>\n",
              "    </tr>\n",
              "    <tr>\n",
              "      <th>2021-07-01 19:00:00</th>\n",
              "      <td>1.16</td>\n",
              "    </tr>\n",
              "    <tr>\n",
              "      <th>2021-07-01 20:00:00</th>\n",
              "      <td>1.16</td>\n",
              "    </tr>\n",
              "    <tr>\n",
              "      <th>2021-07-01 21:00:00</th>\n",
              "      <td>1.16</td>\n",
              "    </tr>\n",
              "    <tr>\n",
              "      <th>2021-07-01 22:00:00</th>\n",
              "      <td>1.65</td>\n",
              "    </tr>\n",
              "  </tbody>\n",
              "</table>\n",
              "</div>"
            ],
            "text/plain": [
              "                     so2 (ug/m^3)\n",
              "date_time                        \n",
              "2021-07-01 18:00:00          0.48\n",
              "2021-07-01 19:00:00          1.16\n",
              "2021-07-01 20:00:00          1.16\n",
              "2021-07-01 21:00:00          1.16\n",
              "2021-07-01 22:00:00          1.65"
            ]
          },
          "metadata": {},
          "output_type": "display_data"
        },
        {
          "data": {
            "text/html": [
              "<div>\n",
              "<style scoped>\n",
              "    .dataframe tbody tr th:only-of-type {\n",
              "        vertical-align: middle;\n",
              "    }\n",
              "\n",
              "    .dataframe tbody tr th {\n",
              "        vertical-align: top;\n",
              "    }\n",
              "\n",
              "    .dataframe thead th {\n",
              "        text-align: right;\n",
              "    }\n",
              "</style>\n",
              "<table border=\"1\" class=\"dataframe\">\n",
              "  <thead>\n",
              "    <tr style=\"text-align: right;\">\n",
              "      <th></th>\n",
              "      <th>RH</th>\n",
              "    </tr>\n",
              "    <tr>\n",
              "      <th>date_time</th>\n",
              "      <th></th>\n",
              "    </tr>\n",
              "  </thead>\n",
              "  <tbody>\n",
              "    <tr>\n",
              "      <th>2021-07-01 18:00:00</th>\n",
              "      <td>63.0</td>\n",
              "    </tr>\n",
              "    <tr>\n",
              "      <th>2021-07-01 19:00:00</th>\n",
              "      <td>79.0</td>\n",
              "    </tr>\n",
              "    <tr>\n",
              "      <th>2021-07-01 20:00:00</th>\n",
              "      <td>79.0</td>\n",
              "    </tr>\n",
              "    <tr>\n",
              "      <th>2021-07-01 21:00:00</th>\n",
              "      <td>79.0</td>\n",
              "    </tr>\n",
              "    <tr>\n",
              "      <th>2021-07-01 22:00:00</th>\n",
              "      <td>83.0</td>\n",
              "    </tr>\n",
              "  </tbody>\n",
              "</table>\n",
              "</div>"
            ],
            "text/plain": [
              "                       RH\n",
              "date_time                \n",
              "2021-07-01 18:00:00  63.0\n",
              "2021-07-01 19:00:00  79.0\n",
              "2021-07-01 20:00:00  79.0\n",
              "2021-07-01 21:00:00  79.0\n",
              "2021-07-01 22:00:00  83.0"
            ]
          },
          "metadata": {},
          "output_type": "display_data"
        }
      ],
      "source": [
        "display(df_test.tail())\n",
        "display(df_temp_surface_test.tail())\n",
        "display(df_weather_wind_test.tail())\n",
        "display(df_so2_test.tail())\n",
        "display(df_rh_test.tail())"
      ]
    },
    {
      "cell_type": "code",
      "execution_count": 38,
      "metadata": {},
      "outputs": [],
      "source": [
        "df_temp_surface_test.drop('Unnamed: 2', inplace=True, axis='columns')"
      ]
    },
    {
      "cell_type": "code",
      "execution_count": 39,
      "metadata": {},
      "outputs": [
        {
          "data": {
            "text/html": [
              "<div>\n",
              "<style scoped>\n",
              "    .dataframe tbody tr th:only-of-type {\n",
              "        vertical-align: middle;\n",
              "    }\n",
              "\n",
              "    .dataframe tbody tr th {\n",
              "        vertical-align: top;\n",
              "    }\n",
              "\n",
              "    .dataframe thead th {\n",
              "        text-align: right;\n",
              "    }\n",
              "</style>\n",
              "<table border=\"1\" class=\"dataframe\">\n",
              "  <thead>\n",
              "    <tr style=\"text-align: right;\">\n",
              "      <th></th>\n",
              "      <th>temp</th>\n",
              "    </tr>\n",
              "    <tr>\n",
              "      <th>date_time</th>\n",
              "      <th></th>\n",
              "    </tr>\n",
              "  </thead>\n",
              "  <tbody>\n",
              "    <tr>\n",
              "      <th>2021-07-01 18:00:00</th>\n",
              "      <td>30.2</td>\n",
              "    </tr>\n",
              "    <tr>\n",
              "      <th>2021-07-01 19:00:00</th>\n",
              "      <td>26.8</td>\n",
              "    </tr>\n",
              "    <tr>\n",
              "      <th>2021-07-01 20:00:00</th>\n",
              "      <td>26.8</td>\n",
              "    </tr>\n",
              "    <tr>\n",
              "      <th>2021-07-01 21:00:00</th>\n",
              "      <td>26.8</td>\n",
              "    </tr>\n",
              "    <tr>\n",
              "      <th>2021-07-01 22:00:00</th>\n",
              "      <td>25.7</td>\n",
              "    </tr>\n",
              "  </tbody>\n",
              "</table>\n",
              "</div>"
            ],
            "text/plain": [
              "                     temp\n",
              "date_time                \n",
              "2021-07-01 18:00:00  30.2\n",
              "2021-07-01 19:00:00  26.8\n",
              "2021-07-01 20:00:00  26.8\n",
              "2021-07-01 21:00:00  26.8\n",
              "2021-07-01 22:00:00  25.7"
            ]
          },
          "execution_count": 39,
          "metadata": {},
          "output_type": "execute_result"
        }
      ],
      "source": [
        "df_temp_surface_test.tail()"
      ]
    },
    {
      "cell_type": "code",
      "execution_count": 40,
      "metadata": {},
      "outputs": [
        {
          "name": "stdout",
          "output_type": "stream",
          "text": [
            "(26302, 1)\n",
            "(26302, 2)\n",
            "(26302, 1)\n",
            "(26302, 1)\n",
            "(15336, 1)\n"
          ]
        }
      ],
      "source": [
        "print(df_temp_surface.shape)\n",
        "print(df_weather_wind.shape)\n",
        "print(df_so2.shape)\n",
        "print(df_rh.shape)\n",
        "print(df_train.shape)"
      ]
    },
    {
      "cell_type": "code",
      "execution_count": 41,
      "metadata": {
        "colab": {
          "base_uri": "https://localhost:8080/",
          "height": 1000
        },
        "id": "SZCcypEtTyUz",
        "outputId": "3475ca12-abb8-412f-f54a-4f24bcca4166"
      },
      "outputs": [
        {
          "data": {
            "text/html": [
              "<div>\n",
              "<style scoped>\n",
              "    .dataframe tbody tr th:only-of-type {\n",
              "        vertical-align: middle;\n",
              "    }\n",
              "\n",
              "    .dataframe tbody tr th {\n",
              "        vertical-align: top;\n",
              "    }\n",
              "\n",
              "    .dataframe thead th {\n",
              "        text-align: right;\n",
              "    }\n",
              "</style>\n",
              "<table border=\"1\" class=\"dataframe\">\n",
              "  <thead>\n",
              "    <tr style=\"text-align: right;\">\n",
              "      <th></th>\n",
              "      <th>PM2.5</th>\n",
              "    </tr>\n",
              "    <tr>\n",
              "      <th>date_time</th>\n",
              "      <th></th>\n",
              "    </tr>\n",
              "  </thead>\n",
              "  <tbody>\n",
              "    <tr>\n",
              "      <th>2020-06-30 19:00:00</th>\n",
              "      <td>29.0</td>\n",
              "    </tr>\n",
              "    <tr>\n",
              "      <th>2020-06-30 20:00:00</th>\n",
              "      <td>16.0</td>\n",
              "    </tr>\n",
              "    <tr>\n",
              "      <th>2020-06-30 21:00:00</th>\n",
              "      <td>15.0</td>\n",
              "    </tr>\n",
              "    <tr>\n",
              "      <th>2020-06-30 22:00:00</th>\n",
              "      <td>20.0</td>\n",
              "    </tr>\n",
              "    <tr>\n",
              "      <th>2020-06-30 23:00:00</th>\n",
              "      <td>21.0</td>\n",
              "    </tr>\n",
              "  </tbody>\n",
              "</table>\n",
              "</div>"
            ],
            "text/plain": [
              "                     PM2.5\n",
              "date_time                 \n",
              "2020-06-30 19:00:00   29.0\n",
              "2020-06-30 20:00:00   16.0\n",
              "2020-06-30 21:00:00   15.0\n",
              "2020-06-30 22:00:00   20.0\n",
              "2020-06-30 23:00:00   21.0"
            ]
          },
          "metadata": {},
          "output_type": "display_data"
        },
        {
          "data": {
            "text/html": [
              "<div>\n",
              "<style scoped>\n",
              "    .dataframe tbody tr th:only-of-type {\n",
              "        vertical-align: middle;\n",
              "    }\n",
              "\n",
              "    .dataframe tbody tr th {\n",
              "        vertical-align: top;\n",
              "    }\n",
              "\n",
              "    .dataframe thead th {\n",
              "        text-align: right;\n",
              "    }\n",
              "</style>\n",
              "<table border=\"1\" class=\"dataframe\">\n",
              "  <thead>\n",
              "    <tr style=\"text-align: right;\">\n",
              "      <th></th>\n",
              "      <th>temp</th>\n",
              "    </tr>\n",
              "    <tr>\n",
              "      <th>date_time</th>\n",
              "      <th></th>\n",
              "    </tr>\n",
              "  </thead>\n",
              "  <tbody>\n",
              "    <tr>\n",
              "      <th>2020-06-30 18:00:00</th>\n",
              "      <td>30.8</td>\n",
              "    </tr>\n",
              "    <tr>\n",
              "      <th>2020-06-30 19:00:00</th>\n",
              "      <td>26.7</td>\n",
              "    </tr>\n",
              "    <tr>\n",
              "      <th>2020-06-30 20:00:00</th>\n",
              "      <td>26.7</td>\n",
              "    </tr>\n",
              "    <tr>\n",
              "      <th>2020-06-30 21:00:00</th>\n",
              "      <td>26.7</td>\n",
              "    </tr>\n",
              "    <tr>\n",
              "      <th>2020-06-30 22:00:00</th>\n",
              "      <td>25.9</td>\n",
              "    </tr>\n",
              "  </tbody>\n",
              "</table>\n",
              "</div>"
            ],
            "text/plain": [
              "                     temp\n",
              "date_time                \n",
              "2020-06-30 18:00:00  30.8\n",
              "2020-06-30 19:00:00  26.7\n",
              "2020-06-30 20:00:00  26.7\n",
              "2020-06-30 21:00:00  26.7\n",
              "2020-06-30 22:00:00  25.9"
            ]
          },
          "metadata": {},
          "output_type": "display_data"
        },
        {
          "data": {
            "text/html": [
              "<div>\n",
              "<style scoped>\n",
              "    .dataframe tbody tr th:only-of-type {\n",
              "        vertical-align: middle;\n",
              "    }\n",
              "\n",
              "    .dataframe tbody tr th {\n",
              "        vertical-align: top;\n",
              "    }\n",
              "\n",
              "    .dataframe thead th {\n",
              "        text-align: right;\n",
              "    }\n",
              "</style>\n",
              "<table border=\"1\" class=\"dataframe\">\n",
              "  <thead>\n",
              "    <tr style=\"text-align: right;\">\n",
              "      <th></th>\n",
              "      <th>wind speed</th>\n",
              "      <th>wind dir</th>\n",
              "    </tr>\n",
              "    <tr>\n",
              "      <th>date_time</th>\n",
              "      <th></th>\n",
              "      <th></th>\n",
              "    </tr>\n",
              "  </thead>\n",
              "  <tbody>\n",
              "    <tr>\n",
              "      <th>2020-06-30 18:00:00</th>\n",
              "      <td>19</td>\n",
              "      <td>255</td>\n",
              "    </tr>\n",
              "    <tr>\n",
              "      <th>2020-06-30 19:00:00</th>\n",
              "      <td>19</td>\n",
              "      <td>250</td>\n",
              "    </tr>\n",
              "    <tr>\n",
              "      <th>2020-06-30 20:00:00</th>\n",
              "      <td>19</td>\n",
              "      <td>250</td>\n",
              "    </tr>\n",
              "    <tr>\n",
              "      <th>2020-06-30 21:00:00</th>\n",
              "      <td>19</td>\n",
              "      <td>250</td>\n",
              "    </tr>\n",
              "    <tr>\n",
              "      <th>2020-06-30 22:00:00</th>\n",
              "      <td>23</td>\n",
              "      <td>260</td>\n",
              "    </tr>\n",
              "  </tbody>\n",
              "</table>\n",
              "</div>"
            ],
            "text/plain": [
              "                     wind speed  wind dir\n",
              "date_time                                \n",
              "2020-06-30 18:00:00          19       255\n",
              "2020-06-30 19:00:00          19       250\n",
              "2020-06-30 20:00:00          19       250\n",
              "2020-06-30 21:00:00          19       250\n",
              "2020-06-30 22:00:00          23       260"
            ]
          },
          "metadata": {},
          "output_type": "display_data"
        },
        {
          "data": {
            "text/html": [
              "<div>\n",
              "<style scoped>\n",
              "    .dataframe tbody tr th:only-of-type {\n",
              "        vertical-align: middle;\n",
              "    }\n",
              "\n",
              "    .dataframe tbody tr th {\n",
              "        vertical-align: top;\n",
              "    }\n",
              "\n",
              "    .dataframe thead th {\n",
              "        text-align: right;\n",
              "    }\n",
              "</style>\n",
              "<table border=\"1\" class=\"dataframe\">\n",
              "  <thead>\n",
              "    <tr style=\"text-align: right;\">\n",
              "      <th></th>\n",
              "      <th>so2 (ug/m^3)</th>\n",
              "    </tr>\n",
              "    <tr>\n",
              "      <th>date_time</th>\n",
              "      <th></th>\n",
              "    </tr>\n",
              "  </thead>\n",
              "  <tbody>\n",
              "    <tr>\n",
              "      <th>2020-06-30 18:00:00</th>\n",
              "      <td>0.54</td>\n",
              "    </tr>\n",
              "    <tr>\n",
              "      <th>2020-06-30 19:00:00</th>\n",
              "      <td>1.15</td>\n",
              "    </tr>\n",
              "    <tr>\n",
              "      <th>2020-06-30 20:00:00</th>\n",
              "      <td>1.15</td>\n",
              "    </tr>\n",
              "    <tr>\n",
              "      <th>2020-06-30 21:00:00</th>\n",
              "      <td>1.15</td>\n",
              "    </tr>\n",
              "    <tr>\n",
              "      <th>2020-06-30 22:00:00</th>\n",
              "      <td>2.35</td>\n",
              "    </tr>\n",
              "  </tbody>\n",
              "</table>\n",
              "</div>"
            ],
            "text/plain": [
              "                     so2 (ug/m^3)\n",
              "date_time                        \n",
              "2020-06-30 18:00:00          0.54\n",
              "2020-06-30 19:00:00          1.15\n",
              "2020-06-30 20:00:00          1.15\n",
              "2020-06-30 21:00:00          1.15\n",
              "2020-06-30 22:00:00          2.35"
            ]
          },
          "metadata": {},
          "output_type": "display_data"
        },
        {
          "data": {
            "text/html": [
              "<div>\n",
              "<style scoped>\n",
              "    .dataframe tbody tr th:only-of-type {\n",
              "        vertical-align: middle;\n",
              "    }\n",
              "\n",
              "    .dataframe tbody tr th {\n",
              "        vertical-align: top;\n",
              "    }\n",
              "\n",
              "    .dataframe thead th {\n",
              "        text-align: right;\n",
              "    }\n",
              "</style>\n",
              "<table border=\"1\" class=\"dataframe\">\n",
              "  <thead>\n",
              "    <tr style=\"text-align: right;\">\n",
              "      <th></th>\n",
              "      <th>RH</th>\n",
              "    </tr>\n",
              "    <tr>\n",
              "      <th>date_time</th>\n",
              "      <th></th>\n",
              "    </tr>\n",
              "  </thead>\n",
              "  <tbody>\n",
              "    <tr>\n",
              "      <th>2020-06-30 18:00:00</th>\n",
              "      <td>61.0</td>\n",
              "    </tr>\n",
              "    <tr>\n",
              "      <th>2020-06-30 19:00:00</th>\n",
              "      <td>83.0</td>\n",
              "    </tr>\n",
              "    <tr>\n",
              "      <th>2020-06-30 20:00:00</th>\n",
              "      <td>83.0</td>\n",
              "    </tr>\n",
              "    <tr>\n",
              "      <th>2020-06-30 21:00:00</th>\n",
              "      <td>83.0</td>\n",
              "    </tr>\n",
              "    <tr>\n",
              "      <th>2020-06-30 22:00:00</th>\n",
              "      <td>85.0</td>\n",
              "    </tr>\n",
              "  </tbody>\n",
              "</table>\n",
              "</div>"
            ],
            "text/plain": [
              "                       RH\n",
              "date_time                \n",
              "2020-06-30 18:00:00  61.0\n",
              "2020-06-30 19:00:00  83.0\n",
              "2020-06-30 20:00:00  83.0\n",
              "2020-06-30 21:00:00  83.0\n",
              "2020-06-30 22:00:00  85.0"
            ]
          },
          "metadata": {},
          "output_type": "display_data"
        }
      ],
      "source": [
        "display(df_train.tail())\n",
        "display(df_temp_surface.tail())\n",
        "display(df_weather_wind.tail())\n",
        "display(df_so2.tail())\n",
        "display(df_rh.tail())"
      ]
    },
    {
      "cell_type": "code",
      "execution_count": 42,
      "metadata": {
        "id": "iP40M4YDWmDm"
      },
      "outputs": [],
      "source": [
        "import matplotlib.pyplot as plt"
      ]
    },
    {
      "cell_type": "code",
      "execution_count": 43,
      "metadata": {
        "colab": {
          "base_uri": "https://localhost:8080/",
          "height": 392
        },
        "id": "LqK_GB0-Jkzw",
        "outputId": "dfb26136-4dbd-42f2-bc47-481566b93982"
      },
      "outputs": [
        {
          "data": {
            "text/plain": [
              "[<matplotlib.lines.Line2D at 0x253820537c0>]"
            ]
          },
          "execution_count": 43,
          "metadata": {},
          "output_type": "execute_result"
        },
        {
          "data": {
            "image/png": "[encoded data removed]",
            "text/plain": [
              "<Figure size 864x432 with 1 Axes>"
            ]
          },
          "metadata": {
            "needs_background": "light"
          },
          "output_type": "display_data"
        }
      ],
      "source": [
        "plt.figure(figsize=(12,6))\n",
        "plt.plot(df_train,'r')"
      ]
    },
    {
      "cell_type": "code",
      "execution_count": 44,
      "metadata": {
        "colab": {
          "base_uri": "https://localhost:8080/",
          "height": 392
        },
        "id": "4P-wK-n5WmcC",
        "outputId": "2687c724-2a9a-4eb2-c8c0-782147f974f9"
      },
      "outputs": [
        {
          "data": {
            "text/plain": [
              "[<matplotlib.lines.Line2D at 0x253820ce0e0>]"
            ]
          },
          "execution_count": 44,
          "metadata": {},
          "output_type": "execute_result"
        },
        {
          "data": {
            "image/png": "[encoded data removed]",
            "text/plain": [
              "<Figure size 864x432 with 1 Axes>"
            ]
          },
          "metadata": {
            "needs_background": "light"
          },
          "output_type": "display_data"
        }
      ],
      "source": [
        "plt.figure(figsize=(12,6))\n",
        "plt.plot(df_temp_surface,'r')"
      ]
    },
    {
      "cell_type": "code",
      "execution_count": 45,
      "metadata": {
        "colab": {
          "base_uri": "https://localhost:8080/",
          "height": 392
        },
        "id": "YzrKjNiqWrpn",
        "outputId": "b7a739b0-e10a-4eeb-e1ec-dd7febb8ab63"
      },
      "outputs": [
        {
          "data": {
            "text/plain": [
              "[<matplotlib.lines.Line2D at 0x25383c25480>]"
            ]
          },
          "execution_count": 45,
          "metadata": {},
          "output_type": "execute_result"
        },
        {
          "data": {
            "image/png": "[encoded data removed]",
            "text/plain": [
              "<Figure size 864x432 with 1 Axes>"
            ]
          },
          "metadata": {
            "needs_background": "light"
          },
          "output_type": "display_data"
        }
      ],
      "source": [
        "plt.figure(figsize=(12,6))\n",
        "plt.plot(df_weather_wind['wind dir'],'r')"
      ]
    },
    {
      "cell_type": "code",
      "execution_count": 46,
      "metadata": {},
      "outputs": [
        {
          "data": {
            "text/plain": [
              "[<matplotlib.lines.Line2D at 0x25383c9a890>]"
            ]
          },
          "execution_count": 46,
          "metadata": {},
          "output_type": "execute_result"
        },
        {
          "data": {
            "image/png": "[encoded data removed]",
            "text/plain": [
              "<Figure size 864x432 with 1 Axes>"
            ]
          },
          "metadata": {
            "needs_background": "light"
          },
          "output_type": "display_data"
        }
      ],
      "source": [
        "plt.figure(figsize=(12,6))\n",
        "plt.plot(df_so2['so2 (ug/m^3)'],'r')"
      ]
    },
    {
      "cell_type": "code",
      "execution_count": 47,
      "metadata": {
        "colab": {
          "base_uri": "https://localhost:8080/",
          "height": 392
        },
        "id": "UvhB6EcSWwDS",
        "outputId": "3b28c540-a381-4e8d-ada0-e8be4243f0c6"
      },
      "outputs": [
        {
          "data": {
            "text/plain": [
              "[<matplotlib.lines.Line2D at 0x25383df5450>]"
            ]
          },
          "execution_count": 47,
          "metadata": {},
          "output_type": "execute_result"
        },
        {
          "data": {
            "image/png": "[encoded data removed]",
            "text/plain": [
              "<Figure size 864x432 with 1 Axes>"
            ]
          },
          "metadata": {
            "needs_background": "light"
          },
          "output_type": "display_data"
        }
      ],
      "source": [
        "plt.figure(figsize=(12,6))\n",
        "plt.plot(df_weather_wind['wind speed'],'r')"
      ]
    },
    {
      "cell_type": "code",
      "execution_count": 48,
      "metadata": {},
      "outputs": [
        {
          "data": {
            "text/plain": [
              "[<matplotlib.lines.Line2D at 0x25383d84dc0>]"
            ]
          },
          "execution_count": 48,
          "metadata": {},
          "output_type": "execute_result"
        },
        {
          "data": {
            "image/png": "[encoded data removed]",
            "text/plain": [
              "<Figure size 864x432 with 1 Axes>"
            ]
          },
          "metadata": {
            "needs_background": "light"
          },
          "output_type": "display_data"
        }
      ],
      "source": [
        "plt.figure(figsize=(12,6))\n",
        "plt.plot(df_rh['RH'],'r')"
      ]
    },
    {
      "cell_type": "code",
      "execution_count": 49,
      "metadata": {
        "id": "a_szyVs8_ob_"
      },
      "outputs": [],
      "source": [
        "df_temp_0 = pd.DataFrame({'date_time': ['07/01/2017 00:00:00'], 'temp':[0]})\n",
        "df_temp_0 = format_datetime(df_temp_0)\n",
        "df_wind_0 = pd.DataFrame({'date_time': ['07/01/2017 00:00:00'], 'wind dir':[0],'wind speed':[0]})\n",
        "df_wind_0 = format_datetime(df_wind_0)\n",
        "df_so2_0 = pd.DataFrame({'date_time': ['07/01/2017 00:00:00'], 'so2 (ug/m^3)':[0]})\n",
        "df_so2_0 = format_datetime(df_so2_0)\n",
        "df_rh_0 = pd.DataFrame({'date_time': ['07/01/2017 00:00:00'], 'RH':[0]})\n",
        "df_rh_0 = format_datetime(df_rh_0)"
      ]
    },
    {
      "cell_type": "code",
      "execution_count": 50,
      "metadata": {
        "id": "EF5FCjfALc2B"
      },
      "outputs": [],
      "source": [
        "df_temp_1 = pd.DataFrame({'date_time': ['06/30/2020 23:00:00'], 'temp':[df_temp_surface['temp'].iloc[26301]]})\n",
        "df_temp_1 = format_datetime(df_temp_1)\n",
        "df_wind_1 = pd.DataFrame({'date_time': ['06/30/2020 23:00:00'], 'wind dir':[df_weather_wind['wind dir'].iloc[26301]],'wind speed':[df_weather_wind['wind speed'].iloc[26301]]})\n",
        "df_wind_1 = format_datetime(df_wind_1)\n",
        "df_so2_1 = pd.DataFrame({'date_time': ['06/30/2020 23:00:00'], 'so2 (ug/m^3)':[df_so2['so2 (ug/m^3)'].iloc[26301]]})\n",
        "df_so2_1 = format_datetime(df_so2_1)\n",
        "df_rh_1 = pd.DataFrame({'date_time': ['06/30/2020 23:00:00'], 'RH':[df_rh['RH'].iloc[26301]]})\n",
        "df_rh_1 = format_datetime(df_rh_1)"
      ]
    },
    {
      "cell_type": "code",
      "execution_count": 51,
      "metadata": {
        "id": "R8HQOCeO8Qpq"
      },
      "outputs": [],
      "source": [
        "df_temp_surface = pd.concat([df_temp_0,df_temp_surface,df_temp_1])\n",
        "df_weather_wind = pd.concat([df_wind_0,df_weather_wind,df_wind_1])\n",
        "df_so2 = pd.concat([df_so2_0,df_so2,df_so2_1])\n",
        "df_rh = pd.concat([df_rh_0,df_rh,df_rh_1])"
      ]
    },
    {
      "cell_type": "code",
      "execution_count": 52,
      "metadata": {
        "colab": {
          "base_uri": "https://localhost:8080/",
          "height": 455
        },
        "id": "o5XKKZBRXUqD",
        "outputId": "897722bf-66c4-4918-f13c-89e3e236a928"
      },
      "outputs": [
        {
          "data": {
            "text/html": [
              "<div>\n",
              "<style scoped>\n",
              "    .dataframe tbody tr th:only-of-type {\n",
              "        vertical-align: middle;\n",
              "    }\n",
              "\n",
              "    .dataframe tbody tr th {\n",
              "        vertical-align: top;\n",
              "    }\n",
              "\n",
              "    .dataframe thead th {\n",
              "        text-align: right;\n",
              "    }\n",
              "</style>\n",
              "<table border=\"1\" class=\"dataframe\">\n",
              "  <thead>\n",
              "    <tr style=\"text-align: right;\">\n",
              "      <th></th>\n",
              "      <th>PM2.5</th>\n",
              "      <th>wind dir</th>\n",
              "      <th>wind speed</th>\n",
              "      <th>temp</th>\n",
              "      <th>so2 (ug/m^3)</th>\n",
              "      <th>RH</th>\n",
              "    </tr>\n",
              "    <tr>\n",
              "      <th>date_time</th>\n",
              "      <th></th>\n",
              "      <th></th>\n",
              "      <th></th>\n",
              "      <th></th>\n",
              "      <th></th>\n",
              "      <th></th>\n",
              "    </tr>\n",
              "  </thead>\n",
              "  <tbody>\n",
              "    <tr>\n",
              "      <th>2018-10-01 00:00:00</th>\n",
              "      <td>22.0</td>\n",
              "      <td>200</td>\n",
              "      <td>3</td>\n",
              "      <td>26.6</td>\n",
              "      <td>2.03</td>\n",
              "      <td>85.0</td>\n",
              "    </tr>\n",
              "    <tr>\n",
              "      <th>2018-10-01 01:00:00</th>\n",
              "      <td>17.0</td>\n",
              "      <td>90</td>\n",
              "      <td>3</td>\n",
              "      <td>25.8</td>\n",
              "      <td>2.92</td>\n",
              "      <td>87.0</td>\n",
              "    </tr>\n",
              "    <tr>\n",
              "      <th>2018-10-01 02:00:00</th>\n",
              "      <td>13.0</td>\n",
              "      <td>90</td>\n",
              "      <td>3</td>\n",
              "      <td>25.8</td>\n",
              "      <td>2.92</td>\n",
              "      <td>87.0</td>\n",
              "    </tr>\n",
              "    <tr>\n",
              "      <th>2018-10-01 03:00:00</th>\n",
              "      <td>12.0</td>\n",
              "      <td>90</td>\n",
              "      <td>3</td>\n",
              "      <td>25.8</td>\n",
              "      <td>2.92</td>\n",
              "      <td>87.0</td>\n",
              "    </tr>\n",
              "    <tr>\n",
              "      <th>2018-10-01 04:00:00</th>\n",
              "      <td>11.0</td>\n",
              "      <td>105</td>\n",
              "      <td>1</td>\n",
              "      <td>25.2</td>\n",
              "      <td>3.08</td>\n",
              "      <td>89.0</td>\n",
              "    </tr>\n",
              "    <tr>\n",
              "      <th>...</th>\n",
              "      <td>...</td>\n",
              "      <td>...</td>\n",
              "      <td>...</td>\n",
              "      <td>...</td>\n",
              "      <td>...</td>\n",
              "      <td>...</td>\n",
              "    </tr>\n",
              "    <tr>\n",
              "      <th>2020-06-30 19:00:00</th>\n",
              "      <td>29.0</td>\n",
              "      <td>250</td>\n",
              "      <td>19</td>\n",
              "      <td>26.7</td>\n",
              "      <td>1.15</td>\n",
              "      <td>83.0</td>\n",
              "    </tr>\n",
              "    <tr>\n",
              "      <th>2020-06-30 20:00:00</th>\n",
              "      <td>16.0</td>\n",
              "      <td>250</td>\n",
              "      <td>19</td>\n",
              "      <td>26.7</td>\n",
              "      <td>1.15</td>\n",
              "      <td>83.0</td>\n",
              "    </tr>\n",
              "    <tr>\n",
              "      <th>2020-06-30 21:00:00</th>\n",
              "      <td>15.0</td>\n",
              "      <td>250</td>\n",
              "      <td>19</td>\n",
              "      <td>26.7</td>\n",
              "      <td>1.15</td>\n",
              "      <td>83.0</td>\n",
              "    </tr>\n",
              "    <tr>\n",
              "      <th>2020-06-30 22:00:00</th>\n",
              "      <td>20.0</td>\n",
              "      <td>260</td>\n",
              "      <td>23</td>\n",
              "      <td>25.9</td>\n",
              "      <td>2.35</td>\n",
              "      <td>85.0</td>\n",
              "    </tr>\n",
              "    <tr>\n",
              "      <th>2020-06-30 23:00:00</th>\n",
              "      <td>21.0</td>\n",
              "      <td>260</td>\n",
              "      <td>23</td>\n",
              "      <td>25.9</td>\n",
              "      <td>2.35</td>\n",
              "      <td>85.0</td>\n",
              "    </tr>\n",
              "  </tbody>\n",
              "</table>\n",
              "<p>15336 rows × 6 columns</p>\n",
              "</div>"
            ],
            "text/plain": [
              "                     PM2.5  wind dir  wind speed  temp  so2 (ug/m^3)    RH\n",
              "date_time                                                                 \n",
              "2018-10-01 00:00:00   22.0       200           3  26.6          2.03  85.0\n",
              "2018-10-01 01:00:00   17.0        90           3  25.8          2.92  87.0\n",
              "2018-10-01 02:00:00   13.0        90           3  25.8          2.92  87.0\n",
              "2018-10-01 03:00:00   12.0        90           3  25.8          2.92  87.0\n",
              "2018-10-01 04:00:00   11.0       105           1  25.2          3.08  89.0\n",
              "...                    ...       ...         ...   ...           ...   ...\n",
              "2020-06-30 19:00:00   29.0       250          19  26.7          1.15  83.0\n",
              "2020-06-30 20:00:00   16.0       250          19  26.7          1.15  83.0\n",
              "2020-06-30 21:00:00   15.0       250          19  26.7          1.15  83.0\n",
              "2020-06-30 22:00:00   20.0       260          23  25.9          2.35  85.0\n",
              "2020-06-30 23:00:00   21.0       260          23  25.9          2.35  85.0\n",
              "\n",
              "[15336 rows x 6 columns]"
            ]
          },
          "execution_count": 52,
          "metadata": {},
          "output_type": "execute_result"
        }
      ],
      "source": [
        "data = df_train.merge(df_weather_wind,left_index=True,right_index=True)\n",
        "data = data.merge(df_temp_surface,left_index=True,right_index=True)\n",
        "data = data.merge(df_so2,left_index=True,right_index=True)\n",
        "data = data.merge(df_rh,left_index=True,right_index=True)\n",
        "data"
      ]
    },
    {
      "cell_type": "code",
      "execution_count": 53,
      "metadata": {
        "id": "ispJBk33Bmsh"
      },
      "outputs": [],
      "source": [
        "df_temp_test_0 = pd.DataFrame({'date_time': ['07/01/2020 00:00:00'], 'temp':[0]})\n",
        "df_temp_test_0 = format_datetime(df_temp_test_0)\n",
        "df_wind_test_0 = pd.DataFrame({'date_time': ['07/01/2020 00:00:00'], 'wind dir':[0],'wind speed':[0]})\n",
        "df_wind_test_0 = format_datetime(df_wind_test_0)\n",
        "df_so2_test_0 = pd.DataFrame({'date_time': ['07/01/2020 00:00:00'], 'so2 (ug/m^3)':[0]})\n",
        "df_so2_test_0 = format_datetime(df_so2_test_0)\n",
        "df_rh_test_0 = pd.DataFrame({'date_time': ['07/01/2020 00:00:00'], 'RH':[0]})\n",
        "df_rh_test_0 = format_datetime(df_rh_test_0)"
      ]
    },
    {
      "cell_type": "code",
      "execution_count": 54,
      "metadata": {
        "id": "ymkwmgV5Ld1R"
      },
      "outputs": [],
      "source": [
        "df_temp_test_1 = pd.DataFrame({'date_time': ['07/01/2021 23:00:00'], 'temp':[df_temp_surface_test['temp'].iloc[8781]]})\n",
        "df_temp_test_1 = format_datetime(df_temp_test_1)\n",
        "df_wind_test_1 = pd.DataFrame({'date_time': ['07/01/2021 23:00:00'], 'wind dir':[df_weather_wind_test['wind dir'].iloc[8781]],'wind speed':[df_weather_wind_test['wind speed'].iloc[8781]]})\n",
        "df_wind_test_1 = format_datetime(df_wind_test_1)\n",
        "df_so2_test_1 = pd.DataFrame({'date_time': ['07/01/2021 23:00:00'], 'so2 (ug/m^3)':[df_so2_test['so2 (ug/m^3)'].iloc[8781]]})\n",
        "df_so2_test_1 = format_datetime(df_so2_test_1)\n",
        "df_rh_test_1 = pd.DataFrame({'date_time': ['07/01/2021 23:00:00'], 'RH':[df_rh_test['RH'].iloc[8781]]})\n",
        "df_rh_test_1 = format_datetime(df_rh_test_1)"
      ]
    },
    {
      "cell_type": "code",
      "execution_count": 55,
      "metadata": {
        "id": "CUVH6KIzBvDO"
      },
      "outputs": [],
      "source": [
        "df_temp_surface_test = pd.concat([df_temp_test_0,df_temp_surface_test,df_temp_test_1])\n",
        "df_weather_wind_test = pd.concat([df_wind_test_0,df_weather_wind_test,df_wind_test_1])\n",
        "df_so2_test = pd.concat([df_so2_test_0,df_so2_test,df_so2_test_1])\n",
        "df_rh_test = pd.concat([df_rh_test_0,df_rh_test,df_rh_test_1])"
      ]
    },
    {
      "cell_type": "code",
      "execution_count": 56,
      "metadata": {
        "colab": {
          "base_uri": "https://localhost:8080/",
          "height": 455
        },
        "id": "BZGyRQIvlHHM",
        "outputId": "a96947b5-4b3b-4e25-e64a-2d1a6a9870db"
      },
      "outputs": [
        {
          "data": {
            "text/html": [
              "<div>\n",
              "<style scoped>\n",
              "    .dataframe tbody tr th:only-of-type {\n",
              "        vertical-align: middle;\n",
              "    }\n",
              "\n",
              "    .dataframe tbody tr th {\n",
              "        vertical-align: top;\n",
              "    }\n",
              "\n",
              "    .dataframe thead th {\n",
              "        text-align: right;\n",
              "    }\n",
              "</style>\n",
              "<table border=\"1\" class=\"dataframe\">\n",
              "  <thead>\n",
              "    <tr style=\"text-align: right;\">\n",
              "      <th></th>\n",
              "      <th>PM2.5</th>\n",
              "      <th>temp</th>\n",
              "      <th>wind dir</th>\n",
              "      <th>wind speed</th>\n",
              "      <th>so2 (ug/m^3)</th>\n",
              "      <th>RH</th>\n",
              "    </tr>\n",
              "    <tr>\n",
              "      <th>date_time</th>\n",
              "      <th></th>\n",
              "      <th></th>\n",
              "      <th></th>\n",
              "      <th></th>\n",
              "      <th></th>\n",
              "      <th></th>\n",
              "    </tr>\n",
              "  </thead>\n",
              "  <tbody>\n",
              "    <tr>\n",
              "      <th>2020-07-01 00:00:00</th>\n",
              "      <td>19.0</td>\n",
              "      <td>0.0</td>\n",
              "      <td>0</td>\n",
              "      <td>0</td>\n",
              "      <td>0.00</td>\n",
              "      <td>0.0</td>\n",
              "    </tr>\n",
              "    <tr>\n",
              "      <th>2020-07-01 01:00:00</th>\n",
              "      <td>22.0</td>\n",
              "      <td>25.2</td>\n",
              "      <td>255</td>\n",
              "      <td>21</td>\n",
              "      <td>2.76</td>\n",
              "      <td>88.0</td>\n",
              "    </tr>\n",
              "    <tr>\n",
              "      <th>2020-07-01 02:00:00</th>\n",
              "      <td>28.0</td>\n",
              "      <td>25.2</td>\n",
              "      <td>255</td>\n",
              "      <td>21</td>\n",
              "      <td>2.76</td>\n",
              "      <td>88.0</td>\n",
              "    </tr>\n",
              "    <tr>\n",
              "      <th>2020-07-01 03:00:00</th>\n",
              "      <td>25.0</td>\n",
              "      <td>25.2</td>\n",
              "      <td>255</td>\n",
              "      <td>21</td>\n",
              "      <td>2.76</td>\n",
              "      <td>88.0</td>\n",
              "    </tr>\n",
              "    <tr>\n",
              "      <th>2020-07-01 04:00:00</th>\n",
              "      <td>19.0</td>\n",
              "      <td>24.7</td>\n",
              "      <td>255</td>\n",
              "      <td>29</td>\n",
              "      <td>3.54</td>\n",
              "      <td>90.0</td>\n",
              "    </tr>\n",
              "    <tr>\n",
              "      <th>...</th>\n",
              "      <td>...</td>\n",
              "      <td>...</td>\n",
              "      <td>...</td>\n",
              "      <td>...</td>\n",
              "      <td>...</td>\n",
              "      <td>...</td>\n",
              "    </tr>\n",
              "    <tr>\n",
              "      <th>2021-07-01 19:00:00</th>\n",
              "      <td>13.0</td>\n",
              "      <td>26.8</td>\n",
              "      <td>245</td>\n",
              "      <td>9</td>\n",
              "      <td>1.16</td>\n",
              "      <td>79.0</td>\n",
              "    </tr>\n",
              "    <tr>\n",
              "      <th>2021-07-01 20:00:00</th>\n",
              "      <td>13.0</td>\n",
              "      <td>26.8</td>\n",
              "      <td>245</td>\n",
              "      <td>9</td>\n",
              "      <td>1.16</td>\n",
              "      <td>79.0</td>\n",
              "    </tr>\n",
              "    <tr>\n",
              "      <th>2021-07-01 21:00:00</th>\n",
              "      <td>14.0</td>\n",
              "      <td>26.8</td>\n",
              "      <td>245</td>\n",
              "      <td>9</td>\n",
              "      <td>1.16</td>\n",
              "      <td>79.0</td>\n",
              "    </tr>\n",
              "    <tr>\n",
              "      <th>2021-07-01 22:00:00</th>\n",
              "      <td>14.0</td>\n",
              "      <td>25.7</td>\n",
              "      <td>235</td>\n",
              "      <td>9</td>\n",
              "      <td>1.65</td>\n",
              "      <td>83.0</td>\n",
              "    </tr>\n",
              "    <tr>\n",
              "      <th>2021-07-01 23:00:00</th>\n",
              "      <td>14.0</td>\n",
              "      <td>25.7</td>\n",
              "      <td>235</td>\n",
              "      <td>9</td>\n",
              "      <td>1.65</td>\n",
              "      <td>83.0</td>\n",
              "    </tr>\n",
              "  </tbody>\n",
              "</table>\n",
              "<p>8784 rows × 6 columns</p>\n",
              "</div>"
            ],
            "text/plain": [
              "                     PM2.5  temp  wind dir  wind speed  so2 (ug/m^3)    RH\n",
              "date_time                                                                 \n",
              "2020-07-01 00:00:00   19.0   0.0         0           0          0.00   0.0\n",
              "2020-07-01 01:00:00   22.0  25.2       255          21          2.76  88.0\n",
              "2020-07-01 02:00:00   28.0  25.2       255          21          2.76  88.0\n",
              "2020-07-01 03:00:00   25.0  25.2       255          21          2.76  88.0\n",
              "2020-07-01 04:00:00   19.0  24.7       255          29          3.54  90.0\n",
              "...                    ...   ...       ...         ...           ...   ...\n",
              "2021-07-01 19:00:00   13.0  26.8       245           9          1.16  79.0\n",
              "2021-07-01 20:00:00   13.0  26.8       245           9          1.16  79.0\n",
              "2021-07-01 21:00:00   14.0  26.8       245           9          1.16  79.0\n",
              "2021-07-01 22:00:00   14.0  25.7       235           9          1.65  83.0\n",
              "2021-07-01 23:00:00   14.0  25.7       235           9          1.65  83.0\n",
              "\n",
              "[8784 rows x 6 columns]"
            ]
          },
          "execution_count": 56,
          "metadata": {},
          "output_type": "execute_result"
        }
      ],
      "source": [
        "test = df_test.merge(df_temp_surface_test,left_index=True,right_index=True)\n",
        "test['wind dir'] = df_weather_wind_test['wind dir'].values\n",
        "test['wind speed'] = df_weather_wind_test['wind speed'].values\n",
        "test = test.merge(df_so2_test,left_index=True,right_index=True)\n",
        "test = test.merge(df_rh_test,left_index=True,right_index=True)\n",
        "test"
      ]
    },
    {
      "cell_type": "markdown",
      "metadata": {
        "id": "6WiW47FdZg9Y"
      },
      "source": [
        "# Split data"
      ]
    },
    {
      "cell_type": "code",
      "execution_count": 25,
      "metadata": {
        "id": "iVYrrQiOZG47"
      },
      "outputs": [],
      "source": [
        "#train_size, valid_size = map(lambda r: int(r*data.shape[0]), (0.7, 0.3))"
      ]
    },
    {
      "cell_type": "code",
      "execution_count": 57,
      "metadata": {
        "id": "O2lSehXsaGhs"
      },
      "outputs": [],
      "source": [
        "#train, valid = data.iloc[:train_size], data.iloc[train_size:]\n",
        "train = data"
      ]
    },
    {
      "cell_type": "code",
      "execution_count": 58,
      "metadata": {
        "colab": {
          "base_uri": "https://localhost:8080/"
        },
        "id": "ZVHqx18OaOaU",
        "outputId": "a515d89d-b24a-47dc-ce59-e1096c48d88c"
      },
      "outputs": [
        {
          "data": {
            "text/plain": [
              "(15336, 6)"
            ]
          },
          "execution_count": 58,
          "metadata": {},
          "output_type": "execute_result"
        }
      ],
      "source": [
        "train.shape"
      ]
    },
    {
      "cell_type": "code",
      "execution_count": 59,
      "metadata": {
        "colab": {
          "base_uri": "https://localhost:8080/"
        },
        "id": "MBG0lkyAaWw2",
        "outputId": "24a3a759-1c29-47c9-f120-ac272ab1ef2f"
      },
      "outputs": [],
      "source": [
        "#valid.shape"
      ]
    },
    {
      "cell_type": "code",
      "execution_count": 60,
      "metadata": {
        "id": "HFxQ-2daaYKa"
      },
      "outputs": [],
      "source": [
        "exog_columns = ['wind speed','wind dir','temp','so2 (ug/m^3)','RH']"
      ]
    },
    {
      "cell_type": "markdown",
      "metadata": {
        "id": "C3uAHge0aq9t"
      },
      "source": [
        "# Fit model with exogenous data"
      ]
    },
    {
      "cell_type": "code",
      "execution_count": 62,
      "metadata": {
        "colab": {
          "base_uri": "https://localhost:8080/"
        },
        "id": "tLH3InIiagQ9",
        "outputId": "983b0778-f869-4e4d-c9b4-253cb300efe8"
      },
      "outputs": [],
      "source": [
        "from sklearn.metrics import mean_squared_error\n",
        "from statsmodels.tsa.statespace.sarimax import SARIMAX"
      ]
    },
    {
      "cell_type": "code",
      "execution_count": 63,
      "metadata": {
        "id": "fqHmiViaVvNQ"
      },
      "outputs": [],
      "source": [
        "from sklearn.model_selection import GridSearchCV"
      ]
    },
    {
      "cell_type": "code",
      "execution_count": 64,
      "metadata": {
        "id": "f5J6kQzGgRh6"
      },
      "outputs": [],
      "source": [
        "import math"
      ]
    },
    {
      "cell_type": "code",
      "execution_count": 65,
      "metadata": {
        "colab": {
          "base_uri": "https://localhost:8080/"
        },
        "id": "Er4Hz7wSDJ-7",
        "outputId": "0c1a55ee-aef7-4d4f-a84d-f345667c793f"
      },
      "outputs": [
        {
          "name": "stderr",
          "output_type": "stream",
          "text": [
            "C:\\Users\\Amin pc\\AppData\\Local\\Packages\\PythonSoftwareFoundation.Python.3.10_qbz5n2kfra8p0\\LocalCache\\local-packages\\Python310\\site-packages\\statsmodels\\tsa\\base\\tsa_model.py:471: ValueWarning: No frequency information was provided, so inferred frequency H will be used.\n",
            "  self._init_dates(dates, freq)\n",
            "C:\\Users\\Amin pc\\AppData\\Local\\Packages\\PythonSoftwareFoundation.Python.3.10_qbz5n2kfra8p0\\LocalCache\\local-packages\\Python310\\site-packages\\statsmodels\\base\\model.py:604: ConvergenceWarning: Maximum Likelihood optimization failed to converge. Check mle_retvals\n",
            "  warnings.warn(\"Maximum Likelihood optimization failed to \"\n"
          ]
        },
        {
          "name": "stdout",
          "output_type": "stream",
          "text": [
            "SARIMAX(0, 0, 1)x(1, 0, 0, 12) - AIC:91437.12677484589 - MSE:8.234667039735678\n"
          ]
        },
        {
          "name": "stderr",
          "output_type": "stream",
          "text": [
            "C:\\Users\\Amin pc\\AppData\\Local\\Packages\\PythonSoftwareFoundation.Python.3.10_qbz5n2kfra8p0\\LocalCache\\local-packages\\Python310\\site-packages\\statsmodels\\tsa\\base\\tsa_model.py:471: ValueWarning: No frequency information was provided, so inferred frequency H will be used.\n",
            "  self._init_dates(dates, freq)\n",
            "C:\\Users\\Amin pc\\AppData\\Local\\Packages\\PythonSoftwareFoundation.Python.3.10_qbz5n2kfra8p0\\LocalCache\\local-packages\\Python310\\site-packages\\statsmodels\\base\\model.py:604: ConvergenceWarning: Maximum Likelihood optimization failed to converge. Check mle_retvals\n",
            "  warnings.warn(\"Maximum Likelihood optimization failed to \"\n"
          ]
        },
        {
          "name": "stdout",
          "output_type": "stream",
          "text": [
            "SARIMAX(0, 0, 1)x(0, 0, 1, 12) - AIC:92373.6865588614 - MSE:8.109153860901166\n"
          ]
        },
        {
          "name": "stderr",
          "output_type": "stream",
          "text": [
            "C:\\Users\\Amin pc\\AppData\\Local\\Packages\\PythonSoftwareFoundation.Python.3.10_qbz5n2kfra8p0\\LocalCache\\local-packages\\Python310\\site-packages\\statsmodels\\tsa\\base\\tsa_model.py:471: ValueWarning: No frequency information was provided, so inferred frequency H will be used.\n",
            "  self._init_dates(dates, freq)\n"
          ]
        },
        {
          "name": "stdout",
          "output_type": "stream",
          "text": [
            "SARIMAX(0, 0, 1)x(1, 1, 0, 12) - AIC:90613.58779861315 - MSE:10.235916349231948\n"
          ]
        },
        {
          "name": "stderr",
          "output_type": "stream",
          "text": [
            "C:\\Users\\Amin pc\\AppData\\Local\\Packages\\PythonSoftwareFoundation.Python.3.10_qbz5n2kfra8p0\\LocalCache\\local-packages\\Python310\\site-packages\\statsmodels\\tsa\\base\\tsa_model.py:471: ValueWarning: No frequency information was provided, so inferred frequency H will be used.\n",
            "  self._init_dates(dates, freq)\n"
          ]
        },
        {
          "name": "stdout",
          "output_type": "stream",
          "text": [
            "SARIMAX(0, 0, 1)x(0, 1, 1, 12) - AIC:89035.61310329006 - MSE:7.782467572912442\n"
          ]
        },
        {
          "name": "stderr",
          "output_type": "stream",
          "text": [
            "C:\\Users\\Amin pc\\AppData\\Local\\Packages\\PythonSoftwareFoundation.Python.3.10_qbz5n2kfra8p0\\LocalCache\\local-packages\\Python310\\site-packages\\statsmodels\\tsa\\base\\tsa_model.py:471: ValueWarning: No frequency information was provided, so inferred frequency H will be used.\n",
            "  self._init_dates(dates, freq)\n"
          ]
        },
        {
          "name": "stdout",
          "output_type": "stream",
          "text": [
            "SARIMAX(0, 1, 1)x(1, 0, 0, 12) - AIC:82215.44484609074 - MSE:8.274346241121558\n"
          ]
        },
        {
          "name": "stderr",
          "output_type": "stream",
          "text": [
            "C:\\Users\\Amin pc\\AppData\\Local\\Packages\\PythonSoftwareFoundation.Python.3.10_qbz5n2kfra8p0\\LocalCache\\local-packages\\Python310\\site-packages\\statsmodels\\tsa\\base\\tsa_model.py:471: ValueWarning: No frequency information was provided, so inferred frequency H will be used.\n",
            "  self._init_dates(dates, freq)\n"
          ]
        },
        {
          "name": "stdout",
          "output_type": "stream",
          "text": [
            "SARIMAX(0, 1, 1)x(0, 0, 1, 12) - AIC:82311.63746841514 - MSE:8.394820617775231\n"
          ]
        },
        {
          "name": "stderr",
          "output_type": "stream",
          "text": [
            "C:\\Users\\Amin pc\\AppData\\Local\\Packages\\PythonSoftwareFoundation.Python.3.10_qbz5n2kfra8p0\\LocalCache\\local-packages\\Python310\\site-packages\\statsmodels\\tsa\\base\\tsa_model.py:471: ValueWarning: No frequency information was provided, so inferred frequency H will be used.\n",
            "  self._init_dates(dates, freq)\n"
          ]
        },
        {
          "name": "stdout",
          "output_type": "stream",
          "text": [
            "SARIMAX(0, 1, 1)x(1, 1, 0, 12) - AIC:84920.41463677885 - MSE:972.5142377849372\n"
          ]
        },
        {
          "name": "stderr",
          "output_type": "stream",
          "text": [
            "C:\\Users\\Amin pc\\AppData\\Local\\Packages\\PythonSoftwareFoundation.Python.3.10_qbz5n2kfra8p0\\LocalCache\\local-packages\\Python310\\site-packages\\statsmodels\\tsa\\base\\tsa_model.py:471: ValueWarning: No frequency information was provided, so inferred frequency H will be used.\n",
            "  self._init_dates(dates, freq)\n"
          ]
        },
        {
          "name": "stdout",
          "output_type": "stream",
          "text": [
            "SARIMAX(0, 1, 1)x(0, 1, 1, 12) - AIC:81529.46497984967 - MSE:52.54020227521851\n"
          ]
        },
        {
          "name": "stderr",
          "output_type": "stream",
          "text": [
            "C:\\Users\\Amin pc\\AppData\\Local\\Packages\\PythonSoftwareFoundation.Python.3.10_qbz5n2kfra8p0\\LocalCache\\local-packages\\Python310\\site-packages\\statsmodels\\tsa\\base\\tsa_model.py:471: ValueWarning: No frequency information was provided, so inferred frequency H will be used.\n",
            "  self._init_dates(dates, freq)\n",
            "C:\\Users\\Amin pc\\AppData\\Local\\Packages\\PythonSoftwareFoundation.Python.3.10_qbz5n2kfra8p0\\LocalCache\\local-packages\\Python310\\site-packages\\statsmodels\\base\\model.py:604: ConvergenceWarning: Maximum Likelihood optimization failed to converge. Check mle_retvals\n",
            "  warnings.warn(\"Maximum Likelihood optimization failed to \"\n"
          ]
        },
        {
          "name": "stdout",
          "output_type": "stream",
          "text": [
            "SARIMAX(0, 2, 1)x(1, 0, 0, 12) - AIC:82956.72782284298 - MSE:8.502210666603288\n"
          ]
        },
        {
          "name": "stderr",
          "output_type": "stream",
          "text": [
            "C:\\Users\\Amin pc\\AppData\\Local\\Packages\\PythonSoftwareFoundation.Python.3.10_qbz5n2kfra8p0\\LocalCache\\local-packages\\Python310\\site-packages\\statsmodels\\tsa\\base\\tsa_model.py:471: ValueWarning: No frequency information was provided, so inferred frequency H will be used.\n",
            "  self._init_dates(dates, freq)\n",
            "C:\\Users\\Amin pc\\AppData\\Local\\Packages\\PythonSoftwareFoundation.Python.3.10_qbz5n2kfra8p0\\LocalCache\\local-packages\\Python310\\site-packages\\statsmodels\\base\\model.py:604: ConvergenceWarning: Maximum Likelihood optimization failed to converge. Check mle_retvals\n",
            "  warnings.warn(\"Maximum Likelihood optimization failed to \"\n"
          ]
        },
        {
          "name": "stdout",
          "output_type": "stream",
          "text": [
            "SARIMAX(0, 2, 1)x(0, 0, 1, 12) - AIC:83042.79570418279 - MSE:8.453281190956748\n"
          ]
        },
        {
          "name": "stderr",
          "output_type": "stream",
          "text": [
            "C:\\Users\\Amin pc\\AppData\\Local\\Packages\\PythonSoftwareFoundation.Python.3.10_qbz5n2kfra8p0\\LocalCache\\local-packages\\Python310\\site-packages\\statsmodels\\tsa\\base\\tsa_model.py:471: ValueWarning: No frequency information was provided, so inferred frequency H will be used.\n",
            "  self._init_dates(dates, freq)\n",
            "C:\\Users\\Amin pc\\AppData\\Local\\Packages\\PythonSoftwareFoundation.Python.3.10_qbz5n2kfra8p0\\LocalCache\\local-packages\\Python310\\site-packages\\statsmodels\\base\\model.py:604: ConvergenceWarning: Maximum Likelihood optimization failed to converge. Check mle_retvals\n",
            "  warnings.warn(\"Maximum Likelihood optimization failed to \"\n"
          ]
        },
        {
          "name": "stdout",
          "output_type": "stream",
          "text": [
            "SARIMAX(0, 2, 1)x(1, 1, 0, 12) - AIC:85277.66769581231 - MSE:605.9168444705164\n"
          ]
        },
        {
          "name": "stderr",
          "output_type": "stream",
          "text": [
            "C:\\Users\\Amin pc\\AppData\\Local\\Packages\\PythonSoftwareFoundation.Python.3.10_qbz5n2kfra8p0\\LocalCache\\local-packages\\Python310\\site-packages\\statsmodels\\tsa\\base\\tsa_model.py:471: ValueWarning: No frequency information was provided, so inferred frequency H will be used.\n",
            "  self._init_dates(dates, freq)\n",
            "C:\\Users\\Amin pc\\AppData\\Local\\Packages\\PythonSoftwareFoundation.Python.3.10_qbz5n2kfra8p0\\LocalCache\\local-packages\\Python310\\site-packages\\statsmodels\\base\\model.py:604: ConvergenceWarning: Maximum Likelihood optimization failed to converge. Check mle_retvals\n",
            "  warnings.warn(\"Maximum Likelihood optimization failed to \"\n"
          ]
        },
        {
          "name": "stdout",
          "output_type": "stream",
          "text": [
            "SARIMAX(0, 2, 1)x(0, 1, 1, 12) - AIC:82064.1576419402 - MSE:137.47575340653125\n"
          ]
        },
        {
          "name": "stderr",
          "output_type": "stream",
          "text": [
            "C:\\Users\\Amin pc\\AppData\\Local\\Packages\\PythonSoftwareFoundation.Python.3.10_qbz5n2kfra8p0\\LocalCache\\local-packages\\Python310\\site-packages\\statsmodels\\tsa\\base\\tsa_model.py:471: ValueWarning: No frequency information was provided, so inferred frequency H will be used.\n",
            "  self._init_dates(dates, freq)\n"
          ]
        },
        {
          "name": "stdout",
          "output_type": "stream",
          "text": [
            "SARIMAX(1, 0, 0)x(1, 0, 0, 12) - AIC:82183.38874700881 - MSE:8.423357652599677\n"
          ]
        },
        {
          "name": "stderr",
          "output_type": "stream",
          "text": [
            "C:\\Users\\Amin pc\\AppData\\Local\\Packages\\PythonSoftwareFoundation.Python.3.10_qbz5n2kfra8p0\\LocalCache\\local-packages\\Python310\\site-packages\\statsmodels\\tsa\\base\\tsa_model.py:471: ValueWarning: No frequency information was provided, so inferred frequency H will be used.\n",
            "  self._init_dates(dates, freq)\n"
          ]
        },
        {
          "name": "stdout",
          "output_type": "stream",
          "text": [
            "SARIMAX(1, 0, 0)x(0, 0, 1, 12) - AIC:82343.83178522726 - MSE:8.4234174618264\n"
          ]
        },
        {
          "name": "stderr",
          "output_type": "stream",
          "text": [
            "C:\\Users\\Amin pc\\AppData\\Local\\Packages\\PythonSoftwareFoundation.Python.3.10_qbz5n2kfra8p0\\LocalCache\\local-packages\\Python310\\site-packages\\statsmodels\\tsa\\base\\tsa_model.py:471: ValueWarning: No frequency information was provided, so inferred frequency H will be used.\n",
            "  self._init_dates(dates, freq)\n"
          ]
        },
        {
          "name": "stdout",
          "output_type": "stream",
          "text": [
            "SARIMAX(1, 0, 0)x(1, 1, 0, 12) - AIC:84026.25779213196 - MSE:9.78722225742452\n"
          ]
        },
        {
          "name": "stderr",
          "output_type": "stream",
          "text": [
            "C:\\Users\\Amin pc\\AppData\\Local\\Packages\\PythonSoftwareFoundation.Python.3.10_qbz5n2kfra8p0\\LocalCache\\local-packages\\Python310\\site-packages\\statsmodels\\tsa\\base\\tsa_model.py:471: ValueWarning: No frequency information was provided, so inferred frequency H will be used.\n",
            "  self._init_dates(dates, freq)\n"
          ]
        },
        {
          "name": "stdout",
          "output_type": "stream",
          "text": [
            "SARIMAX(1, 0, 0)x(0, 1, 1, 12) - AIC:81105.89190400598 - MSE:7.997640999576888\n"
          ]
        },
        {
          "name": "stderr",
          "output_type": "stream",
          "text": [
            "C:\\Users\\Amin pc\\AppData\\Local\\Packages\\PythonSoftwareFoundation.Python.3.10_qbz5n2kfra8p0\\LocalCache\\local-packages\\Python310\\site-packages\\statsmodels\\tsa\\base\\tsa_model.py:471: ValueWarning: No frequency information was provided, so inferred frequency H will be used.\n",
            "  self._init_dates(dates, freq)\n"
          ]
        },
        {
          "name": "stdout",
          "output_type": "stream",
          "text": [
            "SARIMAX(1, 1, 0)x(1, 0, 0, 12) - AIC:82441.91565347768 - MSE:8.26355658493409\n"
          ]
        },
        {
          "name": "stderr",
          "output_type": "stream",
          "text": [
            "C:\\Users\\Amin pc\\AppData\\Local\\Packages\\PythonSoftwareFoundation.Python.3.10_qbz5n2kfra8p0\\LocalCache\\local-packages\\Python310\\site-packages\\statsmodels\\tsa\\base\\tsa_model.py:471: ValueWarning: No frequency information was provided, so inferred frequency H will be used.\n",
            "  self._init_dates(dates, freq)\n"
          ]
        },
        {
          "name": "stdout",
          "output_type": "stream",
          "text": [
            "SARIMAX(1, 1, 0)x(0, 0, 1, 12) - AIC:82574.53427160472 - MSE:8.410491309989112\n"
          ]
        },
        {
          "name": "stderr",
          "output_type": "stream",
          "text": [
            "C:\\Users\\Amin pc\\AppData\\Local\\Packages\\PythonSoftwareFoundation.Python.3.10_qbz5n2kfra8p0\\LocalCache\\local-packages\\Python310\\site-packages\\statsmodels\\tsa\\base\\tsa_model.py:471: ValueWarning: No frequency information was provided, so inferred frequency H will be used.\n",
            "  self._init_dates(dates, freq)\n"
          ]
        },
        {
          "name": "stdout",
          "output_type": "stream",
          "text": [
            "SARIMAX(1, 1, 0)x(1, 1, 0, 12) - AIC:85000.358032374 - MSE:1018.0820073083801\n"
          ]
        },
        {
          "name": "stderr",
          "output_type": "stream",
          "text": [
            "C:\\Users\\Amin pc\\AppData\\Local\\Packages\\PythonSoftwareFoundation.Python.3.10_qbz5n2kfra8p0\\LocalCache\\local-packages\\Python310\\site-packages\\statsmodels\\tsa\\base\\tsa_model.py:471: ValueWarning: No frequency information was provided, so inferred frequency H will be used.\n",
            "  self._init_dates(dates, freq)\n"
          ]
        },
        {
          "name": "stdout",
          "output_type": "stream",
          "text": [
            "SARIMAX(1, 1, 0)x(0, 1, 1, 12) - AIC:81712.33943099767 - MSE:36.793677322026944\n"
          ]
        },
        {
          "name": "stderr",
          "output_type": "stream",
          "text": [
            "C:\\Users\\Amin pc\\AppData\\Local\\Packages\\PythonSoftwareFoundation.Python.3.10_qbz5n2kfra8p0\\LocalCache\\local-packages\\Python310\\site-packages\\statsmodels\\tsa\\base\\tsa_model.py:471: ValueWarning: No frequency information was provided, so inferred frequency H will be used.\n",
            "  self._init_dates(dates, freq)\n"
          ]
        },
        {
          "name": "stdout",
          "output_type": "stream",
          "text": [
            "SARIMAX(1, 2, 0)x(1, 0, 0, 12) - AIC:88990.55846371113 - MSE:13078.639448539801\n"
          ]
        },
        {
          "name": "stderr",
          "output_type": "stream",
          "text": [
            "C:\\Users\\Amin pc\\AppData\\Local\\Packages\\PythonSoftwareFoundation.Python.3.10_qbz5n2kfra8p0\\LocalCache\\local-packages\\Python310\\site-packages\\statsmodels\\tsa\\base\\tsa_model.py:471: ValueWarning: No frequency information was provided, so inferred frequency H will be used.\n",
            "  self._init_dates(dates, freq)\n"
          ]
        },
        {
          "name": "stdout",
          "output_type": "stream",
          "text": [
            "SARIMAX(1, 2, 0)x(0, 0, 1, 12) - AIC:89234.19478192445 - MSE:12008.701211806247\n"
          ]
        },
        {
          "name": "stderr",
          "output_type": "stream",
          "text": [
            "C:\\Users\\Amin pc\\AppData\\Local\\Packages\\PythonSoftwareFoundation.Python.3.10_qbz5n2kfra8p0\\LocalCache\\local-packages\\Python310\\site-packages\\statsmodels\\tsa\\base\\tsa_model.py:471: ValueWarning: No frequency information was provided, so inferred frequency H will be used.\n",
            "  self._init_dates(dates, freq)\n"
          ]
        },
        {
          "name": "stdout",
          "output_type": "stream",
          "text": [
            "SARIMAX(1, 2, 0)x(1, 1, 0, 12) - AIC:91614.8614625647 - MSE:144362.53747513358\n"
          ]
        },
        {
          "name": "stderr",
          "output_type": "stream",
          "text": [
            "C:\\Users\\Amin pc\\AppData\\Local\\Packages\\PythonSoftwareFoundation.Python.3.10_qbz5n2kfra8p0\\LocalCache\\local-packages\\Python310\\site-packages\\statsmodels\\tsa\\base\\tsa_model.py:471: ValueWarning: No frequency information was provided, so inferred frequency H will be used.\n",
            "  self._init_dates(dates, freq)\n"
          ]
        },
        {
          "name": "stdout",
          "output_type": "stream",
          "text": [
            "SARIMAX(1, 2, 0)x(0, 1, 1, 12) - AIC:88426.5292986318 - MSE:167191.03326452803\n"
          ]
        },
        {
          "name": "stderr",
          "output_type": "stream",
          "text": [
            "C:\\Users\\Amin pc\\AppData\\Local\\Packages\\PythonSoftwareFoundation.Python.3.10_qbz5n2kfra8p0\\LocalCache\\local-packages\\Python310\\site-packages\\statsmodels\\tsa\\base\\tsa_model.py:471: ValueWarning: No frequency information was provided, so inferred frequency H will be used.\n",
            "  self._init_dates(dates, freq)\n",
            "C:\\Users\\Amin pc\\AppData\\Local\\Packages\\PythonSoftwareFoundation.Python.3.10_qbz5n2kfra8p0\\LocalCache\\local-packages\\Python310\\site-packages\\statsmodels\\base\\model.py:604: ConvergenceWarning: Maximum Likelihood optimization failed to converge. Check mle_retvals\n",
            "  warnings.warn(\"Maximum Likelihood optimization failed to \"\n"
          ]
        },
        {
          "name": "stdout",
          "output_type": "stream",
          "text": [
            "SARIMAX(0, 0, 2)x(1, 0, 0, 12) - AIC:86083.76095305852 - MSE:7.99389252667335\n"
          ]
        },
        {
          "name": "stderr",
          "output_type": "stream",
          "text": [
            "C:\\Users\\Amin pc\\AppData\\Local\\Packages\\PythonSoftwareFoundation.Python.3.10_qbz5n2kfra8p0\\LocalCache\\local-packages\\Python310\\site-packages\\statsmodels\\tsa\\base\\tsa_model.py:471: ValueWarning: No frequency information was provided, so inferred frequency H will be used.\n",
            "  self._init_dates(dates, freq)\n",
            "C:\\Users\\Amin pc\\AppData\\Local\\Packages\\PythonSoftwareFoundation.Python.3.10_qbz5n2kfra8p0\\LocalCache\\local-packages\\Python310\\site-packages\\statsmodels\\base\\model.py:604: ConvergenceWarning: Maximum Likelihood optimization failed to converge. Check mle_retvals\n",
            "  warnings.warn(\"Maximum Likelihood optimization failed to \"\n"
          ]
        },
        {
          "name": "stdout",
          "output_type": "stream",
          "text": [
            "SARIMAX(0, 0, 2)x(0, 0, 1, 12) - AIC:86409.58082575453 - MSE:7.960403485098606\n"
          ]
        },
        {
          "name": "stderr",
          "output_type": "stream",
          "text": [
            "C:\\Users\\Amin pc\\AppData\\Local\\Packages\\PythonSoftwareFoundation.Python.3.10_qbz5n2kfra8p0\\LocalCache\\local-packages\\Python310\\site-packages\\statsmodels\\tsa\\base\\tsa_model.py:471: ValueWarning: No frequency information was provided, so inferred frequency H will be used.\n",
            "  self._init_dates(dates, freq)\n"
          ]
        },
        {
          "name": "stdout",
          "output_type": "stream",
          "text": [
            "SARIMAX(0, 0, 2)x(1, 1, 0, 12) - AIC:86096.95909322746 - MSE:10.040389951963283\n"
          ]
        },
        {
          "name": "stderr",
          "output_type": "stream",
          "text": [
            "C:\\Users\\Amin pc\\AppData\\Local\\Packages\\PythonSoftwareFoundation.Python.3.10_qbz5n2kfra8p0\\LocalCache\\local-packages\\Python310\\site-packages\\statsmodels\\tsa\\base\\tsa_model.py:471: ValueWarning: No frequency information was provided, so inferred frequency H will be used.\n",
            "  self._init_dates(dates, freq)\n",
            "C:\\Users\\Amin pc\\AppData\\Local\\Packages\\PythonSoftwareFoundation.Python.3.10_qbz5n2kfra8p0\\LocalCache\\local-packages\\Python310\\site-packages\\statsmodels\\base\\model.py:604: ConvergenceWarning: Maximum Likelihood optimization failed to converge. Check mle_retvals\n",
            "  warnings.warn(\"Maximum Likelihood optimization failed to \"\n"
          ]
        },
        {
          "name": "stdout",
          "output_type": "stream",
          "text": [
            "SARIMAX(0, 0, 2)x(0, 1, 1, 12) - AIC:84147.36076916449 - MSE:7.509305032035035\n"
          ]
        }
      ],
      "source": [
        "pdq = [(0,0,1),(0,1,1),(0,2,1),(1,0,0),(1,1,0),(1,2,0),(0,0,2),]\n",
        "seasonal_pdq = [(1,0,0,12),(0,0,1,12),(1,1,0,12),(0,1,1,12)]\n",
        "params = [] \n",
        "params_s = [] \n",
        "aics = [] \n",
        "mses = []\n",
        "cnt = 0 \n",
        "for param in pdq:\n",
        "  for param_seasonal in seasonal_pdq:\n",
        "    mod = SARIMAX(train['PM2.5'],\n",
        "    exog=train[exog_columns],\n",
        "    order=param,\n",
        "    seasonal_order=param_seasonal,\n",
        "    freq='H',\n",
        "    enforce_stationarity=False,\n",
        "    enforce_invertibility=False)\n",
        "    results = mod.fit()\n",
        "    #test_exog = pd.concat((valid[exog_columns], test[exog_columns]), axis=0)\n",
        "    pred = results.get_prediction(start=test.index[0], end=test.index[-1], exog=test[exog_columns], dynamic=False)\n",
        "    pred_ci = pred.conf_int()\n",
        "    params.append(param)\n",
        "    params_s.append(param_seasonal)\n",
        "    aics.append(results.aic)\n",
        "    mse = mean_squared_error(test['PM2.5'], pred.predicted_mean)\n",
        "    rmse = math.sqrt(mse) \n",
        "    mses.append(rmse)\n",
        "    print('SARIMAX{}x{} - AIC:{} - MSE:{}'.format(param, param_seasonal,results.aic, mses[-1]))"
      ]
    },
    {
      "cell_type": "code",
      "execution_count": 66,
      "metadata": {
        "id": "r24ULIi_fckF"
      },
      "outputs": [
        {
          "data": {
            "text/plain": [
              "(15336, 6)"
            ]
          },
          "execution_count": 66,
          "metadata": {},
          "output_type": "execute_result"
        }
      ],
      "source": [
        "train.shape"
      ]
    },
    {
      "cell_type": "code",
      "execution_count": 67,
      "metadata": {},
      "outputs": [],
      "source": [
        "def getBestParams(inputlist):\n",
        " \n",
        "    #get the minimum value in the list\n",
        "    min_value = min(inputlist)\n",
        " \n",
        "    #return the index of minimum value \n",
        "    min_index=inputlist.index(min_value)\n",
        "    return params[min_index], params_s[min_index]"
      ]
    },
    {
      "cell_type": "code",
      "execution_count": 68,
      "metadata": {},
      "outputs": [],
      "source": [
        "bestPDQ, bestSeasonalPDQ = getBestParams(mses)"
      ]
    },
    {
      "cell_type": "code",
      "execution_count": 69,
      "metadata": {},
      "outputs": [
        {
          "name": "stdout",
          "output_type": "stream",
          "text": [
            "(0, 0, 2) (0, 1, 1, 12)\n"
          ]
        }
      ],
      "source": [
        "print(bestPDQ,bestSeasonalPDQ)"
      ]
    },
    {
      "cell_type": "code",
      "execution_count": 70,
      "metadata": {
        "id": "5hwH8CaUau55"
      },
      "outputs": [
        {
          "name": "stderr",
          "output_type": "stream",
          "text": [
            "C:\\Users\\Amin pc\\AppData\\Local\\Packages\\PythonSoftwareFoundation.Python.3.10_qbz5n2kfra8p0\\LocalCache\\local-packages\\Python310\\site-packages\\statsmodels\\tsa\\base\\tsa_model.py:471: ValueWarning: No frequency information was provided, so inferred frequency H will be used.\n",
            "  self._init_dates(dates, freq)\n",
            "C:\\Users\\Amin pc\\AppData\\Local\\Packages\\PythonSoftwareFoundation.Python.3.10_qbz5n2kfra8p0\\LocalCache\\local-packages\\Python310\\site-packages\\statsmodels\\tsa\\base\\tsa_model.py:471: ValueWarning: No frequency information was provided, so inferred frequency H will be used.\n",
            "  self._init_dates(dates, freq)\n",
            "C:\\Users\\Amin pc\\AppData\\Local\\Packages\\PythonSoftwareFoundation.Python.3.10_qbz5n2kfra8p0\\LocalCache\\local-packages\\Python310\\site-packages\\statsmodels\\base\\model.py:604: ConvergenceWarning: Maximum Likelihood optimization failed to converge. Check mle_retvals\n",
            "  warnings.warn(\"Maximum Likelihood optimization failed to \"\n"
          ]
        },
        {
          "name": "stdout",
          "output_type": "stream",
          "text": [
            "================================================================================\n",
            "                   coef    std err          z      P>|z|      [0.025      0.975]\n",
            "--------------------------------------------------------------------------------\n",
            "wind speed      -0.0524      0.006     -8.330      0.000      -0.065      -0.040\n",
            "wind dir        -0.0067      0.001     -8.186      0.000      -0.008      -0.005\n",
            "temp            -1.0956      0.077    -14.295      0.000      -1.246      -0.945\n",
            "so2 (ug/m^3)     1.8296      0.085     21.404      0.000       1.662       1.997\n",
            "RH              -0.2387      0.017    -13.968      0.000      -0.272      -0.205\n",
            "ma.L1            1.0342      0.005    213.877      0.000       1.025       1.044\n",
            "ma.L2            0.5097      0.005     93.790      0.000       0.499       0.520\n",
            "ma.S.L12        -0.8643      0.004   -236.224      0.000      -0.871      -0.857\n",
            "sigma2          14.2525      0.101    141.456      0.000      14.055      14.450\n",
            "================================================================================\n"
          ]
        }
      ],
      "source": [
        "mod = SARIMAX(train['PM2.5'],\n",
        "              exog=train[exog_columns],\n",
        "              order=bestPDQ,\n",
        "              seasonal_order=bestSeasonalPDQ,\n",
        "              enforce_stationarity=False,\n",
        "              enforce_invertibility=False)\n",
        "\n",
        "results = mod.fit()\n",
        "\n",
        "print(results.summary().tables[1])"
      ]
    },
    {
      "cell_type": "markdown",
      "metadata": {
        "id": "Ncm_E2bBckpa"
      },
      "source": [
        "# Predict on test"
      ]
    },
    {
      "cell_type": "code",
      "execution_count": 73,
      "metadata": {
        "id": "ffZEIbRgazBC"
      },
      "outputs": [],
      "source": [
        "# test_exog = pd.concat((valid[exog_columns], test[exog_columns]), axis=0)"
      ]
    },
    {
      "cell_type": "code",
      "execution_count": 74,
      "metadata": {
        "id": "x7Qaj6icbEZM"
      },
      "outputs": [],
      "source": [
        "pred = results.get_prediction(start=test.index[0], end=test.index[-1], exog=test[exog_columns], dynamic=False)\n",
        "pred_ci = pred.conf_int()"
      ]
    },
    {
      "cell_type": "code",
      "execution_count": 76,
      "metadata": {
        "colab": {
          "base_uri": "https://localhost:8080/",
          "height": 419
        },
        "id": "IRHFRthatSlD",
        "outputId": "a0123db8-1a1d-4f7d-e51a-00d6f4cc7124"
      },
      "outputs": [
        {
          "data": {
            "image/png": "[encoded data removed]",
            "text/plain": [
              "<Figure size 1440x480 with 1 Axes>"
            ]
          },
          "metadata": {},
          "output_type": "display_data"
        }
      ],
      "source": [
        "from matplotlib.pyplot import figure\n",
        "figure(num=None, figsize=(18, 6), dpi=80, facecolor='w', edgecolor='k')\n",
        "plt.plot(test['PM2.5'], color='g',label='ground truth')\n",
        "pred.predicted_mean.plot(alpha=.7, color='r',label='predict')\n",
        "plt.legend(loc=\"upper right\")\n",
        "\n",
        "plt.show()"
      ]
    },
    {
      "cell_type": "code",
      "execution_count": 77,
      "metadata": {
        "id": "4AF0i7xNtfzH"
      },
      "outputs": [],
      "source": [
        "import math"
      ]
    },
    {
      "cell_type": "code",
      "execution_count": 78,
      "metadata": {
        "colab": {
          "base_uri": "https://localhost:8080/"
        },
        "id": "q3j64mGOtT5x",
        "outputId": "bdcaddec-2f74-4f5f-8c82-6321fd8543b5"
      },
      "outputs": [
        {
          "name": "stdout",
          "output_type": "stream",
          "text": [
            "Test on SARIMAX with RMSE: 7.509305\n"
          ]
        }
      ],
      "source": [
        "mse = mean_squared_error(test['PM2.5'], pred.predicted_mean)\n",
        "rmse = math.sqrt(mse)\n",
        "print('Test on SARIMAX with RMSE: %f' % (rmse, ))"
      ]
    },
    {
      "cell_type": "code",
      "execution_count": 79,
      "metadata": {},
      "outputs": [
        {
          "data": {
            "text/plain": [
              "2020-07-01 00:00:00    64.269678\n",
              "2020-07-01 01:00:00    16.974266\n",
              "2020-07-01 02:00:00    18.794507\n",
              "2020-07-01 03:00:00    19.798664\n",
              "2020-07-01 04:00:00    17.003235\n",
              "                         ...    \n",
              "2021-07-01 19:00:00    20.284762\n",
              "2021-07-01 20:00:00    15.921984\n",
              "2021-07-01 21:00:00    15.043952\n",
              "2021-07-01 22:00:00    21.129386\n",
              "2021-07-01 23:00:00    21.363486\n",
              "Freq: H, Name: predicted_mean, Length: 8784, dtype: float64"
            ]
          },
          "execution_count": 79,
          "metadata": {},
          "output_type": "execute_result"
        }
      ],
      "source": [
        "pred.predicted_mean"
      ]
    },
    {
      "cell_type": "code",
      "execution_count": 80,
      "metadata": {},
      "outputs": [],
      "source": [
        "pred.predicted_mean.to_csv('predict.csv', index=True)"
      ]
    }
  ],
  "metadata": {
    "colab": {
      "collapsed_sections": [],
      "name": "SamuunJinnie ver2.1.ipynb",
      "provenance": []
    },
    "kernelspec": {
      "display_name": "Python 3",
      "name": "python3"
    },
    "language_info": {
      "codemirror_mode": {
        "name": "ipython",
        "version": 3
      },
      "file_extension": ".py",
      "mimetype": "text/x-python",
      "name": "python",
      "nbconvert_exporter": "python",
      "pygments_lexer": "ipython3",
      "version": "3.10.2"
    }
  },
  "nbformat": 4,
  "nbformat_minor": 0
}
