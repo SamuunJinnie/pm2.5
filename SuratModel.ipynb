{
  "cells": [
    {
      "cell_type": "code",
      "execution_count": 1,
      "metadata": {
        "id": "aJGK9VAlIyE8"
      },
      "outputs": [
        {
          "name": "stderr",
          "output_type": "stream",
          "text": [
            "Cloning into 'pm2.5'...\n"
          ]
        }
      ],
      "source": [
        "# !git clone https://github.com/SamuunJinnie/pm2.5"
      ]
    },
    {
      "cell_type": "code",
      "execution_count": 2,
      "metadata": {},
      "outputs": [],
      "source": [
        "# !mv ./pm2.5/* ."
      ]
    },
    {
      "cell_type": "code",
      "execution_count": 1,
      "metadata": {},
      "outputs": [],
      "source": [
        "provinces = ['BKK', 'Chiangmai', 'Khonkaen', 'Rayong', 'Saraburi', 'Surat']"
      ]
    },
    {
      "cell_type": "code",
      "execution_count": 1,
      "metadata": {},
      "outputs": [],
      "source": [
        "import pandas as pd"
      ]
    },
    {
      "cell_type": "code",
      "execution_count": 2,
      "metadata": {
        "id": "vdpRLYEBYYYS"
      },
      "outputs": [],
      "source": [
        "\n",
        "def format_datetime(df):\n",
        "  df['date_time'] = pd.to_datetime(df['date_time'])\n",
        "  df = df.set_index('date_time')\n",
        "  return df"
      ]
    },
    {
      "cell_type": "code",
      "execution_count": 3,
      "metadata": {
        "id": "-otG7RVDlHHG"
      },
      "outputs": [],
      "source": [
        "def format_datetime_2(df):\n",
        "    df['date_time'] = pd.to_datetime(df['date_time'] , format='%d/%m/%Y %H:%M')\n",
        "    df = df.set_index('date_time')\n",
        "    return df"
      ]
    },
    {
      "cell_type": "code",
      "execution_count": 4,
      "metadata": {
        "id": "BA3RWnLPMb14"
      },
      "outputs": [],
      "source": [
        "def get_train_data(prov):\n",
        "  df_train = pd.read_csv(prov + '/train/' + prov.lower() + '_train.csv')\n",
        "  df_temp_surface = pd.read_csv(prov + '/train/' + prov.lower() + '_temp_surface.csv')\n",
        "  df_weather_wind = pd.read_csv(prov + '/train/' + prov.lower() + '_weather_wind.csv')\n",
        "  df_so2 = pd.read_csv(prov + '/train/' + prov.lower() + '_so2_surface_train.csv')\n",
        "  df_rh = pd.read_csv(prov + '/train/' + prov.lower() + '_RH_train.csv')\n",
        "  df_train = df_train.rename(columns={'Unnamed: 0':'date_time'})\n",
        "  df_train, df_temp_surface, df_weather_wind, df_so2, df_rh = format_datetime(df_train), format_datetime(df_temp_surface), format_datetime(df_weather_wind), format_datetime(df_so2), format_datetime(df_rh)\n",
        "  df_train, df_temp_surface, df_weather_wind, df_so2, df_rh = df_train.interpolate(), df_temp_surface.interpolate(), df_weather_wind.interpolate(), df_so2.interpolate(), df_rh.interpolate()\n",
        "  df_train, df_temp_surface, df_weather_wind, df_so2, df_rh = df_train.resample('h').ffill(), df_temp_surface.resample('h').ffill(), df_weather_wind.resample('h').ffill(), df_so2.resample('h').ffill(), df_rh.resample('h').ffill()\n",
        "  return df_train, df_temp_surface, df_weather_wind, df_so2, df_rh"
      ]
    },
    {
      "cell_type": "code",
      "execution_count": 5,
      "metadata": {
        "id": "TEBMjQLplHHH"
      },
      "outputs": [],
      "source": [
        "def get_test_data(prov):\n",
        "  df_test = pd.read_csv(f'{prov}/test/{prov.lower()}_test.csv')\n",
        "  df_temp_surface_test = pd.read_csv(f'{prov}/test/{prov.lower()}_temp_surface_test.csv')\n",
        "  df_weather_wind_test = pd.read_csv(f'{prov}/test/{prov.lower()}_weather_wind_test.csv')\n",
        "  df_so2_test = pd.read_csv(prov + '/test/' + prov.lower() + '_so2_surface_test.csv')\n",
        "  df_rh_test = pd.read_csv(prov + '/test/' + prov.lower() + '_RH_test.csv')\n",
        "  df_test = df_test.rename(columns={'Unnamed: 0':'date_time'})\n",
        "  df_test, df_temp_surface_test, df_weather_wind_test, df_so2_test, df_rh_test = format_datetime(df_test), format_datetime_2(df_temp_surface_test), format_datetime_2(df_weather_wind_test),format_datetime(df_so2_test),format_datetime(df_rh_test)\n",
        "  df_test, df_temp_surface_test, df_weather_wind_test, df_so2_test, df_rh_test = df_test.interpolate(), df_temp_surface_test.interpolate(), df_weather_wind_test.interpolate(), df_so2_test.interpolate(), df_rh_test.interpolate()\n",
        "  df_test, df_temp_surface_test,df_weather_wind_test, df_so2_test, df_rh_test = df_test.resample('h').ffill(), df_temp_surface_test.resample('h').ffill(), df_weather_wind_test.resample('h').ffill(), df_so2_test.resample('h').ffill(), df_rh_test.resample('h').ffill()\n",
        "  return df_test, df_temp_surface_test, df_weather_wind_test, df_so2_test, df_rh_test"
      ]
    },
    {
      "cell_type": "code",
      "execution_count": 6,
      "metadata": {
        "id": "2xTGj8yuiJDi"
      },
      "outputs": [],
      "source": [
        "def get_na_rows(df, col):\n",
        "  return df[df[col].isna() == True].index.to_list()"
      ]
    },
    {
      "cell_type": "code",
      "execution_count": 7,
      "metadata": {
        "id": "mi-y6uqpTuEb"
      },
      "outputs": [],
      "source": [
        "df_train, df_temp_surface, df_weather_wind, df_so2, df_rh = get_train_data('Chiangmai')\n",
        "df_test, df_temp_surface_test, df_weather_wind_test, df_so2_test, df_rh_test = get_test_data('Chiangmai')"
      ]
    },
    {
      "cell_type": "code",
      "execution_count": 8,
      "metadata": {
        "colab": {
          "base_uri": "https://localhost:8080/",
          "height": 475
        },
        "id": "8PU8BddzlHHJ",
        "outputId": "08f4cfd2-33be-49dd-98e7-0cac5a1362be"
      },
      "outputs": [
        {
          "data": {
            "text/html": [
              "<div>\n",
              "<style scoped>\n",
              "    .dataframe tbody tr th:only-of-type {\n",
              "        vertical-align: middle;\n",
              "    }\n",
              "\n",
              "    .dataframe tbody tr th {\n",
              "        vertical-align: top;\n",
              "    }\n",
              "\n",
              "    .dataframe thead th {\n",
              "        text-align: right;\n",
              "    }\n",
              "</style>\n",
              "<table border=\"1\" class=\"dataframe\">\n",
              "  <thead>\n",
              "    <tr style=\"text-align: right;\">\n",
              "      <th></th>\n",
              "      <th>PM2.5</th>\n",
              "    </tr>\n",
              "    <tr>\n",
              "      <th>date_time</th>\n",
              "      <th></th>\n",
              "    </tr>\n",
              "  </thead>\n",
              "  <tbody>\n",
              "    <tr>\n",
              "      <th>2021-07-01 19:00:00</th>\n",
              "      <td>13.0</td>\n",
              "    </tr>\n",
              "    <tr>\n",
              "      <th>2021-07-01 20:00:00</th>\n",
              "      <td>13.0</td>\n",
              "    </tr>\n",
              "    <tr>\n",
              "      <th>2021-07-01 21:00:00</th>\n",
              "      <td>13.0</td>\n",
              "    </tr>\n",
              "    <tr>\n",
              "      <th>2021-07-01 22:00:00</th>\n",
              "      <td>13.0</td>\n",
              "    </tr>\n",
              "    <tr>\n",
              "      <th>2021-07-01 23:00:00</th>\n",
              "      <td>13.0</td>\n",
              "    </tr>\n",
              "  </tbody>\n",
              "</table>\n",
              "</div>"
            ],
            "text/plain": [
              "                     PM2.5\n",
              "date_time                 \n",
              "2021-07-01 19:00:00   13.0\n",
              "2021-07-01 20:00:00   13.0\n",
              "2021-07-01 21:00:00   13.0\n",
              "2021-07-01 22:00:00   13.0\n",
              "2021-07-01 23:00:00   13.0"
            ]
          },
          "metadata": {},
          "output_type": "display_data"
        },
        {
          "data": {
            "text/html": [
              "<div>\n",
              "<style scoped>\n",
              "    .dataframe tbody tr th:only-of-type {\n",
              "        vertical-align: middle;\n",
              "    }\n",
              "\n",
              "    .dataframe tbody tr th {\n",
              "        vertical-align: top;\n",
              "    }\n",
              "\n",
              "    .dataframe thead th {\n",
              "        text-align: right;\n",
              "    }\n",
              "</style>\n",
              "<table border=\"1\" class=\"dataframe\">\n",
              "  <thead>\n",
              "    <tr style=\"text-align: right;\">\n",
              "      <th></th>\n",
              "      <th>temp</th>\n",
              "    </tr>\n",
              "    <tr>\n",
              "      <th>date_time</th>\n",
              "      <th></th>\n",
              "    </tr>\n",
              "  </thead>\n",
              "  <tbody>\n",
              "    <tr>\n",
              "      <th>2021-07-01 18:00:00</th>\n",
              "      <td>30.0</td>\n",
              "    </tr>\n",
              "    <tr>\n",
              "      <th>2021-07-01 19:00:00</th>\n",
              "      <td>24.6</td>\n",
              "    </tr>\n",
              "    <tr>\n",
              "      <th>2021-07-01 20:00:00</th>\n",
              "      <td>24.6</td>\n",
              "    </tr>\n",
              "    <tr>\n",
              "      <th>2021-07-01 21:00:00</th>\n",
              "      <td>24.6</td>\n",
              "    </tr>\n",
              "    <tr>\n",
              "      <th>2021-07-01 22:00:00</th>\n",
              "      <td>23.5</td>\n",
              "    </tr>\n",
              "  </tbody>\n",
              "</table>\n",
              "</div>"
            ],
            "text/plain": [
              "                     temp\n",
              "date_time                \n",
              "2021-07-01 18:00:00  30.0\n",
              "2021-07-01 19:00:00  24.6\n",
              "2021-07-01 20:00:00  24.6\n",
              "2021-07-01 21:00:00  24.6\n",
              "2021-07-01 22:00:00  23.5"
            ]
          },
          "metadata": {},
          "output_type": "display_data"
        },
        {
          "data": {
            "text/html": [
              "<div>\n",
              "<style scoped>\n",
              "    .dataframe tbody tr th:only-of-type {\n",
              "        vertical-align: middle;\n",
              "    }\n",
              "\n",
              "    .dataframe tbody tr th {\n",
              "        vertical-align: top;\n",
              "    }\n",
              "\n",
              "    .dataframe thead th {\n",
              "        text-align: right;\n",
              "    }\n",
              "</style>\n",
              "<table border=\"1\" class=\"dataframe\">\n",
              "  <thead>\n",
              "    <tr style=\"text-align: right;\">\n",
              "      <th></th>\n",
              "      <th>wind speed</th>\n",
              "      <th>wind dir</th>\n",
              "    </tr>\n",
              "    <tr>\n",
              "      <th>date_time</th>\n",
              "      <th></th>\n",
              "      <th></th>\n",
              "    </tr>\n",
              "  </thead>\n",
              "  <tbody>\n",
              "    <tr>\n",
              "      <th>2021-07-01 18:00:00</th>\n",
              "      <td>20</td>\n",
              "      <td>235</td>\n",
              "    </tr>\n",
              "    <tr>\n",
              "      <th>2021-07-01 19:00:00</th>\n",
              "      <td>23</td>\n",
              "      <td>250</td>\n",
              "    </tr>\n",
              "    <tr>\n",
              "      <th>2021-07-01 20:00:00</th>\n",
              "      <td>23</td>\n",
              "      <td>250</td>\n",
              "    </tr>\n",
              "    <tr>\n",
              "      <th>2021-07-01 21:00:00</th>\n",
              "      <td>23</td>\n",
              "      <td>250</td>\n",
              "    </tr>\n",
              "    <tr>\n",
              "      <th>2021-07-01 22:00:00</th>\n",
              "      <td>27</td>\n",
              "      <td>260</td>\n",
              "    </tr>\n",
              "  </tbody>\n",
              "</table>\n",
              "</div>"
            ],
            "text/plain": [
              "                     wind speed  wind dir\n",
              "date_time                                \n",
              "2021-07-01 18:00:00          20       235\n",
              "2021-07-01 19:00:00          23       250\n",
              "2021-07-01 20:00:00          23       250\n",
              "2021-07-01 21:00:00          23       250\n",
              "2021-07-01 22:00:00          27       260"
            ]
          },
          "metadata": {},
          "output_type": "display_data"
        },
        {
          "data": {
            "text/html": [
              "<div>\n",
              "<style scoped>\n",
              "    .dataframe tbody tr th:only-of-type {\n",
              "        vertical-align: middle;\n",
              "    }\n",
              "\n",
              "    .dataframe tbody tr th {\n",
              "        vertical-align: top;\n",
              "    }\n",
              "\n",
              "    .dataframe thead th {\n",
              "        text-align: right;\n",
              "    }\n",
              "</style>\n",
              "<table border=\"1\" class=\"dataframe\">\n",
              "  <thead>\n",
              "    <tr style=\"text-align: right;\">\n",
              "      <th></th>\n",
              "      <th>so2 (ug/m^3)</th>\n",
              "    </tr>\n",
              "    <tr>\n",
              "      <th>date_time</th>\n",
              "      <th></th>\n",
              "    </tr>\n",
              "  </thead>\n",
              "  <tbody>\n",
              "    <tr>\n",
              "      <th>2021-07-01 18:00:00</th>\n",
              "      <td>0.47</td>\n",
              "    </tr>\n",
              "    <tr>\n",
              "      <th>2021-07-01 19:00:00</th>\n",
              "      <td>1.43</td>\n",
              "    </tr>\n",
              "    <tr>\n",
              "      <th>2021-07-01 20:00:00</th>\n",
              "      <td>1.43</td>\n",
              "    </tr>\n",
              "    <tr>\n",
              "      <th>2021-07-01 21:00:00</th>\n",
              "      <td>1.43</td>\n",
              "    </tr>\n",
              "    <tr>\n",
              "      <th>2021-07-01 22:00:00</th>\n",
              "      <td>3.03</td>\n",
              "    </tr>\n",
              "  </tbody>\n",
              "</table>\n",
              "</div>"
            ],
            "text/plain": [
              "                     so2 (ug/m^3)\n",
              "date_time                        \n",
              "2021-07-01 18:00:00          0.47\n",
              "2021-07-01 19:00:00          1.43\n",
              "2021-07-01 20:00:00          1.43\n",
              "2021-07-01 21:00:00          1.43\n",
              "2021-07-01 22:00:00          3.03"
            ]
          },
          "metadata": {},
          "output_type": "display_data"
        },
        {
          "data": {
            "text/html": [
              "<div>\n",
              "<style scoped>\n",
              "    .dataframe tbody tr th:only-of-type {\n",
              "        vertical-align: middle;\n",
              "    }\n",
              "\n",
              "    .dataframe tbody tr th {\n",
              "        vertical-align: top;\n",
              "    }\n",
              "\n",
              "    .dataframe thead th {\n",
              "        text-align: right;\n",
              "    }\n",
              "</style>\n",
              "<table border=\"1\" class=\"dataframe\">\n",
              "  <thead>\n",
              "    <tr style=\"text-align: right;\">\n",
              "      <th></th>\n",
              "      <th>RH</th>\n",
              "    </tr>\n",
              "    <tr>\n",
              "      <th>date_time</th>\n",
              "      <th></th>\n",
              "    </tr>\n",
              "  </thead>\n",
              "  <tbody>\n",
              "    <tr>\n",
              "      <th>2021-07-01 18:00:00</th>\n",
              "      <td>61.0</td>\n",
              "    </tr>\n",
              "    <tr>\n",
              "      <th>2021-07-01 19:00:00</th>\n",
              "      <td>83.0</td>\n",
              "    </tr>\n",
              "    <tr>\n",
              "      <th>2021-07-01 20:00:00</th>\n",
              "      <td>83.0</td>\n",
              "    </tr>\n",
              "    <tr>\n",
              "      <th>2021-07-01 21:00:00</th>\n",
              "      <td>83.0</td>\n",
              "    </tr>\n",
              "    <tr>\n",
              "      <th>2021-07-01 22:00:00</th>\n",
              "      <td>86.0</td>\n",
              "    </tr>\n",
              "  </tbody>\n",
              "</table>\n",
              "</div>"
            ],
            "text/plain": [
              "                       RH\n",
              "date_time                \n",
              "2021-07-01 18:00:00  61.0\n",
              "2021-07-01 19:00:00  83.0\n",
              "2021-07-01 20:00:00  83.0\n",
              "2021-07-01 21:00:00  83.0\n",
              "2021-07-01 22:00:00  86.0"
            ]
          },
          "metadata": {},
          "output_type": "display_data"
        }
      ],
      "source": [
        "display(df_test.tail())\n",
        "display(df_temp_surface_test.tail())\n",
        "display(df_weather_wind_test.tail())\n",
        "display(df_so2_test.tail())\n",
        "display(df_rh_test.tail())"
      ]
    },
    {
      "cell_type": "code",
      "execution_count": 9,
      "metadata": {
        "colab": {
          "base_uri": "https://localhost:8080/",
          "height": 1000
        },
        "id": "SZCcypEtTyUz",
        "outputId": "3475ca12-abb8-412f-f54a-4f24bcca4166"
      },
      "outputs": [
        {
          "data": {
            "text/html": [
              "<div>\n",
              "<style scoped>\n",
              "    .dataframe tbody tr th:only-of-type {\n",
              "        vertical-align: middle;\n",
              "    }\n",
              "\n",
              "    .dataframe tbody tr th {\n",
              "        vertical-align: top;\n",
              "    }\n",
              "\n",
              "    .dataframe thead th {\n",
              "        text-align: right;\n",
              "    }\n",
              "</style>\n",
              "<table border=\"1\" class=\"dataframe\">\n",
              "  <thead>\n",
              "    <tr style=\"text-align: right;\">\n",
              "      <th></th>\n",
              "      <th>PM2.5</th>\n",
              "    </tr>\n",
              "    <tr>\n",
              "      <th>date_time</th>\n",
              "      <th></th>\n",
              "    </tr>\n",
              "  </thead>\n",
              "  <tbody>\n",
              "    <tr>\n",
              "      <th>2020-06-30 19:00:00</th>\n",
              "      <td>16.0</td>\n",
              "    </tr>\n",
              "    <tr>\n",
              "      <th>2020-06-30 20:00:00</th>\n",
              "      <td>19.0</td>\n",
              "    </tr>\n",
              "    <tr>\n",
              "      <th>2020-06-30 21:00:00</th>\n",
              "      <td>21.0</td>\n",
              "    </tr>\n",
              "    <tr>\n",
              "      <th>2020-06-30 22:00:00</th>\n",
              "      <td>14.0</td>\n",
              "    </tr>\n",
              "    <tr>\n",
              "      <th>2020-06-30 23:00:00</th>\n",
              "      <td>18.0</td>\n",
              "    </tr>\n",
              "  </tbody>\n",
              "</table>\n",
              "</div>"
            ],
            "text/plain": [
              "                     PM2.5\n",
              "date_time                 \n",
              "2020-06-30 19:00:00   16.0\n",
              "2020-06-30 20:00:00   19.0\n",
              "2020-06-30 21:00:00   21.0\n",
              "2020-06-30 22:00:00   14.0\n",
              "2020-06-30 23:00:00   18.0"
            ]
          },
          "metadata": {},
          "output_type": "display_data"
        },
        {
          "data": {
            "text/html": [
              "<div>\n",
              "<style scoped>\n",
              "    .dataframe tbody tr th:only-of-type {\n",
              "        vertical-align: middle;\n",
              "    }\n",
              "\n",
              "    .dataframe tbody tr th {\n",
              "        vertical-align: top;\n",
              "    }\n",
              "\n",
              "    .dataframe thead th {\n",
              "        text-align: right;\n",
              "    }\n",
              "</style>\n",
              "<table border=\"1\" class=\"dataframe\">\n",
              "  <thead>\n",
              "    <tr style=\"text-align: right;\">\n",
              "      <th></th>\n",
              "      <th>temp</th>\n",
              "    </tr>\n",
              "    <tr>\n",
              "      <th>date_time</th>\n",
              "      <th></th>\n",
              "    </tr>\n",
              "  </thead>\n",
              "  <tbody>\n",
              "    <tr>\n",
              "      <th>2020-06-30 18:00:00</th>\n",
              "      <td>32.2</td>\n",
              "    </tr>\n",
              "    <tr>\n",
              "      <th>2020-06-30 19:00:00</th>\n",
              "      <td>27.5</td>\n",
              "    </tr>\n",
              "    <tr>\n",
              "      <th>2020-06-30 20:00:00</th>\n",
              "      <td>27.5</td>\n",
              "    </tr>\n",
              "    <tr>\n",
              "      <th>2020-06-30 21:00:00</th>\n",
              "      <td>27.5</td>\n",
              "    </tr>\n",
              "    <tr>\n",
              "      <th>2020-06-30 22:00:00</th>\n",
              "      <td>25.2</td>\n",
              "    </tr>\n",
              "  </tbody>\n",
              "</table>\n",
              "</div>"
            ],
            "text/plain": [
              "                     temp\n",
              "date_time                \n",
              "2020-06-30 18:00:00  32.2\n",
              "2020-06-30 19:00:00  27.5\n",
              "2020-06-30 20:00:00  27.5\n",
              "2020-06-30 21:00:00  27.5\n",
              "2020-06-30 22:00:00  25.2"
            ]
          },
          "metadata": {},
          "output_type": "display_data"
        },
        {
          "data": {
            "text/html": [
              "<div>\n",
              "<style scoped>\n",
              "    .dataframe tbody tr th:only-of-type {\n",
              "        vertical-align: middle;\n",
              "    }\n",
              "\n",
              "    .dataframe tbody tr th {\n",
              "        vertical-align: top;\n",
              "    }\n",
              "\n",
              "    .dataframe thead th {\n",
              "        text-align: right;\n",
              "    }\n",
              "</style>\n",
              "<table border=\"1\" class=\"dataframe\">\n",
              "  <thead>\n",
              "    <tr style=\"text-align: right;\">\n",
              "      <th></th>\n",
              "      <th>wind speed</th>\n",
              "      <th>wind dir</th>\n",
              "    </tr>\n",
              "    <tr>\n",
              "      <th>date_time</th>\n",
              "      <th></th>\n",
              "      <th></th>\n",
              "    </tr>\n",
              "  </thead>\n",
              "  <tbody>\n",
              "    <tr>\n",
              "      <th>2020-06-30 18:00:00</th>\n",
              "      <td>12</td>\n",
              "      <td>235</td>\n",
              "    </tr>\n",
              "    <tr>\n",
              "      <th>2020-06-30 19:00:00</th>\n",
              "      <td>16</td>\n",
              "      <td>235</td>\n",
              "    </tr>\n",
              "    <tr>\n",
              "      <th>2020-06-30 20:00:00</th>\n",
              "      <td>16</td>\n",
              "      <td>235</td>\n",
              "    </tr>\n",
              "    <tr>\n",
              "      <th>2020-06-30 21:00:00</th>\n",
              "      <td>16</td>\n",
              "      <td>235</td>\n",
              "    </tr>\n",
              "    <tr>\n",
              "      <th>2020-06-30 22:00:00</th>\n",
              "      <td>17</td>\n",
              "      <td>225</td>\n",
              "    </tr>\n",
              "  </tbody>\n",
              "</table>\n",
              "</div>"
            ],
            "text/plain": [
              "                     wind speed  wind dir\n",
              "date_time                                \n",
              "2020-06-30 18:00:00          12       235\n",
              "2020-06-30 19:00:00          16       235\n",
              "2020-06-30 20:00:00          16       235\n",
              "2020-06-30 21:00:00          16       235\n",
              "2020-06-30 22:00:00          17       225"
            ]
          },
          "metadata": {},
          "output_type": "display_data"
        },
        {
          "data": {
            "text/html": [
              "<div>\n",
              "<style scoped>\n",
              "    .dataframe tbody tr th:only-of-type {\n",
              "        vertical-align: middle;\n",
              "    }\n",
              "\n",
              "    .dataframe tbody tr th {\n",
              "        vertical-align: top;\n",
              "    }\n",
              "\n",
              "    .dataframe thead th {\n",
              "        text-align: right;\n",
              "    }\n",
              "</style>\n",
              "<table border=\"1\" class=\"dataframe\">\n",
              "  <thead>\n",
              "    <tr style=\"text-align: right;\">\n",
              "      <th></th>\n",
              "      <th>so2 (ug/m^3)</th>\n",
              "    </tr>\n",
              "    <tr>\n",
              "      <th>date_time</th>\n",
              "      <th></th>\n",
              "    </tr>\n",
              "  </thead>\n",
              "  <tbody>\n",
              "    <tr>\n",
              "      <th>2020-06-30 18:00:00</th>\n",
              "      <td>0.36</td>\n",
              "    </tr>\n",
              "    <tr>\n",
              "      <th>2020-06-30 19:00:00</th>\n",
              "      <td>1.01</td>\n",
              "    </tr>\n",
              "    <tr>\n",
              "      <th>2020-06-30 20:00:00</th>\n",
              "      <td>1.01</td>\n",
              "    </tr>\n",
              "    <tr>\n",
              "      <th>2020-06-30 21:00:00</th>\n",
              "      <td>1.01</td>\n",
              "    </tr>\n",
              "    <tr>\n",
              "      <th>2020-06-30 22:00:00</th>\n",
              "      <td>1.97</td>\n",
              "    </tr>\n",
              "  </tbody>\n",
              "</table>\n",
              "</div>"
            ],
            "text/plain": [
              "                     so2 (ug/m^3)\n",
              "date_time                        \n",
              "2020-06-30 18:00:00          0.36\n",
              "2020-06-30 19:00:00          1.01\n",
              "2020-06-30 20:00:00          1.01\n",
              "2020-06-30 21:00:00          1.01\n",
              "2020-06-30 22:00:00          1.97"
            ]
          },
          "metadata": {},
          "output_type": "display_data"
        },
        {
          "data": {
            "text/html": [
              "<div>\n",
              "<style scoped>\n",
              "    .dataframe tbody tr th:only-of-type {\n",
              "        vertical-align: middle;\n",
              "    }\n",
              "\n",
              "    .dataframe tbody tr th {\n",
              "        vertical-align: top;\n",
              "    }\n",
              "\n",
              "    .dataframe thead th {\n",
              "        text-align: right;\n",
              "    }\n",
              "</style>\n",
              "<table border=\"1\" class=\"dataframe\">\n",
              "  <thead>\n",
              "    <tr style=\"text-align: right;\">\n",
              "      <th></th>\n",
              "      <th>RH</th>\n",
              "    </tr>\n",
              "    <tr>\n",
              "      <th>date_time</th>\n",
              "      <th></th>\n",
              "    </tr>\n",
              "  </thead>\n",
              "  <tbody>\n",
              "    <tr>\n",
              "      <th>2020-06-30 18:00:00</th>\n",
              "      <td>56.0</td>\n",
              "    </tr>\n",
              "    <tr>\n",
              "      <th>2020-06-30 19:00:00</th>\n",
              "      <td>72.0</td>\n",
              "    </tr>\n",
              "    <tr>\n",
              "      <th>2020-06-30 20:00:00</th>\n",
              "      <td>72.0</td>\n",
              "    </tr>\n",
              "    <tr>\n",
              "      <th>2020-06-30 21:00:00</th>\n",
              "      <td>72.0</td>\n",
              "    </tr>\n",
              "    <tr>\n",
              "      <th>2020-06-30 22:00:00</th>\n",
              "      <td>82.0</td>\n",
              "    </tr>\n",
              "  </tbody>\n",
              "</table>\n",
              "</div>"
            ],
            "text/plain": [
              "                       RH\n",
              "date_time                \n",
              "2020-06-30 18:00:00  56.0\n",
              "2020-06-30 19:00:00  72.0\n",
              "2020-06-30 20:00:00  72.0\n",
              "2020-06-30 21:00:00  72.0\n",
              "2020-06-30 22:00:00  82.0"
            ]
          },
          "metadata": {},
          "output_type": "display_data"
        }
      ],
      "source": [
        "display(df_train.tail())\n",
        "display(df_temp_surface.tail())\n",
        "display(df_weather_wind.tail())\n",
        "display(df_so2.tail())\n",
        "display(df_rh.tail())"
      ]
    },
    {
      "cell_type": "code",
      "execution_count": 10,
      "metadata": {
        "id": "iP40M4YDWmDm"
      },
      "outputs": [],
      "source": [
        "import matplotlib.pyplot as plt"
      ]
    },
    {
      "cell_type": "code",
      "execution_count": 11,
      "metadata": {
        "colab": {
          "base_uri": "https://localhost:8080/",
          "height": 392
        },
        "id": "LqK_GB0-Jkzw",
        "outputId": "dfb26136-4dbd-42f2-bc47-481566b93982"
      },
      "outputs": [
        {
          "data": {
            "text/plain": [
              "[<matplotlib.lines.Line2D at 0x1f1c25befa0>]"
            ]
          },
          "execution_count": 11,
          "metadata": {},
          "output_type": "execute_result"
        },
        {
          "data": {
            "image/png": "[encoded data removed]",
            "text/plain": [
              "<Figure size 864x432 with 1 Axes>"
            ]
          },
          "metadata": {
            "needs_background": "light"
          },
          "output_type": "display_data"
        }
      ],
      "source": [
        "plt.figure(figsize=(12,6))\n",
        "plt.plot(df_train,'r')"
      ]
    },
    {
      "cell_type": "code",
      "execution_count": 12,
      "metadata": {
        "colab": {
          "base_uri": "https://localhost:8080/",
          "height": 392
        },
        "id": "4P-wK-n5WmcC",
        "outputId": "2687c724-2a9a-4eb2-c8c0-782147f974f9"
      },
      "outputs": [
        {
          "data": {
            "text/plain": [
              "[<matplotlib.lines.Line2D at 0x1f1c4924dc0>]"
            ]
          },
          "execution_count": 12,
          "metadata": {},
          "output_type": "execute_result"
        },
        {
          "data": {
            "image/png": "[encoded data removed]",
            "text/plain": [
              "<Figure size 864x432 with 1 Axes>"
            ]
          },
          "metadata": {
            "needs_background": "light"
          },
          "output_type": "display_data"
        }
      ],
      "source": [
        "plt.figure(figsize=(12,6))\n",
        "plt.plot(df_temp_surface,'r')"
      ]
    },
    {
      "cell_type": "code",
      "execution_count": 13,
      "metadata": {
        "colab": {
          "base_uri": "https://localhost:8080/",
          "height": 392
        },
        "id": "YzrKjNiqWrpn",
        "outputId": "b7a739b0-e10a-4eeb-e1ec-dd7febb8ab63"
      },
      "outputs": [
        {
          "data": {
            "text/plain": [
              "[<matplotlib.lines.Line2D at 0x1f1c49a56d0>]"
            ]
          },
          "execution_count": 13,
          "metadata": {},
          "output_type": "execute_result"
        },
        {
          "data": {
            "image/png": "[encoded data removed]",
            "text/plain": [
              "<Figure size 864x432 with 1 Axes>"
            ]
          },
          "metadata": {
            "needs_background": "light"
          },
          "output_type": "display_data"
        }
      ],
      "source": [
        "plt.figure(figsize=(12,6))\n",
        "plt.plot(df_weather_wind['wind dir'],'r')"
      ]
    },
    {
      "cell_type": "code",
      "execution_count": 14,
      "metadata": {},
      "outputs": [
        {
          "data": {
            "text/plain": [
              "[<matplotlib.lines.Line2D at 0x1f1c5e48fd0>]"
            ]
          },
          "execution_count": 14,
          "metadata": {},
          "output_type": "execute_result"
        },
        {
          "data": {
            "image/png": "[encoded data removed]",
            "text/plain": [
              "<Figure size 864x432 with 1 Axes>"
            ]
          },
          "metadata": {
            "needs_background": "light"
          },
          "output_type": "display_data"
        }
      ],
      "source": [
        "plt.figure(figsize=(12,6))\n",
        "plt.plot(df_so2['so2 (ug/m^3)'],'r')"
      ]
    },
    {
      "cell_type": "code",
      "execution_count": 15,
      "metadata": {
        "colab": {
          "base_uri": "https://localhost:8080/",
          "height": 392
        },
        "id": "UvhB6EcSWwDS",
        "outputId": "3b28c540-a381-4e8d-ada0-e8be4243f0c6"
      },
      "outputs": [
        {
          "data": {
            "text/plain": [
              "[<matplotlib.lines.Line2D at 0x1f1c5e6e0a0>]"
            ]
          },
          "execution_count": 15,
          "metadata": {},
          "output_type": "execute_result"
        },
        {
          "data": {
            "image/png": "[encoded data removed]",
            "text/plain": [
              "<Figure size 864x432 with 1 Axes>"
            ]
          },
          "metadata": {
            "needs_background": "light"
          },
          "output_type": "display_data"
        }
      ],
      "source": [
        "plt.figure(figsize=(12,6))\n",
        "plt.plot(df_weather_wind['wind speed'],'r')"
      ]
    },
    {
      "cell_type": "code",
      "execution_count": 16,
      "metadata": {},
      "outputs": [
        {
          "data": {
            "text/plain": [
              "[<matplotlib.lines.Line2D at 0x1f1c5ede4f0>]"
            ]
          },
          "execution_count": 16,
          "metadata": {},
          "output_type": "execute_result"
        },
        {
          "data": {
            "image/png": "[encoded data removed]",
            "text/plain": [
              "<Figure size 864x432 with 1 Axes>"
            ]
          },
          "metadata": {
            "needs_background": "light"
          },
          "output_type": "display_data"
        }
      ],
      "source": [
        "plt.figure(figsize=(12,6))\n",
        "plt.plot(df_rh['RH'],'r')"
      ]
    },
    {
      "cell_type": "code",
      "execution_count": 17,
      "metadata": {
        "id": "a_szyVs8_ob_"
      },
      "outputs": [],
      "source": [
        "df_temp_0 = pd.DataFrame({'date_time': ['07/01/2017 00:00:00'], 'temp':[0]})\n",
        "df_temp_0 = format_datetime(df_temp_0)\n",
        "df_wind_0 = pd.DataFrame({'date_time': ['07/01/2017 00:00:00'], 'wind dir':[0],'wind speed':[0]})\n",
        "df_wind_0 = format_datetime(df_wind_0)\n",
        "df_so2_0 = pd.DataFrame({'date_time': ['07/01/2017 00:00:00'], 'so2 (ug/m^3)':[0]})\n",
        "df_so2_0 = format_datetime(df_so2_0)\n",
        "df_rh_0 = pd.DataFrame({'date_time': ['07/01/2017 00:00:00'], 'RH':[0]})\n",
        "df_rh_0 = format_datetime(df_rh_0)"
      ]
    },
    {
      "cell_type": "code",
      "execution_count": 18,
      "metadata": {
        "id": "EF5FCjfALc2B"
      },
      "outputs": [],
      "source": [
        "df_temp_1 = pd.DataFrame({'date_time': ['06/30/2020 23:00:00'], 'temp':[df_temp_surface['temp'].iloc[26301]]})\n",
        "df_temp_1 = format_datetime(df_temp_1)\n",
        "df_wind_1 = pd.DataFrame({'date_time': ['06/30/2020 23:00:00'], 'wind dir':[df_weather_wind['wind dir'].iloc[26301]],'wind speed':[df_weather_wind['wind speed'].iloc[26301]]})\n",
        "df_wind_1 = format_datetime(df_wind_1)\n",
        "df_so2_1 = pd.DataFrame({'date_time': ['06/30/2020 23:00:00'], 'so2 (ug/m^3)':[df_so2['so2 (ug/m^3)'].iloc[26301]]})\n",
        "df_so2_1 = format_datetime(df_so2_1)\n",
        "df_rh_1 = pd.DataFrame({'date_time': ['06/30/2020 23:00:00'], 'RH':[df_rh['RH'].iloc[26301]]})\n",
        "df_rh_1 = format_datetime(df_rh_1)"
      ]
    },
    {
      "cell_type": "code",
      "execution_count": 19,
      "metadata": {
        "id": "R8HQOCeO8Qpq"
      },
      "outputs": [],
      "source": [
        "df_temp_surface = pd.concat([df_temp_0,df_temp_surface,df_temp_1])\n",
        "df_weather_wind = pd.concat([df_wind_0,df_weather_wind,df_wind_1])\n",
        "df_so2 = pd.concat([df_so2_0,df_so2,df_so2_1])\n",
        "df_rh = pd.concat([df_rh_0,df_rh,df_rh_1])"
      ]
    },
    {
      "cell_type": "code",
      "execution_count": 20,
      "metadata": {
        "colab": {
          "base_uri": "https://localhost:8080/",
          "height": 455
        },
        "id": "o5XKKZBRXUqD",
        "outputId": "897722bf-66c4-4918-f13c-89e3e236a928"
      },
      "outputs": [
        {
          "data": {
            "text/html": [
              "<div>\n",
              "<style scoped>\n",
              "    .dataframe tbody tr th:only-of-type {\n",
              "        vertical-align: middle;\n",
              "    }\n",
              "\n",
              "    .dataframe tbody tr th {\n",
              "        vertical-align: top;\n",
              "    }\n",
              "\n",
              "    .dataframe thead th {\n",
              "        text-align: right;\n",
              "    }\n",
              "</style>\n",
              "<table border=\"1\" class=\"dataframe\">\n",
              "  <thead>\n",
              "    <tr style=\"text-align: right;\">\n",
              "      <th></th>\n",
              "      <th>PM2.5</th>\n",
              "      <th>wind dir</th>\n",
              "      <th>wind speed</th>\n",
              "      <th>temp</th>\n",
              "      <th>so2 (ug/m^3)</th>\n",
              "      <th>RH</th>\n",
              "    </tr>\n",
              "    <tr>\n",
              "      <th>date_time</th>\n",
              "      <th></th>\n",
              "      <th></th>\n",
              "      <th></th>\n",
              "      <th></th>\n",
              "      <th></th>\n",
              "      <th></th>\n",
              "    </tr>\n",
              "  </thead>\n",
              "  <tbody>\n",
              "    <tr>\n",
              "      <th>2017-07-01 00:00:00</th>\n",
              "      <td>13.0</td>\n",
              "      <td>0</td>\n",
              "      <td>0</td>\n",
              "      <td>0.0</td>\n",
              "      <td>0.00</td>\n",
              "      <td>0.0</td>\n",
              "    </tr>\n",
              "    <tr>\n",
              "      <th>2017-07-01 01:00:00</th>\n",
              "      <td>5.0</td>\n",
              "      <td>235</td>\n",
              "      <td>32</td>\n",
              "      <td>23.2</td>\n",
              "      <td>2.46</td>\n",
              "      <td>92.0</td>\n",
              "    </tr>\n",
              "    <tr>\n",
              "      <th>2017-07-01 02:00:00</th>\n",
              "      <td>16.0</td>\n",
              "      <td>235</td>\n",
              "      <td>32</td>\n",
              "      <td>23.2</td>\n",
              "      <td>2.46</td>\n",
              "      <td>92.0</td>\n",
              "    </tr>\n",
              "    <tr>\n",
              "      <th>2017-07-01 03:00:00</th>\n",
              "      <td>11.0</td>\n",
              "      <td>235</td>\n",
              "      <td>32</td>\n",
              "      <td>23.2</td>\n",
              "      <td>2.46</td>\n",
              "      <td>92.0</td>\n",
              "    </tr>\n",
              "    <tr>\n",
              "      <th>2017-07-01 04:00:00</th>\n",
              "      <td>12.0</td>\n",
              "      <td>250</td>\n",
              "      <td>30</td>\n",
              "      <td>22.3</td>\n",
              "      <td>2.29</td>\n",
              "      <td>94.0</td>\n",
              "    </tr>\n",
              "    <tr>\n",
              "      <th>...</th>\n",
              "      <td>...</td>\n",
              "      <td>...</td>\n",
              "      <td>...</td>\n",
              "      <td>...</td>\n",
              "      <td>...</td>\n",
              "      <td>...</td>\n",
              "    </tr>\n",
              "    <tr>\n",
              "      <th>2020-06-30 19:00:00</th>\n",
              "      <td>16.0</td>\n",
              "      <td>235</td>\n",
              "      <td>16</td>\n",
              "      <td>27.5</td>\n",
              "      <td>1.01</td>\n",
              "      <td>72.0</td>\n",
              "    </tr>\n",
              "    <tr>\n",
              "      <th>2020-06-30 20:00:00</th>\n",
              "      <td>19.0</td>\n",
              "      <td>235</td>\n",
              "      <td>16</td>\n",
              "      <td>27.5</td>\n",
              "      <td>1.01</td>\n",
              "      <td>72.0</td>\n",
              "    </tr>\n",
              "    <tr>\n",
              "      <th>2020-06-30 21:00:00</th>\n",
              "      <td>21.0</td>\n",
              "      <td>235</td>\n",
              "      <td>16</td>\n",
              "      <td>27.5</td>\n",
              "      <td>1.01</td>\n",
              "      <td>72.0</td>\n",
              "    </tr>\n",
              "    <tr>\n",
              "      <th>2020-06-30 22:00:00</th>\n",
              "      <td>14.0</td>\n",
              "      <td>225</td>\n",
              "      <td>17</td>\n",
              "      <td>25.2</td>\n",
              "      <td>1.97</td>\n",
              "      <td>82.0</td>\n",
              "    </tr>\n",
              "    <tr>\n",
              "      <th>2020-06-30 23:00:00</th>\n",
              "      <td>18.0</td>\n",
              "      <td>225</td>\n",
              "      <td>17</td>\n",
              "      <td>25.2</td>\n",
              "      <td>1.97</td>\n",
              "      <td>82.0</td>\n",
              "    </tr>\n",
              "  </tbody>\n",
              "</table>\n",
              "<p>26304 rows × 6 columns</p>\n",
              "</div>"
            ],
            "text/plain": [
              "                     PM2.5  wind dir  wind speed  temp  so2 (ug/m^3)    RH\n",
              "date_time                                                                 \n",
              "2017-07-01 00:00:00   13.0         0           0   0.0          0.00   0.0\n",
              "2017-07-01 01:00:00    5.0       235          32  23.2          2.46  92.0\n",
              "2017-07-01 02:00:00   16.0       235          32  23.2          2.46  92.0\n",
              "2017-07-01 03:00:00   11.0       235          32  23.2          2.46  92.0\n",
              "2017-07-01 04:00:00   12.0       250          30  22.3          2.29  94.0\n",
              "...                    ...       ...         ...   ...           ...   ...\n",
              "2020-06-30 19:00:00   16.0       235          16  27.5          1.01  72.0\n",
              "2020-06-30 20:00:00   19.0       235          16  27.5          1.01  72.0\n",
              "2020-06-30 21:00:00   21.0       235          16  27.5          1.01  72.0\n",
              "2020-06-30 22:00:00   14.0       225          17  25.2          1.97  82.0\n",
              "2020-06-30 23:00:00   18.0       225          17  25.2          1.97  82.0\n",
              "\n",
              "[26304 rows x 6 columns]"
            ]
          },
          "execution_count": 20,
          "metadata": {},
          "output_type": "execute_result"
        }
      ],
      "source": [
        "data = df_train.merge(df_weather_wind,left_index=True,right_index=True)\n",
        "data = data.merge(df_temp_surface,left_index=True,right_index=True)\n",
        "data = data.merge(df_so2,left_index=True,right_index=True)\n",
        "data = data.merge(df_rh,left_index=True,right_index=True)\n",
        "data"
      ]
    },
    {
      "cell_type": "code",
      "execution_count": 21,
      "metadata": {
        "id": "ispJBk33Bmsh"
      },
      "outputs": [],
      "source": [
        "df_temp_test_0 = pd.DataFrame({'date_time': ['07/01/2020 00:00:00'], 'temp':[0]})\n",
        "df_temp_test_0 = format_datetime(df_temp_test_0)\n",
        "df_wind_test_0 = pd.DataFrame({'date_time': ['07/01/2020 00:00:00'], 'wind dir':[0],'wind speed':[0]})\n",
        "df_wind_test_0 = format_datetime(df_wind_test_0)\n",
        "df_so2_test_0 = pd.DataFrame({'date_time': ['07/01/2020 00:00:00'], 'so2 (ug/m^3)':[0]})\n",
        "df_so2_test_0 = format_datetime(df_so2_test_0)\n",
        "df_rh_test_0 = pd.DataFrame({'date_time': ['07/01/2020 00:00:00'], 'RH':[0]})\n",
        "df_rh_test_0 = format_datetime(df_rh_test_0)"
      ]
    },
    {
      "cell_type": "code",
      "execution_count": 22,
      "metadata": {
        "id": "ymkwmgV5Ld1R"
      },
      "outputs": [],
      "source": [
        "df_temp_test_1 = pd.DataFrame({'date_time': ['07/01/2021 23:00:00'], 'temp':[df_temp_surface_test['temp'].iloc[8781]]})\n",
        "df_temp_test_1 = format_datetime(df_temp_test_1)\n",
        "df_wind_test_1 = pd.DataFrame({'date_time': ['07/01/2021 23:00:00'], 'wind dir':[df_weather_wind_test['wind dir'].iloc[8781]],'wind speed':[df_weather_wind_test['wind speed'].iloc[8781]]})\n",
        "df_wind_test_1 = format_datetime(df_wind_test_1)\n",
        "df_so2_test_1 = pd.DataFrame({'date_time': ['07/01/2021 23:00:00'], 'so2 (ug/m^3)':[df_so2_test['so2 (ug/m^3)'].iloc[8781]]})\n",
        "df_so2_test_1 = format_datetime(df_so2_test_1)\n",
        "df_rh_test_1 = pd.DataFrame({'date_time': ['07/01/2021 23:00:00'], 'RH':[df_rh_test['RH'].iloc[8781]]})\n",
        "df_rh_test_1 = format_datetime(df_rh_test_1)"
      ]
    },
    {
      "cell_type": "code",
      "execution_count": 23,
      "metadata": {
        "id": "CUVH6KIzBvDO"
      },
      "outputs": [],
      "source": [
        "df_temp_surface_test = pd.concat([df_temp_test_0,df_temp_surface_test,df_temp_test_1])\n",
        "df_weather_wind_test = pd.concat([df_wind_test_0,df_weather_wind_test,df_wind_test_1])\n",
        "df_so2_test = pd.concat([df_so2_test_0,df_so2_test,df_so2_test_1])\n",
        "df_rh_test = pd.concat([df_rh_test_0,df_rh_test,df_rh_test_1])"
      ]
    },
    {
      "cell_type": "code",
      "execution_count": 24,
      "metadata": {
        "colab": {
          "base_uri": "https://localhost:8080/",
          "height": 455
        },
        "id": "BZGyRQIvlHHM",
        "outputId": "a96947b5-4b3b-4e25-e64a-2d1a6a9870db"
      },
      "outputs": [
        {
          "data": {
            "text/html": [
              "<div>\n",
              "<style scoped>\n",
              "    .dataframe tbody tr th:only-of-type {\n",
              "        vertical-align: middle;\n",
              "    }\n",
              "\n",
              "    .dataframe tbody tr th {\n",
              "        vertical-align: top;\n",
              "    }\n",
              "\n",
              "    .dataframe thead th {\n",
              "        text-align: right;\n",
              "    }\n",
              "</style>\n",
              "<table border=\"1\" class=\"dataframe\">\n",
              "  <thead>\n",
              "    <tr style=\"text-align: right;\">\n",
              "      <th></th>\n",
              "      <th>PM2.5</th>\n",
              "      <th>temp</th>\n",
              "      <th>wind dir</th>\n",
              "      <th>wind speed</th>\n",
              "      <th>so2 (ug/m^3)</th>\n",
              "      <th>RH</th>\n",
              "    </tr>\n",
              "    <tr>\n",
              "      <th>date_time</th>\n",
              "      <th></th>\n",
              "      <th></th>\n",
              "      <th></th>\n",
              "      <th></th>\n",
              "      <th></th>\n",
              "      <th></th>\n",
              "    </tr>\n",
              "  </thead>\n",
              "  <tbody>\n",
              "    <tr>\n",
              "      <th>2020-07-01 00:00:00</th>\n",
              "      <td>13.0</td>\n",
              "      <td>0.0</td>\n",
              "      <td>0</td>\n",
              "      <td>0</td>\n",
              "      <td>0.00</td>\n",
              "      <td>0.0</td>\n",
              "    </tr>\n",
              "    <tr>\n",
              "      <th>2020-07-01 01:00:00</th>\n",
              "      <td>13.0</td>\n",
              "      <td>24.0</td>\n",
              "      <td>265</td>\n",
              "      <td>24</td>\n",
              "      <td>2.73</td>\n",
              "      <td>88.0</td>\n",
              "    </tr>\n",
              "    <tr>\n",
              "      <th>2020-07-01 02:00:00</th>\n",
              "      <td>11.0</td>\n",
              "      <td>24.0</td>\n",
              "      <td>265</td>\n",
              "      <td>24</td>\n",
              "      <td>2.73</td>\n",
              "      <td>88.0</td>\n",
              "    </tr>\n",
              "    <tr>\n",
              "      <th>2020-07-01 03:00:00</th>\n",
              "      <td>13.0</td>\n",
              "      <td>24.0</td>\n",
              "      <td>265</td>\n",
              "      <td>24</td>\n",
              "      <td>2.73</td>\n",
              "      <td>88.0</td>\n",
              "    </tr>\n",
              "    <tr>\n",
              "      <th>2020-07-01 04:00:00</th>\n",
              "      <td>12.0</td>\n",
              "      <td>23.4</td>\n",
              "      <td>280</td>\n",
              "      <td>23</td>\n",
              "      <td>2.95</td>\n",
              "      <td>91.0</td>\n",
              "    </tr>\n",
              "    <tr>\n",
              "      <th>...</th>\n",
              "      <td>...</td>\n",
              "      <td>...</td>\n",
              "      <td>...</td>\n",
              "      <td>...</td>\n",
              "      <td>...</td>\n",
              "      <td>...</td>\n",
              "    </tr>\n",
              "    <tr>\n",
              "      <th>2021-07-01 19:00:00</th>\n",
              "      <td>13.0</td>\n",
              "      <td>24.6</td>\n",
              "      <td>250</td>\n",
              "      <td>23</td>\n",
              "      <td>1.43</td>\n",
              "      <td>83.0</td>\n",
              "    </tr>\n",
              "    <tr>\n",
              "      <th>2021-07-01 20:00:00</th>\n",
              "      <td>13.0</td>\n",
              "      <td>24.6</td>\n",
              "      <td>250</td>\n",
              "      <td>23</td>\n",
              "      <td>1.43</td>\n",
              "      <td>83.0</td>\n",
              "    </tr>\n",
              "    <tr>\n",
              "      <th>2021-07-01 21:00:00</th>\n",
              "      <td>13.0</td>\n",
              "      <td>24.6</td>\n",
              "      <td>250</td>\n",
              "      <td>23</td>\n",
              "      <td>1.43</td>\n",
              "      <td>83.0</td>\n",
              "    </tr>\n",
              "    <tr>\n",
              "      <th>2021-07-01 22:00:00</th>\n",
              "      <td>13.0</td>\n",
              "      <td>23.5</td>\n",
              "      <td>260</td>\n",
              "      <td>27</td>\n",
              "      <td>3.03</td>\n",
              "      <td>86.0</td>\n",
              "    </tr>\n",
              "    <tr>\n",
              "      <th>2021-07-01 23:00:00</th>\n",
              "      <td>13.0</td>\n",
              "      <td>23.5</td>\n",
              "      <td>260</td>\n",
              "      <td>27</td>\n",
              "      <td>3.03</td>\n",
              "      <td>86.0</td>\n",
              "    </tr>\n",
              "  </tbody>\n",
              "</table>\n",
              "<p>8784 rows × 6 columns</p>\n",
              "</div>"
            ],
            "text/plain": [
              "                     PM2.5  temp  wind dir  wind speed  so2 (ug/m^3)    RH\n",
              "date_time                                                                 \n",
              "2020-07-01 00:00:00   13.0   0.0         0           0          0.00   0.0\n",
              "2020-07-01 01:00:00   13.0  24.0       265          24          2.73  88.0\n",
              "2020-07-01 02:00:00   11.0  24.0       265          24          2.73  88.0\n",
              "2020-07-01 03:00:00   13.0  24.0       265          24          2.73  88.0\n",
              "2020-07-01 04:00:00   12.0  23.4       280          23          2.95  91.0\n",
              "...                    ...   ...       ...         ...           ...   ...\n",
              "2021-07-01 19:00:00   13.0  24.6       250          23          1.43  83.0\n",
              "2021-07-01 20:00:00   13.0  24.6       250          23          1.43  83.0\n",
              "2021-07-01 21:00:00   13.0  24.6       250          23          1.43  83.0\n",
              "2021-07-01 22:00:00   13.0  23.5       260          27          3.03  86.0\n",
              "2021-07-01 23:00:00   13.0  23.5       260          27          3.03  86.0\n",
              "\n",
              "[8784 rows x 6 columns]"
            ]
          },
          "execution_count": 24,
          "metadata": {},
          "output_type": "execute_result"
        }
      ],
      "source": [
        "test = df_test.merge(df_temp_surface_test,left_index=True,right_index=True)\n",
        "test['wind dir'] = df_weather_wind_test['wind dir'].values\n",
        "test['wind speed'] = df_weather_wind_test['wind speed'].values\n",
        "test = test.merge(df_so2_test,left_index=True,right_index=True)\n",
        "test = test.merge(df_rh_test,left_index=True,right_index=True)\n",
        "test"
      ]
    },
    {
      "cell_type": "markdown",
      "metadata": {
        "id": "6WiW47FdZg9Y"
      },
      "source": [
        "# Split data"
      ]
    },
    {
      "cell_type": "code",
      "execution_count": 25,
      "metadata": {
        "id": "iVYrrQiOZG47"
      },
      "outputs": [],
      "source": [
        "#train_size, valid_size = map(lambda r: int(r*data.shape[0]), (0.7, 0.3))"
      ]
    },
    {
      "cell_type": "code",
      "execution_count": 26,
      "metadata": {
        "id": "O2lSehXsaGhs"
      },
      "outputs": [],
      "source": [
        "#train, valid = data.iloc[:train_size], data.iloc[train_size:]\n",
        "train = data"
      ]
    },
    {
      "cell_type": "code",
      "execution_count": 27,
      "metadata": {
        "colab": {
          "base_uri": "https://localhost:8080/"
        },
        "id": "ZVHqx18OaOaU",
        "outputId": "a515d89d-b24a-47dc-ce59-e1096c48d88c"
      },
      "outputs": [
        {
          "data": {
            "text/plain": [
              "(26304, 6)"
            ]
          },
          "execution_count": 27,
          "metadata": {},
          "output_type": "execute_result"
        }
      ],
      "source": [
        "train.shape"
      ]
    },
    {
      "cell_type": "code",
      "execution_count": 28,
      "metadata": {
        "colab": {
          "base_uri": "https://localhost:8080/"
        },
        "id": "MBG0lkyAaWw2",
        "outputId": "24a3a759-1c29-47c9-f120-ac272ab1ef2f"
      },
      "outputs": [],
      "source": [
        "#valid.shape"
      ]
    },
    {
      "cell_type": "code",
      "execution_count": 29,
      "metadata": {
        "id": "HFxQ-2daaYKa"
      },
      "outputs": [],
      "source": [
        "exog_columns = ['wind speed','wind dir','temp','so2 (ug/m^3)','RH']"
      ]
    },
    {
      "cell_type": "markdown",
      "metadata": {
        "id": "C3uAHge0aq9t"
      },
      "source": [
        "# Fit model with exogenous data"
      ]
    },
    {
      "cell_type": "code",
      "execution_count": 30,
      "metadata": {
        "colab": {
          "base_uri": "https://localhost:8080/"
        },
        "id": "tLH3InIiagQ9",
        "outputId": "983b0778-f869-4e4d-c9b4-253cb300efe8"
      },
      "outputs": [],
      "source": [
        "from sklearn.metrics import mean_squared_error\n",
        "from statsmodels.tsa.statespace.sarimax import SARIMAX"
      ]
    },
    {
      "cell_type": "code",
      "execution_count": 31,
      "metadata": {
        "id": "fqHmiViaVvNQ"
      },
      "outputs": [],
      "source": [
        "from sklearn.model_selection import GridSearchCV"
      ]
    },
    {
      "cell_type": "code",
      "execution_count": 32,
      "metadata": {
        "id": "f5J6kQzGgRh6"
      },
      "outputs": [],
      "source": [
        "import math"
      ]
    },
    {
      "cell_type": "code",
      "execution_count": 33,
      "metadata": {
        "colab": {
          "base_uri": "https://localhost:8080/"
        },
        "id": "Er4Hz7wSDJ-7",
        "outputId": "0c1a55ee-aef7-4d4f-a84d-f345667c793f"
      },
      "outputs": [
        {
          "name": "stdout",
          "output_type": "stream",
          "text": [
            "SARIMAX(0, 0, 1)x(1, 0, 0, 12) - AIC:214635.41719843828 - MSE:23.1603875715688\n",
            "SARIMAX(0, 0, 1)x(0, 0, 1, 12) - AIC:221010.20562449994 - MSE:19.886654885373268\n",
            "SARIMAX(0, 0, 1)x(1, 1, 0, 12) - AIC:203250.4315167037 - MSE:26.135972457471567\n",
            "SARIMAX(0, 0, 1)x(0, 1, 1, 12) - AIC:205040.45589241482 - MSE:25.261252972716612\n",
            "SARIMAX(0, 1, 1)x(1, 0, 0, 12) - AIC:186416.9935636501 - MSE:23.662283040514307\n",
            "SARIMAX(0, 1, 1)x(0, 0, 1, 12) - AIC:186409.09336534853 - MSE:23.653607465715115\n",
            "SARIMAX(0, 1, 1)x(1, 1, 0, 12) - AIC:193151.66251574268 - MSE:887.2391510532823\n",
            "SARIMAX(0, 1, 1)x(0, 1, 1, 12) - AIC:185205.6322191587 - MSE:20.405891641458837\n",
            "SARIMAX(0, 2, 1)x(1, 0, 0, 12) - AIC:186472.08859486363 - MSE:23.690400397643604\n",
            "SARIMAX(0, 2, 1)x(0, 0, 1, 12) - AIC:186464.97409549853 - MSE:23.703691755649473\n",
            "SARIMAX(0, 2, 1)x(1, 1, 0, 12) - AIC:193427.4469022347 - MSE:846.8230801933702\n",
            "SARIMAX(0, 2, 1)x(0, 1, 1, 12) - AIC:185213.8815075055 - MSE:25.34072869988353\n",
            "SARIMAX(1, 0, 0)x(1, 0, 0, 12) - AIC:186221.15022490735 - MSE:25.99841391305449\n",
            "SARIMAX(1, 0, 0)x(0, 0, 1, 12) - AIC:186223.5974253774 - MSE:25.968460278285182\n",
            "SARIMAX(1, 0, 0)x(1, 1, 0, 12) - AIC:191032.5992746404 - MSE:25.614702272264307\n",
            "SARIMAX(1, 0, 0)x(0, 1, 1, 12) - AIC:184139.56686821693 - MSE:25.102929448207707\n",
            "SARIMAX(1, 1, 0)x(1, 0, 0, 12) - AIC:186417.5529515505 - MSE:23.682322055922047\n",
            "SARIMAX(1, 1, 0)x(0, 0, 1, 12) - AIC:186422.25170762642 - MSE:23.678073726070778\n"
          ]
        }
      ],
      "source": [
        "pdq = [(0,0,1),(0,1,1),(0,2,1),(1,0,0),(1,1,0),(1,2,0),(0,0,2),]\n",
        "seasonal_pdq = [(1,0,0,12),(0,0,1,12),(1,1,0,12),(0,1,1,12)]\n",
        "params = [] \n",
        "params_s = [] \n",
        "aics = [] \n",
        "mses = []\n",
        "cnt = 0 \n",
        "for param in pdq:\n",
        "  for param_seasonal in seasonal_pdq:\n",
        "    mod = SARIMAX(train['PM2.5'],\n",
        "    exog=train[exog_columns],\n",
        "    order=param,\n",
        "    seasonal_order=param_seasonal,\n",
        "    freq='H',\n",
        "    enforce_stationarity=False,\n",
        "    enforce_invertibility=False)\n",
        "    results = mod.fit()\n",
        "    #test_exog = pd.concat((valid[exog_columns], test[exog_columns]), axis=0)\n",
        "    pred = results.get_prediction(start=test.index[0], end=test.index[-1], exog=test[exog_columns], dynamic=False)\n",
        "    pred_ci = pred.conf_int()\n",
        "    params.append(param)\n",
        "    params_s.append(param_seasonal)\n",
        "    aics.append(results.aic)\n",
        "    mse = mean_squared_error(test['PM2.5'], pred.predicted_mean)\n",
        "    rmse = math.sqrt(mse) \n",
        "    mses.append(rmse)\n",
        "    print('SARIMAX{}x{} - AIC:{} - MSE:{}'.format(param, param_seasonal,results.aic, mses[-1]))"
      ]
    },
    {
      "cell_type": "code",
      "execution_count": null,
      "metadata": {
        "id": "r24ULIi_fckF"
      },
      "outputs": [
        {
          "data": {
            "text/plain": [
              "(18412, 4)"
            ]
          },
          "execution_count": 37,
          "metadata": {},
          "output_type": "execute_result"
        }
      ],
      "source": [
        "train.shape"
      ]
    },
    {
      "cell_type": "code",
      "execution_count": null,
      "metadata": {},
      "outputs": [],
      "source": [
        "def getBestParams(inputlist):\n",
        " \n",
        "    #get the minimum value in the list\n",
        "    min_value = min(inputlist)\n",
        " \n",
        "    #return the index of minimum value \n",
        "    min_index=inputlist.index(min_value)\n",
        "    return params[min_index], params_s[min_index]"
      ]
    },
    {
      "cell_type": "code",
      "execution_count": null,
      "metadata": {},
      "outputs": [],
      "source": [
        "bestPDQ, bestSeasonalPDQ = getBestParams(mses)"
      ]
    },
    {
      "cell_type": "code",
      "execution_count": null,
      "metadata": {},
      "outputs": [
        {
          "name": "stdout",
          "output_type": "stream",
          "text": [
            "(0, 0, 1) (0, 1, 1, 12)\n"
          ]
        }
      ],
      "source": [
        "print(bestPDQ,bestSeasonalPDQ)"
      ]
    },
    {
      "cell_type": "code",
      "execution_count": null,
      "metadata": {
        "id": "5hwH8CaUau55"
      },
      "outputs": [
        {
          "name": "stdout",
          "output_type": "stream",
          "text": [
            "==============================================================================\n",
            "                 coef    std err          z      P>|z|      [0.025      0.975]\n",
            "------------------------------------------------------------------------------\n",
            "wind speed    -0.0646      0.012     -5.237      0.000      -0.089      -0.040\n",
            "wind dir      -0.0074      0.001     -5.344      0.000      -0.010      -0.005\n",
            "temp           0.2214      0.038      5.838      0.000       0.147       0.296\n",
            "ma.L1          0.6893      0.004    187.354      0.000       0.682       0.697\n",
            "ma.S.L12      -0.7307      0.004   -185.708      0.000      -0.738      -0.723\n",
            "sigma2        58.9244      0.352    167.494      0.000      58.235      59.614\n",
            "==============================================================================\n"
          ]
        }
      ],
      "source": [
        "mod = SARIMAX(train['PM2.5'],\n",
        "              exog=train[exog_columns],\n",
        "              order=bestPDQ,\n",
        "              seasonal_order=bestSeasonalPDQ,\n",
        "              enforce_stationarity=False,\n",
        "              enforce_invertibility=False)\n",
        "\n",
        "results = mod.fit()\n",
        "\n",
        "print(results.summary().tables[1])"
      ]
    },
    {
      "cell_type": "markdown",
      "metadata": {
        "id": "Ncm_E2bBckpa"
      },
      "source": [
        "# Predict on test"
      ]
    },
    {
      "cell_type": "code",
      "execution_count": null,
      "metadata": {
        "id": "ffZEIbRgazBC"
      },
      "outputs": [],
      "source": [
        "# test_exog = pd.concat((valid[exog_columns], test[exog_columns]), axis=0)"
      ]
    },
    {
      "cell_type": "code",
      "execution_count": null,
      "metadata": {
        "id": "x7Qaj6icbEZM"
      },
      "outputs": [],
      "source": [
        "pred = results.get_prediction(start=test.index[0], end=test.index[-1], exog=test_exog, dynamic=False)\n",
        "pred_ci = pred.conf_int()"
      ]
    },
    {
      "cell_type": "code",
      "execution_count": null,
      "metadata": {
        "colab": {
          "base_uri": "https://localhost:8080/",
          "height": 419
        },
        "id": "IRHFRthatSlD",
        "outputId": "a0123db8-1a1d-4f7d-e51a-00d6f4cc7124"
      },
      "outputs": [
        {
          "data": {
            "image/png": "[encoded data removed]",
            "text/plain": [
              "<Figure size 1440x480 with 1 Axes>"
            ]
          },
          "metadata": {},
          "output_type": "display_data"
        }
      ],
      "source": [
        "from matplotlib.pyplot import figure\n",
        "figure(num=None, figsize=(18, 6), dpi=80, facecolor='w', edgecolor='k')\n",
        "plt.plot(pd.concat([data['PM2.5'],test['PM2.5']]), color='g',label='ground truth')\n",
        "pred.predicted_mean.plot(alpha=.7, color='r',label='predict')\n",
        "plt.legend(loc=\"upper right\")\n",
        "\n",
        "plt.show()"
      ]
    },
    {
      "cell_type": "code",
      "execution_count": null,
      "metadata": {
        "id": "4AF0i7xNtfzH"
      },
      "outputs": [],
      "source": [
        "import math"
      ]
    },
    {
      "cell_type": "code",
      "execution_count": null,
      "metadata": {
        "colab": {
          "base_uri": "https://localhost:8080/"
        },
        "id": "q3j64mGOtT5x",
        "outputId": "bdcaddec-2f74-4f5f-8c82-6321fd8543b5"
      },
      "outputs": [
        {
          "name": "stdout",
          "output_type": "stream",
          "text": [
            "Test on SARIMAX with RMSE: 9.712677\n"
          ]
        }
      ],
      "source": [
        "mse = mean_squared_error(test['PM2.5'], pred.predicted_mean)\n",
        "rmse = math.sqrt(mse)\n",
        "print('Test on SARIMAX with RMSE: %f' % (rmse, ))"
      ]
    },
    {
      "cell_type": "code",
      "execution_count": null,
      "metadata": {},
      "outputs": [
        {
          "data": {
            "text/plain": [
              "2020-07-01 00:00:00    13.742506\n",
              "2020-07-01 01:00:00    13.666879\n",
              "2020-07-01 02:00:00    14.336152\n",
              "2020-07-01 03:00:00    12.891660\n",
              "2020-07-01 04:00:00    13.198602\n",
              "                         ...    \n",
              "2021-07-01 19:00:00    18.137218\n",
              "2021-07-01 20:00:00    19.210351\n",
              "2021-07-01 21:00:00    20.376057\n",
              "2021-07-01 22:00:00    19.188949\n",
              "2021-07-01 23:00:00    19.584362\n",
              "Freq: H, Name: predicted_mean, Length: 8784, dtype: float64"
            ]
          },
          "execution_count": 57,
          "metadata": {},
          "output_type": "execute_result"
        }
      ],
      "source": [
        "pred.predicted_mean"
      ]
    },
    {
      "cell_type": "code",
      "execution_count": 59,
      "metadata": {},
      "outputs": [],
      "source": [
        "pred.predicted_mean.to_csv('predict.csv', index=True)"
      ]
    }
  ],
  "metadata": {
    "colab": {
      "collapsed_sections": [],
      "name": "SamuunJinnie ver2.1.ipynb",
      "provenance": []
    },
    "kernelspec": {
      "display_name": "Python 3",
      "name": "python3"
    },
    "language_info": {
      "codemirror_mode": {
        "name": "ipython",
        "version": 3
      },
      "file_extension": ".py",
      "mimetype": "text/x-python",
      "name": "python",
      "nbconvert_exporter": "python",
      "pygments_lexer": "ipython3",
      "version": "3.9.11"
    }
  },
  "nbformat": 4,
  "nbformat_minor": 0
}
