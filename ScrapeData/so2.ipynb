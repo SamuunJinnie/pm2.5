{
 "cells": [
  {
   "cell_type": "code",
   "execution_count": null,
   "metadata": {},
   "outputs": [],
   "source": [
    "import requests\n",
    "import pandas as pd\n",
    "import numpy as np\n",
    "from bs4 import BeautifulSoup"
   ]
  },
  {
   "cell_type": "code",
   "execution_count": null,
   "metadata": {},
   "outputs": [],
   "source": [
    "from selenium import webdriver\n",
    "from selenium.webdriver.chrome.service import Service as ChromeService\n",
    "from webdriver_manager.chrome import ChromeDriverManager\n",
    "from selenium.webdriver.support.ui import WebDriverWait\n",
    "from selenium.webdriver.common.by import By\n",
    "from selenium.webdriver.support import expected_conditions as EC\n",
    "\n",
    "import time\n",
    "import os\n",
    "from datetime import datetime"
   ]
  },
  {
   "cell_type": "code",
   "execution_count": null,
   "metadata": {},
   "outputs": [],
   "source": [
    "provinces = ['BKK','Chiangmai','Khonkaen','Rayong','Saraburi','Surat']\n",
    "provincesLatLng = dict()"
   ]
  },
  {
   "cell_type": "code",
   "execution_count": null,
   "metadata": {},
   "outputs": [],
   "source": [
    "for province in provinces:\n",
    "    file = open(f'./{province}/position.txt','r').read().split('\\n')\n",
    "    temp = dict()\n",
    "    temp['lat'] = file[0].split(' ')[2]\n",
    "    temp['lng'] = file[1].split(' ')[2]\n",
    "    provincesLatLng[province] =  temp\n",
    "provincesLatLng"
   ]
  },
  {
   "cell_type": "code",
   "execution_count": null,
   "metadata": {},
   "outputs": [],
   "source": [
    "service = ChromeService(executable_path=ChromeDriverManager().install())\n",
    "driver = webdriver.Chrome(service=service)"
   ]
  },
  {
   "cell_type": "code",
   "execution_count": null,
   "metadata": {},
   "outputs": [],
   "source": [
    "# 2020/07/01 01:00(utc+7) – 2021/06/30 22:00 => 2020/06/30/1800Z (utc+0) - 2021/06/30/1500Z (utc+0)\n",
    "def formatTime(dt):\n",
    "    temp = dt.split(' ')\n",
    "    date0, time0 = temp[0] , temp[1]\n",
    "    year,month,day = date0.split('-')\n",
    "    date = (\"/\").join([day,month,year])\n",
    "    hour = time0.split(':')[0]\n",
    "    time = (\":\").join([str(int(hour)),'00','00'])\n",
    "    date_time = (\" \").join([date,time])\n",
    "    return date_time"
   ]
  },
  {
   "cell_type": "code",
   "execution_count": null,
   "metadata": {},
   "outputs": [],
   "source": [
    "formatTime(\"2020-06-30 07:00 Local\")"
   ]
  },
  {
   "cell_type": "code",
   "execution_count": null,
   "metadata": {},
   "outputs": [],
   "source": [
    "#use time in utc+0\n",
    "def scrapeData(year,month,day,hour,province):\n",
    "    lat, lng = provincesLatLng[province]['lat'], provincesLatLng[province]['lng']\n",
    "    url = f'https://earth.nullschool.net/#{year}/{month:02d}/{day:02d}/{hour:02d}00Z/chem/surface/level/overlay=so2smass/equirectangular/loc={lng},{lat}'\n",
    "    #go to web\n",
    "    driver.get(url=url)\n",
    "    element = WebDriverWait(driver,9999).until(EC.visibility_of_element_located((By.XPATH, '//*[@id=\"spotlight-panel\"]/div[3]/div')))\n",
    "    data_status = driver.find_element(By.XPATH,'/html/body/main/div[3]/div[1]/div')\n",
    "    if data_status.text==\"Downloading...\":\n",
    "        while True:\n",
    "            time.sleep(0.05)\n",
    "            data_status = driver.find_element(By.XPATH,'/html/body/main/div[3]/div[1]/div')\n",
    "            if data_status.text==\"Downloading...\":\n",
    "                continue\n",
    "            else :\n",
    "                break\n",
    "    #so2\n",
    "    data = element.text.split(' ')[0]\n",
    "    print(data)\n",
    "    return data"
   ]
  },
  {
   "cell_type": "code",
   "execution_count": null,
   "metadata": {},
   "outputs": [],
   "source": [
    "scrapeData(2020,6,30,6,'BKK')"
   ]
  },
  {
   "cell_type": "code",
   "execution_count": null,
   "metadata": {},
   "outputs": [],
   "source": [
    "nday = [0,31,28,31,30,31,30,31,31,30,31,30,31]"
   ]
  },
  {
   "cell_type": "code",
   "execution_count": null,
   "metadata": {},
   "outputs": [],
   "source": [
    "# 2017/07/01 01:00(utc+7) – 2021/06/30 22:00 => 2017/06/30/1800Z (utc+0) - 2021/06/30/1500Z (utc+0)\n",
    "def getData(province):\n",
    "    tempDict = dict()\n",
    "    listData = []\n",
    "    y = 2017\n",
    "    data_temp = scrapeData(2017,6,30,18,province)\n",
    "    listData.append(data_temp)\n",
    "    data_temp  = scrapeData(2017,6,30,21,province)\n",
    "    listData.append(data_temp)\n",
    "    for m in range(7,13):\n",
    "        for d in range(1,32):\n",
    "            if(d > nday[m]):\n",
    "                continue\n",
    "            for h in range(0,24,3):\n",
    "                data_temp= scrapeData(y,m,d,h,province)\n",
    "                listData.append(data_temp)\n",
    "    for yy in range(2018,2021):\n",
    "        for m in range(1,13):\n",
    "            for d in range(1,32):\n",
    "                if(d > nday[m]):\n",
    "                    continue\n",
    "                for h in range(0,24,3):\n",
    "                    data_temp= scrapeData(yy,m,d,h,province)\n",
    "                    listData.append(data_temp)\n",
    "    y = 2021\n",
    "    for m in range(1,8):\n",
    "        for d in range(1,32):\n",
    "            if(d > nday[m]):\n",
    "                continue\n",
    "            for h in range(0,24,3):\n",
    "                data_temp= scrapeData(y,m,d,h,province)\n",
    "                listData.append(data_temp)\n",
    "                if(m==7 and d== 1 and h == 15):\n",
    "                    break\n",
    "            if(m==7 and d == 1):\n",
    "                break\n",
    "    tempDict['so2 (ug/m^3)'] = listData\n",
    "    return tempDict"
   ]
  },
  {
   "cell_type": "code",
   "execution_count": null,
   "metadata": {},
   "outputs": [],
   "source": [
    "tempDict = dict()\n",
    "listData = []\n",
    "data_temp = scrapeData(2020,6,30,18,'BKK')\n",
    "listData.append(data_temp)\n",
    "data_temp = scrapeData(2020,6,30,6,'BKK')\n",
    "listData.append(data_temp)\n",
    "tempDict['so2 (ppmv)'] = listData\n",
    "tempDict"
   ]
  },
  {
   "cell_type": "code",
   "execution_count": null,
   "metadata": {},
   "outputs": [],
   "source": [
    "tempBKK = getData('BKK')"
   ]
  },
  {
   "cell_type": "code",
   "execution_count": null,
   "metadata": {},
   "outputs": [],
   "source": [
    "dfBKK = pd.DataFrame(tempBKK)\n",
    "dfBKK.to_csv('bkk_so2_surface.csv', index=False)"
   ]
  },
  {
   "cell_type": "code",
   "execution_count": null,
   "metadata": {},
   "outputs": [],
   "source": [
    "tempChiangmai = getData('Chiangmai')"
   ]
  },
  {
   "cell_type": "code",
   "execution_count": null,
   "metadata": {},
   "outputs": [],
   "source": [
    "dfChiangmai = pd.DataFrame(tempChiangmai)\n",
    "dfChiangmai.to_csv('chiangmai_so2_surface.csv', index=False)"
   ]
  },
  {
   "cell_type": "code",
   "execution_count": null,
   "metadata": {},
   "outputs": [],
   "source": [
    "tempKhonkaen = getData('Khonkaen')"
   ]
  },
  {
   "cell_type": "code",
   "execution_count": null,
   "metadata": {},
   "outputs": [],
   "source": [
    "dfKhonkaen = pd.DataFrame(tempKhonkaen)\n",
    "dfKhonkaen.to_csv('khonkaen_so2_surface_test.csv', index=False)"
   ]
  },
  {
   "cell_type": "code",
   "execution_count": null,
   "metadata": {},
   "outputs": [],
   "source": [
    "tempRayong = getData('Rayong')"
   ]
  },
  {
   "cell_type": "code",
   "execution_count": null,
   "metadata": {},
   "outputs": [],
   "source": [
    "dfRayong = pd.DataFrame(tempRayong)\n",
    "dfRayong.to_csv('rayong_so2_surface_test.csv', index=False)"
   ]
  },
  {
   "cell_type": "code",
   "execution_count": null,
   "metadata": {},
   "outputs": [],
   "source": [
    "tempSaraburi = getData('Saraburi')"
   ]
  },
  {
   "cell_type": "code",
   "execution_count": null,
   "metadata": {},
   "outputs": [],
   "source": [
    "dfSaraburi = pd.DataFrame(tempSaraburi)\n",
    "dfSaraburi.to_csv('saraburi_so2_surface_test.csv', index=False)"
   ]
  },
  {
   "cell_type": "code",
   "execution_count": null,
   "metadata": {},
   "outputs": [],
   "source": [
    "# 2021/07/01 01:00(utc+7) – 2021/07/01 22:00 => 2021/06/30/1800Z (utc+0) - 2021/07/01/1500Z (utc+0)\n",
    "def scrapeAdditionalDay(province):\n",
    "    df1 = pd.read_csv(f'./{province}_so2_surface.csv')\n",
    "    tempDict2 = dict()\n",
    "    listTemp2 = []\n",
    "    \n",
    "    data_temp= scrapeData(2021,6,22,15,province)\n",
    "    listTemp2.append(data_temp)\n",
    "    data_temp= scrapeData(2021,6,22,18,province)\n",
    "    listTemp2.append(data_temp)\n",
    "    data_temp= scrapeData(2021,6,22,21,province)\n",
    "    listTemp2.append(data_temp)\n",
    "    for d in range(23,31):\n",
    "        for h in range(0,24,3):\n",
    "            data_temp= scrapeData(2021,6,d,h,province)\n",
    "            listTemp2.append(data_temp)\n",
    "    data_temp= scrapeData(2021,7,1,0,province)\n",
    "    listTemp2.append(data_temp)\n",
    "    data_temp= scrapeData(2021,7,1,3,province)\n",
    "    listTemp2.append(data_temp)\n",
    "    data_temp= scrapeData(2021,7,1,6,province)\n",
    "    listTemp2.append(data_temp)\n",
    "    data_temp= scrapeData(2021,7,1,9,province)\n",
    "    listTemp2.append(data_temp)\n",
    "    data_temp= scrapeData(2021,7,1,12,province)\n",
    "    listTemp2.append(data_temp)\n",
    "    data_temp= scrapeData(2021,7,1,15,province)\n",
    "    listTemp2.append(data_temp) \n",
    "    tempDict2['so2 (ppmv)'] = listTemp2\n",
    "    df2 = pd.DataFrame(tempDict2)\n",
    "    return pd.concat([df1,df2])"
   ]
  },
  {
   "cell_type": "code",
   "execution_count": null,
   "metadata": {},
   "outputs": [],
   "source": [
    "dfSaraburiNew = scrapeAdditionalDay('Saraburi')\n",
    "dfSaraburiNew.to_csv('Saraburi_so2_surface2.csv', index=False)"
   ]
  },
  {
   "cell_type": "code",
   "execution_count": null,
   "metadata": {},
   "outputs": [],
   "source": [
    "tempSurat = getData('Surat')"
   ]
  },
  {
   "cell_type": "code",
   "execution_count": null,
   "metadata": {},
   "outputs": [],
   "source": [
    "dfSurat = pd.DataFrame(tempSurat)\n",
    "dfSurat.to_csv('surat_so2_surface_test.csv', index=False)"
   ]
  },
  {
   "cell_type": "code",
   "execution_count": null,
   "metadata": {},
   "outputs": [],
   "source": [
    "driver.quit()"
   ]
  }
 ],
 "metadata": {
  "interpreter": {
   "hash": "2647ea34e536f865ab67ff9ddee7fd78773d956cec0cab53c79b32cd10da5d83"
  },
  "kernelspec": {
   "display_name": "Python 3.9.1 64-bit",
   "language": "python",
   "name": "python3"
  },
  "language_info": {
   "codemirror_mode": {
    "name": "ipython",
    "version": 3
   },
   "file_extension": ".py",
   "mimetype": "text/x-python",
   "name": "python",
   "nbconvert_exporter": "python",
   "pygments_lexer": "ipython3",
   "version": "3.9.1"
  },
  "orig_nbformat": 4
 },
 "nbformat": 4,
 "nbformat_minor": 2
}
