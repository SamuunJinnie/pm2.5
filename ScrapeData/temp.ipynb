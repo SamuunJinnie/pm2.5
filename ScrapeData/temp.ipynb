{
 "cells": [
  {
   "cell_type": "code",
   "execution_count": 3,
   "metadata": {},
   "outputs": [],
   "source": [
    "import requests\n",
    "import pandas as pd\n",
    "import numpy as np"
   ]
  },
  {
   "cell_type": "code",
   "execution_count": 4,
   "metadata": {},
   "outputs": [],
   "source": [
    "from selenium import webdriver\n",
    "from selenium.webdriver.chrome.service import Service as ChromeService\n",
    "from webdriver_manager.chrome import ChromeDriverManager\n",
    "from selenium.webdriver.support.ui import WebDriverWait\n",
    "from selenium.webdriver.common.by import By\n",
    "from selenium.webdriver.support import expected_conditions as EC\n",
    "\n",
    "import time\n",
    "import os\n",
    "from datetime import datetime"
   ]
  },
  {
   "cell_type": "code",
   "execution_count": 5,
   "metadata": {},
   "outputs": [],
   "source": [
    "provinces = ['BKK','Chiangmai','Khonkaen','Rayong','Saraburi','Surat']\n",
    "provincesLatLng = dict()"
   ]
  },
  {
   "cell_type": "code",
   "execution_count": 6,
   "metadata": {},
   "outputs": [
    {
     "data": {
      "text/plain": [
       "{'BKK': {'lat': '13.729984', 'lng': '100.536443'},\n",
       " 'Chiangmai': {'lat': '18.840633', 'lng': '98.969661'},\n",
       " 'Khonkaen': {'lat': '16.445329', 'lng': '102.835251'},\n",
       " 'Rayong': {'lat': '12.671521', 'lng': '101.275875'},\n",
       " 'Saraburi': {'lat': '14.685833', 'lng': '100.871996'},\n",
       " 'Surat': {'lat': '9.126057', 'lng': '99.325355'}}"
      ]
     },
     "execution_count": 6,
     "metadata": {},
     "output_type": "execute_result"
    }
   ],
   "source": [
    "for province in provinces:\n",
    "    file = open(f'./{province}/position.txt','r').read().split('\\n')\n",
    "    temp = dict()\n",
    "    temp['lat'] = file[0].split(' ')[2]\n",
    "    temp['lng'] = file[1].split(' ')[2]\n",
    "    provincesLatLng[province] =  temp\n",
    "provincesLatLng"
   ]
  },
  {
   "cell_type": "code",
   "execution_count": 7,
   "metadata": {},
   "outputs": [
    {
     "name": "stderr",
     "output_type": "stream",
     "text": [
      "\n",
      "\n",
      "====== WebDriver manager ======\n",
      "Could not get version for google-chrome with the command:  powershell \"$ErrorActionPreference='silentlycontinue' ; (Get-Item -Path \"$env:PROGRAMFILES\\Google\\Chrome\\Application\\chrome.exe\").VersionInfo.FileVersion ; if (-not $? -or $? -match $error) { (Get-Item -Path \"$env:PROGRAMFILES(x86)\\Google\\Chrome\\Application\\chrome.exe\").VersionInfo.FileVersion } if (-not $? -or $? -match $error) { (Get-Item -Path \"$env:LOCALAPPDATA\\Google\\Chrome\\Application\\chrome.exe\").VersionInfo.FileVersion } if (-not $? -or $? -match $error) { reg query \"HKCU\\SOFTWARE\\Google\\Chrome\\BLBeacon\" /v version } if (-not $? -or $? -match $error) { reg query \"HKLM\\SOFTWARE\\Wow6432Node\\Microsoft\\Windows\\CurrentVersion\\Uninstall\\Google Chrome\" /v version }\"\n",
      "Current google-chrome version is UNKNOWN\n",
      "Get LATEST chromedriver version for UNKNOWN google-chrome\n",
      "Trying to download new driver from https://chromedriver.storage.googleapis.com/99.0.4844.51/chromedriver_win32.zip\n",
      "Driver has been saved in cache [C:\\Users\\User\\.wdm\\drivers\\chromedriver\\win32\\99.0.4844.51]\n"
     ]
    }
   ],
   "source": [
    "service = ChromeService(executable_path=ChromeDriverManager().install())\n",
    "driver = webdriver.Chrome(service=service)"
   ]
  },
  {
   "cell_type": "code",
   "execution_count": 8,
   "metadata": {},
   "outputs": [],
   "source": [
    "# 2020/07/01 01:00(utc+7) – 2021/06/30 22:00 => 2020/06/30/1800Z (utc+0) - 2021/06/30/1500Z (utc+0)\n",
    "def formatTime(dt):\n",
    "    temp = dt.split(' ')\n",
    "    date0, time0 = temp[0] , temp[1]\n",
    "    year,month,day = date0.split('-')\n",
    "    date = (\"/\").join([day,month,year])\n",
    "    hour = time0.split(':')[0]\n",
    "    time = (\":\").join([str(int(hour)),'00','00'])\n",
    "    date_time = (\" \").join([date,time])\n",
    "    return date_time"
   ]
  },
  {
   "cell_type": "code",
   "execution_count": 9,
   "metadata": {},
   "outputs": [
    {
     "data": {
      "text/plain": [
       "'30/06/2020 7:00:00'"
      ]
     },
     "execution_count": 9,
     "metadata": {},
     "output_type": "execute_result"
    }
   ],
   "source": [
    "formatTime(\"2020-06-30 07:00 Local\")"
   ]
  },
  {
   "cell_type": "code",
   "execution_count": 10,
   "metadata": {},
   "outputs": [],
   "source": [
    "#use time in utc+0\n",
    "def scrapeTemp(year,month,day,hour,province):\n",
    "    lat, lng = provincesLatLng[province]['lat'], provincesLatLng[province]['lng']\n",
    "    url = f'https://earth.nullschool.net/#{year}/{month:02d}/{day:02d}/{hour:02d}00Z/wind/surface/level/anim=off/overlay=temp/orthographic/loc={lng},{lat}'\n",
    "    driver.get(url=url)\n",
    "    element = WebDriverWait(driver,9999).until(EC.visibility_of_element_located((By.XPATH, '//*[@id=\"spotlight-panel\"]/div[3]/div')))\n",
    "    data_status = driver.find_element(By.XPATH,'/html/body/main/div[3]/div[1]/div')\n",
    "    if data_status.text==\"Downloading...\":\n",
    "        while True:\n",
    "            time.sleep(0.05)\n",
    "            data_status = driver.find_element(By.XPATH,'/html/body/main/div[3]/div[1]/div')\n",
    "            if data_status.text==\"Downloading...\":\n",
    "                continue\n",
    "            else :\n",
    "                break\n",
    "    temperature = element.text.split(' ')[0]\n",
    "    print(temperature)\n",
    "    return temperature"
   ]
  },
  {
   "cell_type": "code",
   "execution_count": 11,
   "metadata": {},
   "outputs": [
    {
     "name": "stdout",
     "output_type": "stream",
     "text": [
      "32.0\n"
     ]
    },
    {
     "data": {
      "text/plain": [
       "'32.0'"
      ]
     },
     "execution_count": 11,
     "metadata": {},
     "output_type": "execute_result"
    }
   ],
   "source": [
    "scrapeTemp(2020,6,30,6,'BKK')"
   ]
  },
  {
   "cell_type": "code",
   "execution_count": null,
   "metadata": {},
   "outputs": [],
   "source": [
    "nday = [0,31,28,31,30,31,30,31,31,30,31,30,31]"
   ]
  },
  {
   "cell_type": "code",
   "execution_count": null,
   "metadata": {},
   "outputs": [],
   "source": [
    "# 2020/07/01 01:00(utc+7) – 2021/06/30 22:00 => 2020/06/30/1800Z (utc+0) - 2021/06/30/1500Z (utc+0)\n",
    "def getTempData(province):\n",
    "    tempDict = dict()\n",
    "    listTemp = []\n",
    "    y = 2020\n",
    "    temperature = scrapeTemp(2020,6,30,18,province)\n",
    "    listTemp.append(temperature)\n",
    "    temperature  = scrapeTemp(2020,6,30,21,province)\n",
    "    listTemp.append(temperature)\n",
    "    for m in range(7,13):\n",
    "        for d in range(1,32):\n",
    "            if(d > nday[m]):\n",
    "                continue\n",
    "            for h in range(0,24,3):\n",
    "                temperature= scrapeTemp(y,m,d,h,province)\n",
    "                listTemp.append(temperature)\n",
    "    y = 2021\n",
    "    for m in range(1,7):\n",
    "        for d in range(1,32):\n",
    "            if(d > nday[m]):\n",
    "                continue\n",
    "            for h in range(0,24,3):\n",
    "                temperature= scrapeTemp(y,m,d,h,province)\n",
    "                listTemp.append(temperature)\n",
    "                if(m==6 and d== 30 and h == 15):\n",
    "                    break\n",
    "    tempDict['temp'] = listTemp\n",
    "    return tempDict"
   ]
  },
  {
   "cell_type": "code",
   "execution_count": null,
   "metadata": {},
   "outputs": [],
   "source": [
    "tempDict = dict()\n",
    "listDateTime = []\n",
    "listTemp = []\n",
    "temperature = scrapeTemp(2020,6,30,18,'BKK')\n",
    "listTemp.append(temperature)\n",
    "temperature = scrapeTemp(2020,6,30,6,'BKK')\n",
    "listTemp.append(temperature)\n",
    "tempDict['temp'] = listTemp\n",
    "tempDict"
   ]
  },
  {
   "cell_type": "code",
   "execution_count": null,
   "metadata": {},
   "outputs": [],
   "source": [
    "# 2021/07/01 01:00(utc+7) – 2021/07/01 22:00 => 2021/06/30/1800Z (utc+0) - 2021/07/01/1500Z (utc+0)\n",
    "def scrapeAdditionalDay(province):\n",
    "    df1 = pd.read_csv(f'./{province}_temp_surface_test.csv')\n",
    "    tempDict2 = dict()\n",
    "    listTemp2 = []\n",
    "    # 01\n",
    "    temperature= scrapeTemp(2021,6,30,18,province)\n",
    "    listTemp2.append(temperature)\n",
    "    # 04\n",
    "    temperature= scrapeTemp(2021,6,30,21,province)\n",
    "    listTemp2.append(temperature)\n",
    "    # 07\n",
    "    temperature= scrapeTemp(2021,7,1,0,province)\n",
    "    listTemp2.append(temperature)\n",
    "    # 10\n",
    "    temperature= scrapeTemp(2021,7,1,3,province)\n",
    "    listTemp2.append(temperature)\n",
    "    # 13\n",
    "    temperature= scrapeTemp(2021,7,1,6,province)\n",
    "    listTemp2.append(temperature)\n",
    "    # 16\n",
    "    temperature= scrapeTemp(2021,7,1,9,province)\n",
    "    listTemp2.append(temperature)\n",
    "    # 19\n",
    "    temperature= scrapeTemp(2021,7,1,12,province)\n",
    "    listTemp2.append(temperature)\n",
    "    # 22\n",
    "    temperature= scrapeTemp(2021,7,1,15,province)\n",
    "    listTemp2.append(temperature)\n",
    "    tempDict2['temp'] = listTemp2\n",
    "    df2 = pd.DataFrame(tempDict2)\n",
    "    return pd.concat([df1,df2])"
   ]
  },
  {
   "cell_type": "code",
   "execution_count": null,
   "metadata": {},
   "outputs": [],
   "source": [
    "tempBKK = getTempData('BKK')"
   ]
  },
  {
   "cell_type": "code",
   "execution_count": null,
   "metadata": {},
   "outputs": [],
   "source": [
    "dfBKK = pd.DataFrame(tempBKK)\n",
    "dfBKK.to_csv('bkk_temp_surface_test.csv', index=False)"
   ]
  },
  {
   "cell_type": "code",
   "execution_count": null,
   "metadata": {},
   "outputs": [],
   "source": [
    "dfBKKNew = scrapeAdditionalDay('BKK')\n",
    "dfBKKNew.to_csv('bkk_temp_surface_test2.csv', index=False)"
   ]
  },
  {
   "cell_type": "code",
   "execution_count": null,
   "metadata": {},
   "outputs": [],
   "source": [
    "tempChiangmai = getTempData('Chiangmai')"
   ]
  },
  {
   "cell_type": "code",
   "execution_count": null,
   "metadata": {},
   "outputs": [],
   "source": [
    "dfChiangmai = pd.DataFrame(tempChiangmai)\n",
    "dfChiangmai.to_csv('chiangmai_temp_surface_test.csv', index=False)"
   ]
  },
  {
   "cell_type": "code",
   "execution_count": null,
   "metadata": {},
   "outputs": [],
   "source": [
    "dfChiangmaiNew = scrapeAdditionalDay('Chiangmai')\n",
    "dfChiangmaiNew.to_csv('Chiangmai_temp_surface_test2.csv', index=False)"
   ]
  },
  {
   "cell_type": "code",
   "execution_count": null,
   "metadata": {},
   "outputs": [],
   "source": [
    "tempKhonkaen = getTempData('Khonkaen')"
   ]
  },
  {
   "cell_type": "code",
   "execution_count": null,
   "metadata": {},
   "outputs": [],
   "source": [
    "dfKhonkaen = pd.DataFrame(tempKhonkaen)\n",
    "dfKhonkaen.to_csv('khonkaen_temp_surface_test.csv', index=False)"
   ]
  },
  {
   "cell_type": "code",
   "execution_count": null,
   "metadata": {},
   "outputs": [],
   "source": [
    "dfKhonkaenNew = scrapeAdditionalDay('Khonkaen')\n",
    "dfKhonkaenNew.to_csv('khonkaen_temp_surface_test2.csv', index=False)"
   ]
  },
  {
   "cell_type": "code",
   "execution_count": null,
   "metadata": {},
   "outputs": [],
   "source": [
    "tempRayong = getTempData('Rayong')"
   ]
  },
  {
   "cell_type": "code",
   "execution_count": null,
   "metadata": {},
   "outputs": [],
   "source": [
    "dfRayong = pd.DataFrame(tempRayong)\n",
    "dfRayong.to_csv('rayong_temp_surface_test.csv', index=False)"
   ]
  },
  {
   "cell_type": "code",
   "execution_count": null,
   "metadata": {},
   "outputs": [],
   "source": [
    "dfRayongNew = scrapeAdditionalDay('Rayong')\n",
    "dfRayongNew.to_csv('rayong_temp_surface_test2.csv', index=False)"
   ]
  },
  {
   "cell_type": "code",
   "execution_count": null,
   "metadata": {},
   "outputs": [],
   "source": [
    "tempSaraburi = getTempData('Saraburi')"
   ]
  },
  {
   "cell_type": "code",
   "execution_count": null,
   "metadata": {},
   "outputs": [],
   "source": [
    "dfSaraburi = pd.DataFrame(tempSaraburi)\n",
    "dfSaraburi.to_csv('saraburi_temp_surface_test.csv', index=False)"
   ]
  },
  {
   "cell_type": "code",
   "execution_count": null,
   "metadata": {},
   "outputs": [],
   "source": [
    "dfSaraburiNew = scrapeAdditionalDay('Saraburi')\n",
    "dfSaraburiNew.to_csv('Saraburi_temp_surface_test2.csv', index=False)"
   ]
  },
  {
   "cell_type": "code",
   "execution_count": null,
   "metadata": {},
   "outputs": [],
   "source": [
    "tempSurat = getTempData('Surat')"
   ]
  },
  {
   "cell_type": "code",
   "execution_count": null,
   "metadata": {},
   "outputs": [],
   "source": [
    "dfSurat = pd.DataFrame(tempSurat)\n",
    "dfSurat.to_csv('surat_temp_surface_test.csv', index=False)"
   ]
  },
  {
   "cell_type": "code",
   "execution_count": null,
   "metadata": {},
   "outputs": [],
   "source": [
    "dfSuratNew = scrapeAdditionalDay('Surat')\n",
    "dfSuratNew.to_csv('Surat_temp_surface_test2.csv', index=False)"
   ]
  },
  {
   "cell_type": "code",
   "execution_count": null,
   "metadata": {},
   "outputs": [],
   "source": [
    "driver.quit()"
   ]
  }
 ],
 "metadata": {
  "interpreter": {
   "hash": "2647ea34e536f865ab67ff9ddee7fd78773d956cec0cab53c79b32cd10da5d83"
  },
  "kernelspec": {
   "display_name": "Python 3.9.1 64-bit",
   "language": "python",
   "name": "python3"
  },
  "language_info": {
   "codemirror_mode": {
    "name": "ipython",
    "version": 3
   },
   "file_extension": ".py",
   "mimetype": "text/x-python",
   "name": "python",
   "nbconvert_exporter": "python",
   "pygments_lexer": "ipython3",
   "version": "3.9.11"
  },
  "orig_nbformat": 4
 },
 "nbformat": 4,
 "nbformat_minor": 2
}
