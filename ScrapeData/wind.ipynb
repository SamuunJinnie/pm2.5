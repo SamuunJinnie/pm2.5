{
 "cells": [
  {
   "cell_type": "code",
   "execution_count": 1,
   "metadata": {},
   "outputs": [],
   "source": [
    "import requests\n",
    "import pandas as pd\n",
    "import numpy as np"
   ]
  },
  {
   "cell_type": "code",
   "execution_count": 2,
   "metadata": {},
   "outputs": [],
   "source": [
    "from selenium import webdriver\n",
    "from selenium.webdriver.chrome.service import Service as ChromeService\n",
    "from webdriver_manager.chrome import ChromeDriverManager\n",
    "from selenium.webdriver.support.ui import WebDriverWait\n",
    "from selenium.webdriver.common.by import By\n",
    "from selenium.webdriver.support import expected_conditions as EC\n",
    "\n",
    "import time\n",
    "import os\n",
    "from datetime import datetime"
   ]
  },
  {
   "cell_type": "code",
   "execution_count": 3,
   "metadata": {},
   "outputs": [],
   "source": [
    "provinces = ['BKK','Chiangmai','Khonkaen','Rayong','Saraburi','Surat']\n",
    "provincesLatLng = dict()"
   ]
  },
  {
   "cell_type": "code",
   "execution_count": 4,
   "metadata": {},
   "outputs": [
    {
     "data": {
      "text/plain": [
       "{'BKK': {'lat': '13.729984', 'lng': '100.536443'},\n",
       " 'Chiangmai': {'lat': '18.840633', 'lng': '98.969661'},\n",
       " 'Khonkaen': {'lat': '16.445329', 'lng': '102.835251'},\n",
       " 'Rayong': {'lat': '12.671521', 'lng': '101.275875'},\n",
       " 'Saraburi': {'lat': '14.685833', 'lng': '100.871996'},\n",
       " 'Surat': {'lat': '9.126057', 'lng': '99.325355'}}"
      ]
     },
     "execution_count": 4,
     "metadata": {},
     "output_type": "execute_result"
    }
   ],
   "source": [
    "for province in provinces:\n",
    "    file = open(f'./{province}/position.txt','r').read().split('\\n')\n",
    "    temp = dict()\n",
    "    temp['lat'] = file[0].split(' ')[2]\n",
    "    temp['lng'] = file[1].split(' ')[2]\n",
    "    provincesLatLng[province] =  temp\n",
    "provincesLatLng"
   ]
  },
  {
   "cell_type": "code",
   "execution_count": 5,
   "metadata": {},
   "outputs": [
    {
     "name": "stderr",
     "output_type": "stream",
     "text": [
      "\n",
      "\n",
      "====== WebDriver manager ======\n",
      "Could not get version for google-chrome with the command:  powershell \"$ErrorActionPreference='silentlycontinue' ; (Get-Item -Path \"$env:PROGRAMFILES\\Google\\Chrome\\Application\\chrome.exe\").VersionInfo.FileVersion ; if (-not $? -or $? -match $error) { (Get-Item -Path \"$env:PROGRAMFILES(x86)\\Google\\Chrome\\Application\\chrome.exe\").VersionInfo.FileVersion } if (-not $? -or $? -match $error) { (Get-Item -Path \"$env:LOCALAPPDATA\\Google\\Chrome\\Application\\chrome.exe\").VersionInfo.FileVersion } if (-not $? -or $? -match $error) { reg query \"HKCU\\SOFTWARE\\Google\\Chrome\\BLBeacon\" /v version } if (-not $? -or $? -match $error) { reg query \"HKLM\\SOFTWARE\\Wow6432Node\\Microsoft\\Windows\\CurrentVersion\\Uninstall\\Google Chrome\" /v version }\"\n",
      "Current google-chrome version is UNKNOWN\n",
      "Get LATEST chromedriver version for UNKNOWN google-chrome\n",
      "Trying to download new driver from https://chromedriver.storage.googleapis.com/99.0.4844.51/chromedriver_win32.zip\n",
      "Driver has been saved in cache [C:\\Users\\User\\.wdm\\drivers\\chromedriver\\win32\\99.0.4844.51]\n"
     ]
    }
   ],
   "source": [
    "service = ChromeService(executable_path=ChromeDriverManager().install())\n",
    "driver = webdriver.Chrome(service=service)"
   ]
  },
  {
   "cell_type": "code",
   "execution_count": 6,
   "metadata": {},
   "outputs": [],
   "source": [
    "# 2020/07/01 01:00(utc+7) – 2021/06/30 22:00 => 2020/06/30/1800Z (utc+0) - 2021/06/30/1500Z (utc+0)\n",
    "def formatTime(dt):\n",
    "    temp = dt.split(' ')\n",
    "    date0, time0 = temp[0] , temp[1]\n",
    "    year,month,day = date0.split('-')\n",
    "    date = (\"/\").join([day,month,year])\n",
    "    hour = time0.split(':')[0]\n",
    "    time = (\":\").join([str(int(hour)),'00','00'])\n",
    "    date_time = (\" \").join([date,time])\n",
    "    return date_time"
   ]
  },
  {
   "cell_type": "code",
   "execution_count": 7,
   "metadata": {},
   "outputs": [
    {
     "data": {
      "text/plain": [
       "'30/06/2020 1:00:00'"
      ]
     },
     "execution_count": 7,
     "metadata": {},
     "output_type": "execute_result"
    }
   ],
   "source": [
    "formatTime(\"2020-06-30 01:00 Local\")"
   ]
  },
  {
   "cell_type": "code",
   "execution_count": 10,
   "metadata": {},
   "outputs": [],
   "source": [
    "#use time in utc+0\n",
    "def scrapeWind(year,month,day,hour,province):\n",
    "    lat, lng = provincesLatLng[province]['lat'], provincesLatLng[province]['lng']\n",
    "    url = f'https://earth.nullschool.net/#{year}/{month:02d}/{day:02d}/{hour:02d}00Z/wind/isobaric/850hPa/anim=off/orthographic/loc={lng},{lat}'\n",
    "    driver.get(url=url)\n",
    "    #wait until\n",
    "    element = WebDriverWait(driver,9999).until(EC.visibility_of_element_located((By.XPATH, '//*[@id=\"spotlight-panel\"]/div[2]/div')))\n",
    "    earthButton = WebDriverWait(driver, 9999).until(EC.element_to_be_clickable((By.XPATH, '//*[@class=\"earth-bar\"]/div/h1/button')))\n",
    "    earthButton.click()\n",
    "    elementTime = WebDriverWait(driver,9999).until(EC.visibility_of_element_located((By.XPATH, '//*[@id=\"menu\"]/div/div[2]/div[3]')))\n",
    "    direction, speed = element.text.split(' @ ')\n",
    "    direction = direction[:-1]\n",
    "    date_time = formatTime(elementTime.text)\n",
    "    print(date_time,speed,direction)\n",
    "    # dummy web ไม่งั้น ตรงบรรทัด earthButton.click มันจะคลิกก่อนเว็บหน้าใหม่โหลดเสร็จ\n",
    "    driver.get(url='https://google.com')\n",
    "    return date_time,speed,direction"
   ]
  },
  {
   "cell_type": "code",
   "execution_count": 11,
   "metadata": {},
   "outputs": [
    {
     "name": "stdout",
     "output_type": "stream",
     "text": [
      "01/07/2020 1:00:00 42 260\n"
     ]
    },
    {
     "data": {
      "text/plain": [
       "('01/07/2020 1:00:00', '42', '260')"
      ]
     },
     "execution_count": 11,
     "metadata": {},
     "output_type": "execute_result"
    }
   ],
   "source": [
    "scrapeWind(2020,6,30,18,'BKK')"
   ]
  },
  {
   "cell_type": "code",
   "execution_count": null,
   "metadata": {},
   "outputs": [],
   "source": [
    "nday = [0,31,28,31,30,31,30,31,31,30,31,30,31]"
   ]
  },
  {
   "cell_type": "code",
   "execution_count": null,
   "metadata": {},
   "outputs": [],
   "source": [
    "temp = dict()\n",
    "listDateTime = []\n",
    "listDirection = []\n",
    "listSpeed = []\n",
    "date_time,speed,direction = scrapeWind(2020,6,30,18,'BKK')\n",
    "listDateTime.append(date_time)\n",
    "listSpeed.append(speed)\n",
    "listDirection.append(direction)\n",
    "date_time,speed,direction = scrapeWind(2021,6,30,6,'BKK')\n",
    "listDateTime.append(date_time)\n",
    "listSpeed.append(speed)\n",
    "listDirection.append(direction)\n",
    "print(listDateTime)\n",
    "temp['date_time'] = listDateTime\n",
    "temp['win speed'] = listSpeed\n",
    "temp['wind dir'] = listDirection\n",
    "print(temp)"
   ]
  },
  {
   "cell_type": "code",
   "execution_count": null,
   "metadata": {},
   "outputs": [],
   "source": [
    "# 2021/07/01 01:00(utc+7) – 2021/07/01 22:00 => 2021/06/30/1800Z (utc+0) - 2021/07/01/1500Z (utc+0)\n",
    "def scrapeAdditionalDay(province):\n",
    "    df1 = pd.read_csv(f'./{province}_weather_wind_test.csv')\n",
    "    temp2 = dict()\n",
    "    listDateTime2 = []\n",
    "    listDirection2 = []\n",
    "    listSpeed2 = []\n",
    "    # 01\n",
    "    date_time,speed,direction= scrapeWind(2021,6,30,18,province)\n",
    "    listDateTime2.append(date_time)\n",
    "    listSpeed2.append(speed)\n",
    "    listDirection2.append(direction)\n",
    "    # 04\n",
    "    date_time,speed,direction= scrapeWind(2021,6,30,21,province)\n",
    "    listDateTime2.append(date_time)\n",
    "    listSpeed2.append(speed)\n",
    "    listDirection2.append(direction)\n",
    "    # 07\n",
    "    date_time,speed,direction= scrapeWind(2021,7,1,0,province)\n",
    "    listDateTime2.append(date_time)\n",
    "    listSpeed2.append(speed)\n",
    "    listDirection2.append(direction)\n",
    "    # 10\n",
    "    date_time,speed,direction= scrapeWind(2021,7,1,3,province)\n",
    "    listDateTime2.append(date_time)\n",
    "    listSpeed2.append(speed)\n",
    "    listDirection2.append(direction)\n",
    "    # 13\n",
    "    date_time,speed,direction= scrapeWind(2021,7,1,6,province)\n",
    "    listDateTime2.append(date_time)\n",
    "    listSpeed2.append(speed)\n",
    "    listDirection2.append(direction)\n",
    "    # 16\n",
    "    date_time,speed,direction= scrapeWind(2021,7,1,9,province)\n",
    "    listDateTime2.append(date_time)\n",
    "    listSpeed2.append(speed)\n",
    "    listDirection2.append(direction)\n",
    "    # 19\n",
    "    date_time,speed,direction= scrapeWind(2021,7,1,12,province)\n",
    "    listDateTime2.append(date_time)\n",
    "    listSpeed2.append(speed)\n",
    "    listDirection2.append(direction)\n",
    "    # 22\n",
    "    date_time,speed,direction= scrapeWind(2021,7,1,15,province)\n",
    "    listDateTime2.append(date_time)\n",
    "    listSpeed2.append(speed)\n",
    "    listDirection2.append(direction)\n",
    "    temp2['date_time'] = listDateTime2\n",
    "    temp2['win speed'] = listSpeed2\n",
    "    temp2['wind dir'] = listDirection2\n",
    "    df2 = pd.DataFrame(temp2)\n",
    "    return pd.concat([df1,df2])"
   ]
  },
  {
   "cell_type": "code",
   "execution_count": null,
   "metadata": {},
   "outputs": [],
   "source": [
    "# 2020/07/01 01:00(utc+7) – 2021/06/30 22:00 => 2020/06/30/1800Z (utc+0) - 2021/06/30/1500Z (utc+0)\n",
    "def getWindData(province):\n",
    "    temp = dict()\n",
    "    listDateTime = []\n",
    "    listDirection = []\n",
    "    listSpeed = []\n",
    "    y = 2020\n",
    "    date_time,speed,direction = scrapeWind(2020,6,30,18,province)\n",
    "    listDateTime.append(date_time)\n",
    "    listSpeed.append(speed)\n",
    "    listDirection.append(direction)\n",
    "    date_time,speed,direction = scrapeWind(2020,6,30,21,province)\n",
    "    listDateTime.append(date_time)\n",
    "    listSpeed.append(speed)\n",
    "    listDirection.append(direction)\n",
    "    for m in range(7,13):\n",
    "        for d in range(1,32):\n",
    "            if(d > nday[m]):\n",
    "                continue\n",
    "            for h in range(0,24,3):\n",
    "                date_time,speed,direction = scrapeWind(y,m,d,h,province)\n",
    "                listDateTime.append(date_time)\n",
    "                listSpeed.append(speed)\n",
    "                listDirection.append(direction)\n",
    "    y = 2021\n",
    "    for m in range(1,7):\n",
    "        for d in range(1,32):\n",
    "            if(d > nday[m]):\n",
    "                continue\n",
    "            for h in range(0,24,3):\n",
    "                date_time,speed,direction = scrapeWind(y,m,d,h,province)\n",
    "                listDateTime.append(date_time)\n",
    "                listSpeed.append(speed)\n",
    "                listDirection.append(direction)\n",
    "                if(m==6 and d== 30 and h == 15):\n",
    "                    break\n",
    "    temp['date_time'] = listDateTime\n",
    "    temp['win speed'] = listSpeed\n",
    "    temp['wind dir'] = listDirection\n",
    "    return temp"
   ]
  },
  {
   "cell_type": "code",
   "execution_count": null,
   "metadata": {},
   "outputs": [],
   "source": [
    "windBKK = getWindData('BKK')"
   ]
  },
  {
   "cell_type": "code",
   "execution_count": null,
   "metadata": {},
   "outputs": [],
   "source": [
    "dfBKK = pd.DataFrame(windBKK)\n",
    "dfBKK.to_csv('bkk_weather_wind_test.csv', index=False)"
   ]
  },
  {
   "cell_type": "code",
   "execution_count": null,
   "metadata": {},
   "outputs": [],
   "source": [
    "dfBKKNew = scrapeAdditionalDay('BKK')\n",
    "dfBKKNew.to_csv('BKK_weather_wind_test2.csv', index=False)"
   ]
  },
  {
   "cell_type": "code",
   "execution_count": null,
   "metadata": {},
   "outputs": [],
   "source": [
    "windChiangmai = getWindData('Chiangmai')"
   ]
  },
  {
   "cell_type": "code",
   "execution_count": null,
   "metadata": {},
   "outputs": [],
   "source": [
    "dfChiangmai = pd.DataFrame(windChiangmai)\n",
    "dfChiangmai.to_csv('chiangmai_weather_wind_test.csv', index=False)"
   ]
  },
  {
   "cell_type": "code",
   "execution_count": null,
   "metadata": {},
   "outputs": [],
   "source": [
    "dfChiangmaiNew = scrapeAdditionalDay('Chiangmai')\n",
    "dfChiangmaiNew.to_csv('Chiangmai_weather_wind_test2.csv', index=False)"
   ]
  },
  {
   "cell_type": "code",
   "execution_count": null,
   "metadata": {},
   "outputs": [],
   "source": [
    "windKhonkaen = getWindData('Khonkaen')"
   ]
  },
  {
   "cell_type": "code",
   "execution_count": null,
   "metadata": {},
   "outputs": [],
   "source": [
    "dfKhonkaen = pd.DataFrame(windKhonkaen)\n",
    "dfKhonkaen.to_csv('khonkaen_weather_wind_test.csv', index=False)"
   ]
  },
  {
   "cell_type": "code",
   "execution_count": null,
   "metadata": {},
   "outputs": [],
   "source": [
    "dfKhonkaenNew = scrapeAdditionalDay('Khonkaen')\n",
    "dfKhonkaenNew.to_csv('Khonkaen_weather_wind_test2.csv', index=False)"
   ]
  },
  {
   "cell_type": "code",
   "execution_count": null,
   "metadata": {},
   "outputs": [],
   "source": [
    "windRayong = getWindData('Rayong')"
   ]
  },
  {
   "cell_type": "code",
   "execution_count": null,
   "metadata": {},
   "outputs": [],
   "source": [
    "dfRayong = pd.DataFrame(windRayong)\n",
    "dfRayong.to_csv('rayong_weather_wind_test.csv', index=False)"
   ]
  },
  {
   "cell_type": "code",
   "execution_count": null,
   "metadata": {},
   "outputs": [],
   "source": [
    "dfRayongNew = scrapeAdditionalDay('Rayong')\n",
    "dfRayongNew.to_csv('Rayong_weather_wind_test2.csv', index=False)"
   ]
  },
  {
   "cell_type": "code",
   "execution_count": null,
   "metadata": {},
   "outputs": [],
   "source": [
    "windSaraburi = getWindData('Saraburi')"
   ]
  },
  {
   "cell_type": "code",
   "execution_count": null,
   "metadata": {},
   "outputs": [],
   "source": [
    "dfSaraburi = pd.DataFrame(windSaraburi)\n",
    "dfSaraburi.to_csv('saraburi_weather_wind_test.csv', index=False)"
   ]
  },
  {
   "cell_type": "code",
   "execution_count": null,
   "metadata": {},
   "outputs": [],
   "source": [
    "dfSaraburiNew = scrapeAdditionalDay('Saraburi')\n",
    "dfSaraburiNew.to_csv('Saraburi_weather_wind_test2.csv', index=False)"
   ]
  },
  {
   "cell_type": "code",
   "execution_count": null,
   "metadata": {},
   "outputs": [],
   "source": [
    "windSurat = getWindData('Surat')"
   ]
  },
  {
   "cell_type": "code",
   "execution_count": null,
   "metadata": {},
   "outputs": [],
   "source": [
    "dfSurat = pd.DataFrame(windSurat)\n",
    "dfSurat.to_csv('surat_weather_wind_test.csv', index=False)"
   ]
  },
  {
   "cell_type": "code",
   "execution_count": null,
   "metadata": {},
   "outputs": [],
   "source": [
    "dfSuratNew = scrapeAdditionalDay('Surat')\n",
    "dfSuratNew.to_csv('Surat_weather_wind_test2.csv', index=False)"
   ]
  },
  {
   "cell_type": "code",
   "execution_count": null,
   "metadata": {},
   "outputs": [],
   "source": [
    "driver.quit()"
   ]
  },
  {
   "cell_type": "code",
   "execution_count": null,
   "metadata": {},
   "outputs": [],
   "source": []
  }
 ],
 "metadata": {
  "interpreter": {
   "hash": "2647ea34e536f865ab67ff9ddee7fd78773d956cec0cab53c79b32cd10da5d83"
  },
  "kernelspec": {
   "display_name": "Python 3.9.1 64-bit",
   "language": "python",
   "name": "python3"
  },
  "language_info": {
   "codemirror_mode": {
    "name": "ipython",
    "version": 3
   },
   "file_extension": ".py",
   "mimetype": "text/x-python",
   "name": "python",
   "nbconvert_exporter": "python",
   "pygments_lexer": "ipython3",
   "version": "3.9.11"
  },
  "orig_nbformat": 4
 },
 "nbformat": 4,
 "nbformat_minor": 2
}
