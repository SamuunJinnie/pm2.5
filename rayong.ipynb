{
  "cells": [
    {
      "cell_type": "code",
      "execution_count": 1,
      "metadata": {
        "id": "aJGK9VAlIyE8"
      },
      "outputs": [],
      "source": [
        "provinces = ['BKK', 'Chiangmai', 'Khonkaen', 'Rayong', 'Saraburi', 'Surat']"
      ]
    },
    {
      "cell_type": "code",
      "execution_count": 2,
      "metadata": {},
      "outputs": [],
      "source": [
        "import pandas as pd"
      ]
    },
    {
      "cell_type": "code",
      "execution_count": 3,
      "metadata": {
        "id": "vdpRLYEBYYYS"
      },
      "outputs": [],
      "source": [
        "\n",
        "def format_datetime(df):\n",
        "  df['date_time'] = pd.to_datetime(df['date_time'])\n",
        "  df = df.set_index('date_time')\n",
        "  return df"
      ]
    },
    {
      "cell_type": "code",
      "execution_count": 4,
      "metadata": {
        "id": "-otG7RVDlHHG"
      },
      "outputs": [],
      "source": [
        "def format_datetime_2(df):\n",
        "    df['date_time'] = pd.to_datetime(df['date_time'] , format='%d/%m/%Y %H:%M')\n",
        "    df = df.set_index('date_time')\n",
        "    return df"
      ]
    },
    {
      "cell_type": "code",
      "execution_count": 16,
      "metadata": {
        "id": "BA3RWnLPMb14"
      },
      "outputs": [],
      "source": [
        "def get_train_data(prov):\n",
        "  df_train = pd.read_csv(prov + '/train/' + prov.lower() + '_train.csv')\n",
        "  df_temp_surface = pd.read_csv(prov + '/train/' + prov.lower() + '_temp_surface.csv')\n",
        "  df_weather_wind = pd.read_csv(prov + '/train/' + prov.lower() + '_weather_wind.csv')\n",
        "  df_so2 = pd.read_csv(prov + '/train/' + prov.lower() + '_so2_surface_train.csv')\n",
        "  df_rh = pd.read_csv(prov + '/train/' + prov.lower() + '_RH_train.csv')\n",
        "  df_train = df_train.rename(columns={'Unnamed: 0':'date_time'})\n",
        "  df_train, df_temp_surface, df_weather_wind, df_so2, df_rh = format_datetime(df_train), format_datetime(df_temp_surface), format_datetime(df_weather_wind), format_datetime(df_so2), format_datetime(df_rh)\n",
        "  df_train, df_temp_surface, df_weather_wind, df_so2, df_rh = df_train.interpolate(), df_temp_surface.interpolate(), df_weather_wind.interpolate(), df_so2.interpolate(), df_rh.interpolate()\n",
        "  df_train, df_temp_surface, df_weather_wind, df_so2, df_rh = df_train.resample('h').ffill(), df_temp_surface.resample('h').ffill(), df_weather_wind.resample('h').ffill(), df_so2.resample('h').ffill(), df_rh.resample('h').ffill()\n",
        "  return df_train, df_temp_surface, df_weather_wind, df_so2, df_rh"
      ]
    },
    {
      "cell_type": "code",
      "execution_count": 11,
      "metadata": {
        "id": "TEBMjQLplHHH"
      },
      "outputs": [],
      "source": [
        "def get_test_data(prov):\n",
        "  df_test = pd.read_csv(f'{prov}/test/{prov.lower()}_test.csv')\n",
        "  df_temp_surface_test = pd.read_csv(f'{prov}/test/{prov.lower()}_temp_surface_test.csv')\n",
        "  df_weather_wind_test = pd.read_csv(f'{prov}/test/{prov.lower()}_weather_wind_test.csv')\n",
        "  df_so2_test = pd.read_csv(prov + '/test/' + prov.lower() + '_so2_surface_test.csv')\n",
        "  df_rh_test = pd.read_csv(prov + '/test/' + prov.lower() + '_RH_test.csv')\n",
        "  df_test = df_test.rename(columns={'Unnamed: 0':'date_time'})\n",
        "  df_test, df_temp_surface_test, df_weather_wind_test, df_so2_test, df_rh_test = format_datetime(df_test), format_datetime_2(df_temp_surface_test), format_datetime_2(df_weather_wind_test),format_datetime(df_so2_test),format_datetime(df_rh_test)\n",
        "  df_test, df_temp_surface_test, df_weather_wind_test, df_so2_test, df_rh_test = df_test.interpolate(), df_temp_surface_test.interpolate(), df_weather_wind_test.interpolate(), df_so2_test.interpolate(), df_rh_test.interpolate()\n",
        "  df_test, df_temp_surface_test,df_weather_wind_test, df_so2_test, df_rh_test = df_test.resample('h').ffill(), df_temp_surface_test.resample('h').ffill(), df_weather_wind_test.resample('h').ffill(), df_so2_test.resample('h').ffill(), df_rh_test.resample('h').ffill()\n",
        "  return df_test, df_temp_surface_test, df_weather_wind_test, df_so2_test, df_rh_test"
      ]
    },
    {
      "cell_type": "code",
      "execution_count": 12,
      "metadata": {
        "id": "2xTGj8yuiJDi"
      },
      "outputs": [],
      "source": [
        "def get_na_rows(df, col):\n",
        "  return df[df[col].isna() == True].index.to_list()"
      ]
    },
    {
      "cell_type": "code",
      "execution_count": 17,
      "metadata": {
        "id": "mi-y6uqpTuEb"
      },
      "outputs": [],
      "source": [
        "df_train, df_temp_surface, df_weather_wind, df_so2, df_rh = get_train_data('Rayong')\n",
        "df_test, df_temp_surface_test, df_weather_wind_test, df_so2_test, df_rh_test = get_test_data('Rayong')"
      ]
    },
    {
      "cell_type": "code",
      "execution_count": 18,
      "metadata": {
        "colab": {
          "base_uri": "https://localhost:8080/",
          "height": 475
        },
        "id": "8PU8BddzlHHJ",
        "outputId": "08f4cfd2-33be-49dd-98e7-0cac5a1362be"
      },
      "outputs": [
        {
          "data": {
            "text/html": [
              "<div>\n",
              "<style scoped>\n",
              "    .dataframe tbody tr th:only-of-type {\n",
              "        vertical-align: middle;\n",
              "    }\n",
              "\n",
              "    .dataframe tbody tr th {\n",
              "        vertical-align: top;\n",
              "    }\n",
              "\n",
              "    .dataframe thead th {\n",
              "        text-align: right;\n",
              "    }\n",
              "</style>\n",
              "<table border=\"1\" class=\"dataframe\">\n",
              "  <thead>\n",
              "    <tr style=\"text-align: right;\">\n",
              "      <th></th>\n",
              "      <th>PM2.5</th>\n",
              "    </tr>\n",
              "    <tr>\n",
              "      <th>date_time</th>\n",
              "      <th></th>\n",
              "    </tr>\n",
              "  </thead>\n",
              "  <tbody>\n",
              "    <tr>\n",
              "      <th>2021-07-01 19:00:00</th>\n",
              "      <td>16.0</td>\n",
              "    </tr>\n",
              "    <tr>\n",
              "      <th>2021-07-01 20:00:00</th>\n",
              "      <td>16.0</td>\n",
              "    </tr>\n",
              "    <tr>\n",
              "      <th>2021-07-01 21:00:00</th>\n",
              "      <td>16.0</td>\n",
              "    </tr>\n",
              "    <tr>\n",
              "      <th>2021-07-01 22:00:00</th>\n",
              "      <td>16.0</td>\n",
              "    </tr>\n",
              "    <tr>\n",
              "      <th>2021-07-01 23:00:00</th>\n",
              "      <td>16.0</td>\n",
              "    </tr>\n",
              "  </tbody>\n",
              "</table>\n",
              "</div>"
            ],
            "text/plain": [
              "                     PM2.5\n",
              "date_time                 \n",
              "2021-07-01 19:00:00   16.0\n",
              "2021-07-01 20:00:00   16.0\n",
              "2021-07-01 21:00:00   16.0\n",
              "2021-07-01 22:00:00   16.0\n",
              "2021-07-01 23:00:00   16.0"
            ]
          },
          "metadata": {},
          "output_type": "display_data"
        },
        {
          "data": {
            "text/html": [
              "<div>\n",
              "<style scoped>\n",
              "    .dataframe tbody tr th:only-of-type {\n",
              "        vertical-align: middle;\n",
              "    }\n",
              "\n",
              "    .dataframe tbody tr th {\n",
              "        vertical-align: top;\n",
              "    }\n",
              "\n",
              "    .dataframe thead th {\n",
              "        text-align: right;\n",
              "    }\n",
              "</style>\n",
              "<table border=\"1\" class=\"dataframe\">\n",
              "  <thead>\n",
              "    <tr style=\"text-align: right;\">\n",
              "      <th></th>\n",
              "      <th>temp</th>\n",
              "    </tr>\n",
              "    <tr>\n",
              "      <th>date_time</th>\n",
              "      <th></th>\n",
              "    </tr>\n",
              "  </thead>\n",
              "  <tbody>\n",
              "    <tr>\n",
              "      <th>2021-07-01 18:00:00</th>\n",
              "      <td>29.9</td>\n",
              "    </tr>\n",
              "    <tr>\n",
              "      <th>2021-07-01 19:00:00</th>\n",
              "      <td>28.5</td>\n",
              "    </tr>\n",
              "    <tr>\n",
              "      <th>2021-07-01 20:00:00</th>\n",
              "      <td>28.5</td>\n",
              "    </tr>\n",
              "    <tr>\n",
              "      <th>2021-07-01 21:00:00</th>\n",
              "      <td>28.5</td>\n",
              "    </tr>\n",
              "    <tr>\n",
              "      <th>2021-07-01 22:00:00</th>\n",
              "      <td>28.2</td>\n",
              "    </tr>\n",
              "  </tbody>\n",
              "</table>\n",
              "</div>"
            ],
            "text/plain": [
              "                     temp\n",
              "date_time                \n",
              "2021-07-01 18:00:00  29.9\n",
              "2021-07-01 19:00:00  28.5\n",
              "2021-07-01 20:00:00  28.5\n",
              "2021-07-01 21:00:00  28.5\n",
              "2021-07-01 22:00:00  28.2"
            ]
          },
          "metadata": {},
          "output_type": "display_data"
        },
        {
          "data": {
            "text/html": [
              "<div>\n",
              "<style scoped>\n",
              "    .dataframe tbody tr th:only-of-type {\n",
              "        vertical-align: middle;\n",
              "    }\n",
              "\n",
              "    .dataframe tbody tr th {\n",
              "        vertical-align: top;\n",
              "    }\n",
              "\n",
              "    .dataframe thead th {\n",
              "        text-align: right;\n",
              "    }\n",
              "</style>\n",
              "<table border=\"1\" class=\"dataframe\">\n",
              "  <thead>\n",
              "    <tr style=\"text-align: right;\">\n",
              "      <th></th>\n",
              "      <th>wind speed</th>\n",
              "      <th>wind dir</th>\n",
              "    </tr>\n",
              "    <tr>\n",
              "      <th>date_time</th>\n",
              "      <th></th>\n",
              "      <th></th>\n",
              "    </tr>\n",
              "  </thead>\n",
              "  <tbody>\n",
              "    <tr>\n",
              "      <th>2021-07-01 18:00:00</th>\n",
              "      <td>21</td>\n",
              "      <td>255</td>\n",
              "    </tr>\n",
              "    <tr>\n",
              "      <th>2021-07-01 19:00:00</th>\n",
              "      <td>25</td>\n",
              "      <td>255</td>\n",
              "    </tr>\n",
              "    <tr>\n",
              "      <th>2021-07-01 20:00:00</th>\n",
              "      <td>25</td>\n",
              "      <td>255</td>\n",
              "    </tr>\n",
              "    <tr>\n",
              "      <th>2021-07-01 21:00:00</th>\n",
              "      <td>25</td>\n",
              "      <td>255</td>\n",
              "    </tr>\n",
              "    <tr>\n",
              "      <th>2021-07-01 22:00:00</th>\n",
              "      <td>24</td>\n",
              "      <td>245</td>\n",
              "    </tr>\n",
              "  </tbody>\n",
              "</table>\n",
              "</div>"
            ],
            "text/plain": [
              "                     wind speed  wind dir\n",
              "date_time                                \n",
              "2021-07-01 18:00:00          21       255\n",
              "2021-07-01 19:00:00          25       255\n",
              "2021-07-01 20:00:00          25       255\n",
              "2021-07-01 21:00:00          25       255\n",
              "2021-07-01 22:00:00          24       245"
            ]
          },
          "metadata": {},
          "output_type": "display_data"
        },
        {
          "data": {
            "text/html": [
              "<div>\n",
              "<style scoped>\n",
              "    .dataframe tbody tr th:only-of-type {\n",
              "        vertical-align: middle;\n",
              "    }\n",
              "\n",
              "    .dataframe tbody tr th {\n",
              "        vertical-align: top;\n",
              "    }\n",
              "\n",
              "    .dataframe thead th {\n",
              "        text-align: right;\n",
              "    }\n",
              "</style>\n",
              "<table border=\"1\" class=\"dataframe\">\n",
              "  <thead>\n",
              "    <tr style=\"text-align: right;\">\n",
              "      <th></th>\n",
              "      <th>so2 (ug/m^3)</th>\n",
              "    </tr>\n",
              "    <tr>\n",
              "      <th>date_time</th>\n",
              "      <th></th>\n",
              "    </tr>\n",
              "  </thead>\n",
              "  <tbody>\n",
              "    <tr>\n",
              "      <th>2021-07-01 18:00:00</th>\n",
              "      <td>0.36</td>\n",
              "    </tr>\n",
              "    <tr>\n",
              "      <th>2021-07-01 19:00:00</th>\n",
              "      <td>0.55</td>\n",
              "    </tr>\n",
              "    <tr>\n",
              "      <th>2021-07-01 20:00:00</th>\n",
              "      <td>0.55</td>\n",
              "    </tr>\n",
              "    <tr>\n",
              "      <th>2021-07-01 21:00:00</th>\n",
              "      <td>0.55</td>\n",
              "    </tr>\n",
              "    <tr>\n",
              "      <th>2021-07-01 22:00:00</th>\n",
              "      <td>0.46</td>\n",
              "    </tr>\n",
              "  </tbody>\n",
              "</table>\n",
              "</div>"
            ],
            "text/plain": [
              "                     so2 (ug/m^3)\n",
              "date_time                        \n",
              "2021-07-01 18:00:00          0.36\n",
              "2021-07-01 19:00:00          0.55\n",
              "2021-07-01 20:00:00          0.55\n",
              "2021-07-01 21:00:00          0.55\n",
              "2021-07-01 22:00:00          0.46"
            ]
          },
          "metadata": {},
          "output_type": "display_data"
        },
        {
          "data": {
            "text/html": [
              "<div>\n",
              "<style scoped>\n",
              "    .dataframe tbody tr th:only-of-type {\n",
              "        vertical-align: middle;\n",
              "    }\n",
              "\n",
              "    .dataframe tbody tr th {\n",
              "        vertical-align: top;\n",
              "    }\n",
              "\n",
              "    .dataframe thead th {\n",
              "        text-align: right;\n",
              "    }\n",
              "</style>\n",
              "<table border=\"1\" class=\"dataframe\">\n",
              "  <thead>\n",
              "    <tr style=\"text-align: right;\">\n",
              "      <th></th>\n",
              "      <th>RH</th>\n",
              "    </tr>\n",
              "    <tr>\n",
              "      <th>date_time</th>\n",
              "      <th></th>\n",
              "    </tr>\n",
              "  </thead>\n",
              "  <tbody>\n",
              "    <tr>\n",
              "      <th>2021-07-01 18:00:00</th>\n",
              "      <td>68.0</td>\n",
              "    </tr>\n",
              "    <tr>\n",
              "      <th>2021-07-01 19:00:00</th>\n",
              "      <td>74.0</td>\n",
              "    </tr>\n",
              "    <tr>\n",
              "      <th>2021-07-01 20:00:00</th>\n",
              "      <td>74.0</td>\n",
              "    </tr>\n",
              "    <tr>\n",
              "      <th>2021-07-01 21:00:00</th>\n",
              "      <td>74.0</td>\n",
              "    </tr>\n",
              "    <tr>\n",
              "      <th>2021-07-01 22:00:00</th>\n",
              "      <td>77.0</td>\n",
              "    </tr>\n",
              "  </tbody>\n",
              "</table>\n",
              "</div>"
            ],
            "text/plain": [
              "                       RH\n",
              "date_time                \n",
              "2021-07-01 18:00:00  68.0\n",
              "2021-07-01 19:00:00  74.0\n",
              "2021-07-01 20:00:00  74.0\n",
              "2021-07-01 21:00:00  74.0\n",
              "2021-07-01 22:00:00  77.0"
            ]
          },
          "metadata": {},
          "output_type": "display_data"
        }
      ],
      "source": [
        "display(df_test.tail())\n",
        "display(df_temp_surface_test.tail())\n",
        "display(df_weather_wind_test.tail())\n",
        "display(df_so2_test.tail())\n",
        "display(df_rh_test.tail())"
      ]
    },
    {
      "cell_type": "code",
      "execution_count": 19,
      "metadata": {
        "colab": {
          "base_uri": "https://localhost:8080/",
          "height": 1000
        },
        "id": "SZCcypEtTyUz",
        "outputId": "3475ca12-abb8-412f-f54a-4f24bcca4166"
      },
      "outputs": [
        {
          "data": {
            "text/html": [
              "<div>\n",
              "<style scoped>\n",
              "    .dataframe tbody tr th:only-of-type {\n",
              "        vertical-align: middle;\n",
              "    }\n",
              "\n",
              "    .dataframe tbody tr th {\n",
              "        vertical-align: top;\n",
              "    }\n",
              "\n",
              "    .dataframe thead th {\n",
              "        text-align: right;\n",
              "    }\n",
              "</style>\n",
              "<table border=\"1\" class=\"dataframe\">\n",
              "  <thead>\n",
              "    <tr style=\"text-align: right;\">\n",
              "      <th></th>\n",
              "      <th>PM2.5</th>\n",
              "    </tr>\n",
              "    <tr>\n",
              "      <th>date_time</th>\n",
              "      <th></th>\n",
              "    </tr>\n",
              "  </thead>\n",
              "  <tbody>\n",
              "    <tr>\n",
              "      <th>2020-06-30 19:00:00</th>\n",
              "      <td>11.0</td>\n",
              "    </tr>\n",
              "    <tr>\n",
              "      <th>2020-06-30 20:00:00</th>\n",
              "      <td>10.0</td>\n",
              "    </tr>\n",
              "    <tr>\n",
              "      <th>2020-06-30 21:00:00</th>\n",
              "      <td>9.0</td>\n",
              "    </tr>\n",
              "    <tr>\n",
              "      <th>2020-06-30 22:00:00</th>\n",
              "      <td>8.0</td>\n",
              "    </tr>\n",
              "    <tr>\n",
              "      <th>2020-06-30 23:00:00</th>\n",
              "      <td>7.0</td>\n",
              "    </tr>\n",
              "  </tbody>\n",
              "</table>\n",
              "</div>"
            ],
            "text/plain": [
              "                     PM2.5\n",
              "date_time                 \n",
              "2020-06-30 19:00:00   11.0\n",
              "2020-06-30 20:00:00   10.0\n",
              "2020-06-30 21:00:00    9.0\n",
              "2020-06-30 22:00:00    8.0\n",
              "2020-06-30 23:00:00    7.0"
            ]
          },
          "metadata": {},
          "output_type": "display_data"
        },
        {
          "data": {
            "text/html": [
              "<div>\n",
              "<style scoped>\n",
              "    .dataframe tbody tr th:only-of-type {\n",
              "        vertical-align: middle;\n",
              "    }\n",
              "\n",
              "    .dataframe tbody tr th {\n",
              "        vertical-align: top;\n",
              "    }\n",
              "\n",
              "    .dataframe thead th {\n",
              "        text-align: right;\n",
              "    }\n",
              "</style>\n",
              "<table border=\"1\" class=\"dataframe\">\n",
              "  <thead>\n",
              "    <tr style=\"text-align: right;\">\n",
              "      <th></th>\n",
              "      <th>temp</th>\n",
              "    </tr>\n",
              "    <tr>\n",
              "      <th>date_time</th>\n",
              "      <th></th>\n",
              "    </tr>\n",
              "  </thead>\n",
              "  <tbody>\n",
              "    <tr>\n",
              "      <th>2020-06-30 18:00:00</th>\n",
              "      <td>28.0</td>\n",
              "    </tr>\n",
              "    <tr>\n",
              "      <th>2020-06-30 19:00:00</th>\n",
              "      <td>27.9</td>\n",
              "    </tr>\n",
              "    <tr>\n",
              "      <th>2020-06-30 20:00:00</th>\n",
              "      <td>27.9</td>\n",
              "    </tr>\n",
              "    <tr>\n",
              "      <th>2020-06-30 21:00:00</th>\n",
              "      <td>27.9</td>\n",
              "    </tr>\n",
              "    <tr>\n",
              "      <th>2020-06-30 22:00:00</th>\n",
              "      <td>28.5</td>\n",
              "    </tr>\n",
              "  </tbody>\n",
              "</table>\n",
              "</div>"
            ],
            "text/plain": [
              "                     temp\n",
              "date_time                \n",
              "2020-06-30 18:00:00  28.0\n",
              "2020-06-30 19:00:00  27.9\n",
              "2020-06-30 20:00:00  27.9\n",
              "2020-06-30 21:00:00  27.9\n",
              "2020-06-30 22:00:00  28.5"
            ]
          },
          "metadata": {},
          "output_type": "display_data"
        },
        {
          "data": {
            "text/html": [
              "<div>\n",
              "<style scoped>\n",
              "    .dataframe tbody tr th:only-of-type {\n",
              "        vertical-align: middle;\n",
              "    }\n",
              "\n",
              "    .dataframe tbody tr th {\n",
              "        vertical-align: top;\n",
              "    }\n",
              "\n",
              "    .dataframe thead th {\n",
              "        text-align: right;\n",
              "    }\n",
              "</style>\n",
              "<table border=\"1\" class=\"dataframe\">\n",
              "  <thead>\n",
              "    <tr style=\"text-align: right;\">\n",
              "      <th></th>\n",
              "      <th>wind speed</th>\n",
              "      <th>wind dir</th>\n",
              "    </tr>\n",
              "    <tr>\n",
              "      <th>date_time</th>\n",
              "      <th></th>\n",
              "      <th></th>\n",
              "    </tr>\n",
              "  </thead>\n",
              "  <tbody>\n",
              "    <tr>\n",
              "      <th>2020-06-30 18:00:00</th>\n",
              "      <td>41</td>\n",
              "      <td>265</td>\n",
              "    </tr>\n",
              "    <tr>\n",
              "      <th>2020-06-30 19:00:00</th>\n",
              "      <td>36</td>\n",
              "      <td>280</td>\n",
              "    </tr>\n",
              "    <tr>\n",
              "      <th>2020-06-30 20:00:00</th>\n",
              "      <td>36</td>\n",
              "      <td>280</td>\n",
              "    </tr>\n",
              "    <tr>\n",
              "      <th>2020-06-30 21:00:00</th>\n",
              "      <td>36</td>\n",
              "      <td>280</td>\n",
              "    </tr>\n",
              "    <tr>\n",
              "      <th>2020-06-30 22:00:00</th>\n",
              "      <td>47</td>\n",
              "      <td>270</td>\n",
              "    </tr>\n",
              "  </tbody>\n",
              "</table>\n",
              "</div>"
            ],
            "text/plain": [
              "                     wind speed  wind dir\n",
              "date_time                                \n",
              "2020-06-30 18:00:00          41       265\n",
              "2020-06-30 19:00:00          36       280\n",
              "2020-06-30 20:00:00          36       280\n",
              "2020-06-30 21:00:00          36       280\n",
              "2020-06-30 22:00:00          47       270"
            ]
          },
          "metadata": {},
          "output_type": "display_data"
        },
        {
          "data": {
            "text/html": [
              "<div>\n",
              "<style scoped>\n",
              "    .dataframe tbody tr th:only-of-type {\n",
              "        vertical-align: middle;\n",
              "    }\n",
              "\n",
              "    .dataframe tbody tr th {\n",
              "        vertical-align: top;\n",
              "    }\n",
              "\n",
              "    .dataframe thead th {\n",
              "        text-align: right;\n",
              "    }\n",
              "</style>\n",
              "<table border=\"1\" class=\"dataframe\">\n",
              "  <thead>\n",
              "    <tr style=\"text-align: right;\">\n",
              "      <th></th>\n",
              "      <th>so2 (ug/m^3)</th>\n",
              "    </tr>\n",
              "    <tr>\n",
              "      <th>date_time</th>\n",
              "      <th></th>\n",
              "    </tr>\n",
              "  </thead>\n",
              "  <tbody>\n",
              "    <tr>\n",
              "      <th>2020-06-30 18:00:00</th>\n",
              "      <td>0.32</td>\n",
              "    </tr>\n",
              "    <tr>\n",
              "      <th>2020-06-30 19:00:00</th>\n",
              "      <td>0.36</td>\n",
              "    </tr>\n",
              "    <tr>\n",
              "      <th>2020-06-30 20:00:00</th>\n",
              "      <td>0.36</td>\n",
              "    </tr>\n",
              "    <tr>\n",
              "      <th>2020-06-30 21:00:00</th>\n",
              "      <td>0.36</td>\n",
              "    </tr>\n",
              "    <tr>\n",
              "      <th>2020-06-30 22:00:00</th>\n",
              "      <td>0.40</td>\n",
              "    </tr>\n",
              "  </tbody>\n",
              "</table>\n",
              "</div>"
            ],
            "text/plain": [
              "                     so2 (ug/m^3)\n",
              "date_time                        \n",
              "2020-06-30 18:00:00          0.32\n",
              "2020-06-30 19:00:00          0.36\n",
              "2020-06-30 20:00:00          0.36\n",
              "2020-06-30 21:00:00          0.36\n",
              "2020-06-30 22:00:00          0.40"
            ]
          },
          "metadata": {},
          "output_type": "display_data"
        },
        {
          "data": {
            "text/html": [
              "<div>\n",
              "<style scoped>\n",
              "    .dataframe tbody tr th:only-of-type {\n",
              "        vertical-align: middle;\n",
              "    }\n",
              "\n",
              "    .dataframe tbody tr th {\n",
              "        vertical-align: top;\n",
              "    }\n",
              "\n",
              "    .dataframe thead th {\n",
              "        text-align: right;\n",
              "    }\n",
              "</style>\n",
              "<table border=\"1\" class=\"dataframe\">\n",
              "  <thead>\n",
              "    <tr style=\"text-align: right;\">\n",
              "      <th></th>\n",
              "      <th>RH</th>\n",
              "    </tr>\n",
              "    <tr>\n",
              "      <th>date_time</th>\n",
              "      <th></th>\n",
              "    </tr>\n",
              "  </thead>\n",
              "  <tbody>\n",
              "    <tr>\n",
              "      <th>2020-06-30 18:00:00</th>\n",
              "      <td>81.0</td>\n",
              "    </tr>\n",
              "    <tr>\n",
              "      <th>2020-06-30 19:00:00</th>\n",
              "      <td>81.0</td>\n",
              "    </tr>\n",
              "    <tr>\n",
              "      <th>2020-06-30 20:00:00</th>\n",
              "      <td>81.0</td>\n",
              "    </tr>\n",
              "    <tr>\n",
              "      <th>2020-06-30 21:00:00</th>\n",
              "      <td>81.0</td>\n",
              "    </tr>\n",
              "    <tr>\n",
              "      <th>2020-06-30 22:00:00</th>\n",
              "      <td>78.0</td>\n",
              "    </tr>\n",
              "  </tbody>\n",
              "</table>\n",
              "</div>"
            ],
            "text/plain": [
              "                       RH\n",
              "date_time                \n",
              "2020-06-30 18:00:00  81.0\n",
              "2020-06-30 19:00:00  81.0\n",
              "2020-06-30 20:00:00  81.0\n",
              "2020-06-30 21:00:00  81.0\n",
              "2020-06-30 22:00:00  78.0"
            ]
          },
          "metadata": {},
          "output_type": "display_data"
        }
      ],
      "source": [
        "display(df_train.tail())\n",
        "display(df_temp_surface.tail())\n",
        "display(df_weather_wind.tail())\n",
        "display(df_so2.tail())\n",
        "display(df_rh.tail())"
      ]
    },
    {
      "cell_type": "code",
      "execution_count": 20,
      "metadata": {
        "id": "iP40M4YDWmDm"
      },
      "outputs": [],
      "source": [
        "import matplotlib.pyplot as plt"
      ]
    },
    {
      "cell_type": "code",
      "execution_count": 21,
      "metadata": {
        "colab": {
          "base_uri": "https://localhost:8080/",
          "height": 392
        },
        "id": "LqK_GB0-Jkzw",
        "outputId": "dfb26136-4dbd-42f2-bc47-481566b93982"
      },
      "outputs": [
        {
          "data": {
            "text/plain": [
              "[<matplotlib.lines.Line2D at 0x2b57d2a8130>]"
            ]
          },
          "execution_count": 21,
          "metadata": {},
          "output_type": "execute_result"
        },
        {
          "data": {
            "image/png": "[encoded data removed]",
            "text/plain": [
              "<Figure size 864x432 with 1 Axes>"
            ]
          },
          "metadata": {
            "needs_background": "light"
          },
          "output_type": "display_data"
        }
      ],
      "source": [
        "plt.figure(figsize=(12,6))\n",
        "plt.plot(df_train,'r')"
      ]
    },
    {
      "cell_type": "code",
      "execution_count": 22,
      "metadata": {
        "colab": {
          "base_uri": "https://localhost:8080/",
          "height": 392
        },
        "id": "4P-wK-n5WmcC",
        "outputId": "2687c724-2a9a-4eb2-c8c0-782147f974f9"
      },
      "outputs": [
        {
          "data": {
            "text/plain": [
              "[<matplotlib.lines.Line2D at 0x2b57f3cd8d0>]"
            ]
          },
          "execution_count": 22,
          "metadata": {},
          "output_type": "execute_result"
        },
        {
          "data": {
            "image/png": "[encoded data removed]",
            "text/plain": [
              "<Figure size 864x432 with 1 Axes>"
            ]
          },
          "metadata": {
            "needs_background": "light"
          },
          "output_type": "display_data"
        }
      ],
      "source": [
        "plt.figure(figsize=(12,6))\n",
        "plt.plot(df_temp_surface,'r')"
      ]
    },
    {
      "cell_type": "code",
      "execution_count": 23,
      "metadata": {
        "colab": {
          "base_uri": "https://localhost:8080/",
          "height": 392
        },
        "id": "YzrKjNiqWrpn",
        "outputId": "b7a739b0-e10a-4eeb-e1ec-dd7febb8ab63"
      },
      "outputs": [
        {
          "data": {
            "text/plain": [
              "[<matplotlib.lines.Line2D at 0x2b500030c70>]"
            ]
          },
          "execution_count": 23,
          "metadata": {},
          "output_type": "execute_result"
        },
        {
          "data": {
            "image/png": "[encoded data removed]",
            "text/plain": [
              "<Figure size 864x432 with 1 Axes>"
            ]
          },
          "metadata": {
            "needs_background": "light"
          },
          "output_type": "display_data"
        }
      ],
      "source": [
        "plt.figure(figsize=(12,6))\n",
        "plt.plot(df_weather_wind['wind dir'],'r')"
      ]
    },
    {
      "cell_type": "code",
      "execution_count": 24,
      "metadata": {},
      "outputs": [
        {
          "data": {
            "text/plain": [
              "[<matplotlib.lines.Line2D at 0x2b5000a8b80>]"
            ]
          },
          "execution_count": 24,
          "metadata": {},
          "output_type": "execute_result"
        },
        {
          "data": {
            "image/png": "[encoded data removed]",
            "text/plain": [
              "<Figure size 864x432 with 1 Axes>"
            ]
          },
          "metadata": {
            "needs_background": "light"
          },
          "output_type": "display_data"
        }
      ],
      "source": [
        "plt.figure(figsize=(12,6))\n",
        "plt.plot(df_so2['so2 (ug/m^3)'],'r')"
      ]
    },
    {
      "cell_type": "code",
      "execution_count": 25,
      "metadata": {
        "colab": {
          "base_uri": "https://localhost:8080/",
          "height": 392
        },
        "id": "UvhB6EcSWwDS",
        "outputId": "3b28c540-a381-4e8d-ada0-e8be4243f0c6"
      },
      "outputs": [
        {
          "data": {
            "text/plain": [
              "[<matplotlib.lines.Line2D at 0x2b500116260>]"
            ]
          },
          "execution_count": 25,
          "metadata": {},
          "output_type": "execute_result"
        },
        {
          "data": {
            "image/png": "[encoded data removed]",
            "text/plain": [
              "<Figure size 864x432 with 1 Axes>"
            ]
          },
          "metadata": {
            "needs_background": "light"
          },
          "output_type": "display_data"
        }
      ],
      "source": [
        "plt.figure(figsize=(12,6))\n",
        "plt.plot(df_weather_wind['wind speed'],'r')"
      ]
    },
    {
      "cell_type": "code",
      "execution_count": 26,
      "metadata": {},
      "outputs": [
        {
          "data": {
            "text/plain": [
              "[<matplotlib.lines.Line2D at 0x2b500179210>]"
            ]
          },
          "execution_count": 26,
          "metadata": {},
          "output_type": "execute_result"
        },
        {
          "data": {
            "image/png": "[encoded data removed]",
            "text/plain": [
              "<Figure size 864x432 with 1 Axes>"
            ]
          },
          "metadata": {
            "needs_background": "light"
          },
          "output_type": "display_data"
        }
      ],
      "source": [
        "plt.figure(figsize=(12,6))\n",
        "plt.plot(df_rh['RH'],'r')"
      ]
    },
    {
      "cell_type": "code",
      "execution_count": 27,
      "metadata": {
        "id": "a_szyVs8_ob_"
      },
      "outputs": [],
      "source": [
        "df_temp_0 = pd.DataFrame({'date_time': ['07/01/2017 00:00:00'], 'temp':[0]})\n",
        "df_temp_0 = format_datetime(df_temp_0)\n",
        "df_wind_0 = pd.DataFrame({'date_time': ['07/01/2017 00:00:00'], 'wind dir':[0],'wind speed':[0]})\n",
        "df_wind_0 = format_datetime(df_wind_0)\n",
        "df_so2_0 = pd.DataFrame({'date_time': ['07/01/2017 00:00:00'], 'so2 (ug/m^3)':[0]})\n",
        "df_so2_0 = format_datetime(df_so2_0)\n",
        "df_rh_0 = pd.DataFrame({'date_time': ['07/01/2017 00:00:00'], 'RH':[0]})\n",
        "df_rh_0 = format_datetime(df_rh_0)"
      ]
    },
    {
      "cell_type": "code",
      "execution_count": 28,
      "metadata": {
        "id": "EF5FCjfALc2B"
      },
      "outputs": [],
      "source": [
        "df_temp_1 = pd.DataFrame({'date_time': ['06/30/2020 23:00:00'], 'temp':[df_temp_surface['temp'].iloc[26301]]})\n",
        "df_temp_1 = format_datetime(df_temp_1)\n",
        "df_wind_1 = pd.DataFrame({'date_time': ['06/30/2020 23:00:00'], 'wind dir':[df_weather_wind['wind dir'].iloc[26301]],'wind speed':[df_weather_wind['wind speed'].iloc[26301]]})\n",
        "df_wind_1 = format_datetime(df_wind_1)\n",
        "df_so2_1 = pd.DataFrame({'date_time': ['06/30/2020 23:00:00'], 'so2 (ug/m^3)':[df_so2['so2 (ug/m^3)'].iloc[26301]]})\n",
        "df_so2_1 = format_datetime(df_so2_1)\n",
        "df_rh_1 = pd.DataFrame({'date_time': ['06/30/2020 23:00:00'], 'RH':[df_rh['RH'].iloc[26301]]})\n",
        "df_rh_1 = format_datetime(df_rh_1)"
      ]
    },
    {
      "cell_type": "code",
      "execution_count": 29,
      "metadata": {
        "id": "R8HQOCeO8Qpq"
      },
      "outputs": [],
      "source": [
        "df_temp_surface = pd.concat([df_temp_0,df_temp_surface,df_temp_1])\n",
        "df_weather_wind = pd.concat([df_wind_0,df_weather_wind,df_wind_1])\n",
        "df_so2 = pd.concat([df_so2_0,df_so2,df_so2_1])\n",
        "df_rh = pd.concat([df_rh_0,df_rh,df_rh_1])"
      ]
    },
    {
      "cell_type": "code",
      "execution_count": 30,
      "metadata": {
        "colab": {
          "base_uri": "https://localhost:8080/",
          "height": 455
        },
        "id": "o5XKKZBRXUqD",
        "outputId": "897722bf-66c4-4918-f13c-89e3e236a928"
      },
      "outputs": [
        {
          "data": {
            "text/html": [
              "<div>\n",
              "<style scoped>\n",
              "    .dataframe tbody tr th:only-of-type {\n",
              "        vertical-align: middle;\n",
              "    }\n",
              "\n",
              "    .dataframe tbody tr th {\n",
              "        vertical-align: top;\n",
              "    }\n",
              "\n",
              "    .dataframe thead th {\n",
              "        text-align: right;\n",
              "    }\n",
              "</style>\n",
              "<table border=\"1\" class=\"dataframe\">\n",
              "  <thead>\n",
              "    <tr style=\"text-align: right;\">\n",
              "      <th></th>\n",
              "      <th>PM2.5</th>\n",
              "      <th>wind dir</th>\n",
              "      <th>wind speed</th>\n",
              "      <th>temp</th>\n",
              "      <th>so2 (ug/m^3)</th>\n",
              "      <th>RH</th>\n",
              "    </tr>\n",
              "    <tr>\n",
              "      <th>date_time</th>\n",
              "      <th></th>\n",
              "      <th></th>\n",
              "      <th></th>\n",
              "      <th></th>\n",
              "      <th></th>\n",
              "      <th></th>\n",
              "    </tr>\n",
              "  </thead>\n",
              "  <tbody>\n",
              "    <tr>\n",
              "      <th>2017-07-01 00:00:00</th>\n",
              "      <td>10.0</td>\n",
              "      <td>0</td>\n",
              "      <td>0</td>\n",
              "      <td>0.0</td>\n",
              "      <td>0.00</td>\n",
              "      <td>0.0</td>\n",
              "    </tr>\n",
              "    <tr>\n",
              "      <th>2017-07-01 01:00:00</th>\n",
              "      <td>6.0</td>\n",
              "      <td>250</td>\n",
              "      <td>21</td>\n",
              "      <td>27.9</td>\n",
              "      <td>0.58</td>\n",
              "      <td>82.0</td>\n",
              "    </tr>\n",
              "    <tr>\n",
              "      <th>2017-07-01 02:00:00</th>\n",
              "      <td>6.0</td>\n",
              "      <td>250</td>\n",
              "      <td>21</td>\n",
              "      <td>27.9</td>\n",
              "      <td>0.58</td>\n",
              "      <td>82.0</td>\n",
              "    </tr>\n",
              "    <tr>\n",
              "      <th>2017-07-01 03:00:00</th>\n",
              "      <td>5.0</td>\n",
              "      <td>250</td>\n",
              "      <td>21</td>\n",
              "      <td>27.9</td>\n",
              "      <td>0.58</td>\n",
              "      <td>82.0</td>\n",
              "    </tr>\n",
              "    <tr>\n",
              "      <th>2017-07-01 04:00:00</th>\n",
              "      <td>10.0</td>\n",
              "      <td>250</td>\n",
              "      <td>21</td>\n",
              "      <td>27.7</td>\n",
              "      <td>0.62</td>\n",
              "      <td>81.0</td>\n",
              "    </tr>\n",
              "    <tr>\n",
              "      <th>...</th>\n",
              "      <td>...</td>\n",
              "      <td>...</td>\n",
              "      <td>...</td>\n",
              "      <td>...</td>\n",
              "      <td>...</td>\n",
              "      <td>...</td>\n",
              "    </tr>\n",
              "    <tr>\n",
              "      <th>2020-06-30 19:00:00</th>\n",
              "      <td>11.0</td>\n",
              "      <td>280</td>\n",
              "      <td>36</td>\n",
              "      <td>27.9</td>\n",
              "      <td>0.36</td>\n",
              "      <td>81.0</td>\n",
              "    </tr>\n",
              "    <tr>\n",
              "      <th>2020-06-30 20:00:00</th>\n",
              "      <td>10.0</td>\n",
              "      <td>280</td>\n",
              "      <td>36</td>\n",
              "      <td>27.9</td>\n",
              "      <td>0.36</td>\n",
              "      <td>81.0</td>\n",
              "    </tr>\n",
              "    <tr>\n",
              "      <th>2020-06-30 21:00:00</th>\n",
              "      <td>9.0</td>\n",
              "      <td>280</td>\n",
              "      <td>36</td>\n",
              "      <td>27.9</td>\n",
              "      <td>0.36</td>\n",
              "      <td>81.0</td>\n",
              "    </tr>\n",
              "    <tr>\n",
              "      <th>2020-06-30 22:00:00</th>\n",
              "      <td>8.0</td>\n",
              "      <td>270</td>\n",
              "      <td>47</td>\n",
              "      <td>28.5</td>\n",
              "      <td>0.40</td>\n",
              "      <td>78.0</td>\n",
              "    </tr>\n",
              "    <tr>\n",
              "      <th>2020-06-30 23:00:00</th>\n",
              "      <td>7.0</td>\n",
              "      <td>270</td>\n",
              "      <td>47</td>\n",
              "      <td>28.5</td>\n",
              "      <td>0.40</td>\n",
              "      <td>78.0</td>\n",
              "    </tr>\n",
              "  </tbody>\n",
              "</table>\n",
              "<p>26304 rows × 6 columns</p>\n",
              "</div>"
            ],
            "text/plain": [
              "                     PM2.5  wind dir  wind speed  temp  so2 (ug/m^3)    RH\n",
              "date_time                                                                 \n",
              "2017-07-01 00:00:00   10.0         0           0   0.0          0.00   0.0\n",
              "2017-07-01 01:00:00    6.0       250          21  27.9          0.58  82.0\n",
              "2017-07-01 02:00:00    6.0       250          21  27.9          0.58  82.0\n",
              "2017-07-01 03:00:00    5.0       250          21  27.9          0.58  82.0\n",
              "2017-07-01 04:00:00   10.0       250          21  27.7          0.62  81.0\n",
              "...                    ...       ...         ...   ...           ...   ...\n",
              "2020-06-30 19:00:00   11.0       280          36  27.9          0.36  81.0\n",
              "2020-06-30 20:00:00   10.0       280          36  27.9          0.36  81.0\n",
              "2020-06-30 21:00:00    9.0       280          36  27.9          0.36  81.0\n",
              "2020-06-30 22:00:00    8.0       270          47  28.5          0.40  78.0\n",
              "2020-06-30 23:00:00    7.0       270          47  28.5          0.40  78.0\n",
              "\n",
              "[26304 rows x 6 columns]"
            ]
          },
          "execution_count": 30,
          "metadata": {},
          "output_type": "execute_result"
        }
      ],
      "source": [
        "data = df_train.merge(df_weather_wind,left_index=True,right_index=True)\n",
        "data = data.merge(df_temp_surface,left_index=True,right_index=True)\n",
        "data = data.merge(df_so2,left_index=True,right_index=True)\n",
        "data = data.merge(df_rh,left_index=True,right_index=True)\n",
        "data"
      ]
    },
    {
      "cell_type": "code",
      "execution_count": 31,
      "metadata": {
        "id": "ispJBk33Bmsh"
      },
      "outputs": [],
      "source": [
        "df_temp_test_0 = pd.DataFrame({'date_time': ['07/01/2020 00:00:00'], 'temp':[0]})\n",
        "df_temp_test_0 = format_datetime(df_temp_test_0)\n",
        "df_wind_test_0 = pd.DataFrame({'date_time': ['07/01/2020 00:00:00'], 'wind dir':[0],'wind speed':[0]})\n",
        "df_wind_test_0 = format_datetime(df_wind_test_0)\n",
        "df_so2_test_0 = pd.DataFrame({'date_time': ['07/01/2020 00:00:00'], 'so2 (ug/m^3)':[0]})\n",
        "df_so2_test_0 = format_datetime(df_so2_test_0)\n",
        "df_rh_test_0 = pd.DataFrame({'date_time': ['07/01/2020 00:00:00'], 'RH':[0]})\n",
        "df_rh_test_0 = format_datetime(df_rh_test_0)"
      ]
    },
    {
      "cell_type": "code",
      "execution_count": 32,
      "metadata": {
        "id": "ymkwmgV5Ld1R"
      },
      "outputs": [],
      "source": [
        "df_temp_test_1 = pd.DataFrame({'date_time': ['07/01/2021 23:00:00'], 'temp':[df_temp_surface_test['temp'].iloc[8781]]})\n",
        "df_temp_test_1 = format_datetime(df_temp_test_1)\n",
        "df_wind_test_1 = pd.DataFrame({'date_time': ['07/01/2021 23:00:00'], 'wind dir':[df_weather_wind_test['wind dir'].iloc[8781]],'wind speed':[df_weather_wind_test['wind speed'].iloc[8781]]})\n",
        "df_wind_test_1 = format_datetime(df_wind_test_1)\n",
        "df_so2_test_1 = pd.DataFrame({'date_time': ['07/01/2021 23:00:00'], 'so2 (ug/m^3)':[df_so2_test['so2 (ug/m^3)'].iloc[8781]]})\n",
        "df_so2_test_1 = format_datetime(df_so2_test_1)\n",
        "df_rh_test_1 = pd.DataFrame({'date_time': ['07/01/2021 23:00:00'], 'RH':[df_rh_test['RH'].iloc[8781]]})\n",
        "df_rh_test_1 = format_datetime(df_rh_test_1)"
      ]
    },
    {
      "cell_type": "code",
      "execution_count": 33,
      "metadata": {
        "id": "CUVH6KIzBvDO"
      },
      "outputs": [],
      "source": [
        "df_temp_surface_test = pd.concat([df_temp_test_0,df_temp_surface_test,df_temp_test_1])\n",
        "df_weather_wind_test = pd.concat([df_wind_test_0,df_weather_wind_test,df_wind_test_1])\n",
        "df_so2_test = pd.concat([df_so2_test_0,df_so2_test,df_so2_test_1])\n",
        "df_rh_test = pd.concat([df_rh_test_0,df_rh_test,df_rh_test_1])"
      ]
    },
    {
      "cell_type": "code",
      "execution_count": 34,
      "metadata": {
        "colab": {
          "base_uri": "https://localhost:8080/",
          "height": 455
        },
        "id": "BZGyRQIvlHHM",
        "outputId": "a96947b5-4b3b-4e25-e64a-2d1a6a9870db"
      },
      "outputs": [
        {
          "data": {
            "text/html": [
              "<div>\n",
              "<style scoped>\n",
              "    .dataframe tbody tr th:only-of-type {\n",
              "        vertical-align: middle;\n",
              "    }\n",
              "\n",
              "    .dataframe tbody tr th {\n",
              "        vertical-align: top;\n",
              "    }\n",
              "\n",
              "    .dataframe thead th {\n",
              "        text-align: right;\n",
              "    }\n",
              "</style>\n",
              "<table border=\"1\" class=\"dataframe\">\n",
              "  <thead>\n",
              "    <tr style=\"text-align: right;\">\n",
              "      <th></th>\n",
              "      <th>PM2.5</th>\n",
              "      <th>temp</th>\n",
              "      <th>wind dir</th>\n",
              "      <th>wind speed</th>\n",
              "      <th>so2 (ug/m^3)</th>\n",
              "      <th>RH</th>\n",
              "    </tr>\n",
              "    <tr>\n",
              "      <th>date_time</th>\n",
              "      <th></th>\n",
              "      <th></th>\n",
              "      <th></th>\n",
              "      <th></th>\n",
              "      <th></th>\n",
              "      <th></th>\n",
              "    </tr>\n",
              "  </thead>\n",
              "  <tbody>\n",
              "    <tr>\n",
              "      <th>2020-07-01 00:00:00</th>\n",
              "      <td>5.0</td>\n",
              "      <td>0.0</td>\n",
              "      <td>0</td>\n",
              "      <td>0</td>\n",
              "      <td>0.00</td>\n",
              "      <td>0.0</td>\n",
              "    </tr>\n",
              "    <tr>\n",
              "      <th>2020-07-01 01:00:00</th>\n",
              "      <td>3.0</td>\n",
              "      <td>28.2</td>\n",
              "      <td>260</td>\n",
              "      <td>41</td>\n",
              "      <td>0.47</td>\n",
              "      <td>78.0</td>\n",
              "    </tr>\n",
              "    <tr>\n",
              "      <th>2020-07-01 02:00:00</th>\n",
              "      <td>2.0</td>\n",
              "      <td>28.2</td>\n",
              "      <td>260</td>\n",
              "      <td>41</td>\n",
              "      <td>0.47</td>\n",
              "      <td>78.0</td>\n",
              "    </tr>\n",
              "    <tr>\n",
              "      <th>2020-07-01 03:00:00</th>\n",
              "      <td>4.0</td>\n",
              "      <td>28.2</td>\n",
              "      <td>260</td>\n",
              "      <td>41</td>\n",
              "      <td>0.47</td>\n",
              "      <td>78.0</td>\n",
              "    </tr>\n",
              "    <tr>\n",
              "      <th>2020-07-01 04:00:00</th>\n",
              "      <td>3.0</td>\n",
              "      <td>27.8</td>\n",
              "      <td>260</td>\n",
              "      <td>46</td>\n",
              "      <td>0.56</td>\n",
              "      <td>78.0</td>\n",
              "    </tr>\n",
              "    <tr>\n",
              "      <th>...</th>\n",
              "      <td>...</td>\n",
              "      <td>...</td>\n",
              "      <td>...</td>\n",
              "      <td>...</td>\n",
              "      <td>...</td>\n",
              "      <td>...</td>\n",
              "    </tr>\n",
              "    <tr>\n",
              "      <th>2021-07-01 19:00:00</th>\n",
              "      <td>16.0</td>\n",
              "      <td>28.5</td>\n",
              "      <td>255</td>\n",
              "      <td>25</td>\n",
              "      <td>0.55</td>\n",
              "      <td>74.0</td>\n",
              "    </tr>\n",
              "    <tr>\n",
              "      <th>2021-07-01 20:00:00</th>\n",
              "      <td>16.0</td>\n",
              "      <td>28.5</td>\n",
              "      <td>255</td>\n",
              "      <td>25</td>\n",
              "      <td>0.55</td>\n",
              "      <td>74.0</td>\n",
              "    </tr>\n",
              "    <tr>\n",
              "      <th>2021-07-01 21:00:00</th>\n",
              "      <td>16.0</td>\n",
              "      <td>28.5</td>\n",
              "      <td>255</td>\n",
              "      <td>25</td>\n",
              "      <td>0.55</td>\n",
              "      <td>74.0</td>\n",
              "    </tr>\n",
              "    <tr>\n",
              "      <th>2021-07-01 22:00:00</th>\n",
              "      <td>16.0</td>\n",
              "      <td>28.2</td>\n",
              "      <td>245</td>\n",
              "      <td>24</td>\n",
              "      <td>0.46</td>\n",
              "      <td>77.0</td>\n",
              "    </tr>\n",
              "    <tr>\n",
              "      <th>2021-07-01 23:00:00</th>\n",
              "      <td>16.0</td>\n",
              "      <td>28.2</td>\n",
              "      <td>245</td>\n",
              "      <td>24</td>\n",
              "      <td>0.46</td>\n",
              "      <td>77.0</td>\n",
              "    </tr>\n",
              "  </tbody>\n",
              "</table>\n",
              "<p>8784 rows × 6 columns</p>\n",
              "</div>"
            ],
            "text/plain": [
              "                     PM2.5  temp  wind dir  wind speed  so2 (ug/m^3)    RH\n",
              "date_time                                                                 \n",
              "2020-07-01 00:00:00    5.0   0.0         0           0          0.00   0.0\n",
              "2020-07-01 01:00:00    3.0  28.2       260          41          0.47  78.0\n",
              "2020-07-01 02:00:00    2.0  28.2       260          41          0.47  78.0\n",
              "2020-07-01 03:00:00    4.0  28.2       260          41          0.47  78.0\n",
              "2020-07-01 04:00:00    3.0  27.8       260          46          0.56  78.0\n",
              "...                    ...   ...       ...         ...           ...   ...\n",
              "2021-07-01 19:00:00   16.0  28.5       255          25          0.55  74.0\n",
              "2021-07-01 20:00:00   16.0  28.5       255          25          0.55  74.0\n",
              "2021-07-01 21:00:00   16.0  28.5       255          25          0.55  74.0\n",
              "2021-07-01 22:00:00   16.0  28.2       245          24          0.46  77.0\n",
              "2021-07-01 23:00:00   16.0  28.2       245          24          0.46  77.0\n",
              "\n",
              "[8784 rows x 6 columns]"
            ]
          },
          "execution_count": 34,
          "metadata": {},
          "output_type": "execute_result"
        }
      ],
      "source": [
        "test = df_test.merge(df_temp_surface_test,left_index=True,right_index=True)\n",
        "test['wind dir'] = df_weather_wind_test['wind dir'].values\n",
        "test['wind speed'] = df_weather_wind_test['wind speed'].values\n",
        "test = test.merge(df_so2_test,left_index=True,right_index=True)\n",
        "test = test.merge(df_rh_test,left_index=True,right_index=True)\n",
        "test"
      ]
    },
    {
      "cell_type": "markdown",
      "metadata": {
        "id": "6WiW47FdZg9Y"
      },
      "source": [
        "# Split data"
      ]
    },
    {
      "cell_type": "code",
      "execution_count": 72,
      "metadata": {
        "id": "iVYrrQiOZG47"
      },
      "outputs": [],
      "source": [
        "#train_size, valid_size = map(lambda r: int(r*data.shape[0]), (0.7, 0.3))"
      ]
    },
    {
      "cell_type": "code",
      "execution_count": 35,
      "metadata": {
        "id": "O2lSehXsaGhs"
      },
      "outputs": [],
      "source": [
        "#train, valid = data.iloc[:train_size], data.iloc[train_size:]\n",
        "train = data"
      ]
    },
    {
      "cell_type": "code",
      "execution_count": 36,
      "metadata": {
        "colab": {
          "base_uri": "https://localhost:8080/"
        },
        "id": "ZVHqx18OaOaU",
        "outputId": "a515d89d-b24a-47dc-ce59-e1096c48d88c"
      },
      "outputs": [
        {
          "data": {
            "text/plain": [
              "(26304, 6)"
            ]
          },
          "execution_count": 36,
          "metadata": {},
          "output_type": "execute_result"
        }
      ],
      "source": [
        "train.shape"
      ]
    },
    {
      "cell_type": "code",
      "execution_count": 38,
      "metadata": {
        "colab": {
          "base_uri": "https://localhost:8080/"
        },
        "id": "MBG0lkyAaWw2",
        "outputId": "24a3a759-1c29-47c9-f120-ac272ab1ef2f"
      },
      "outputs": [],
      "source": [
        "#valid.shape"
      ]
    },
    {
      "cell_type": "code",
      "execution_count": 46,
      "metadata": {
        "id": "HFxQ-2daaYKa"
      },
      "outputs": [],
      "source": [
        "exog_columns = ['wind speed','wind dir','temp','so2 (ug/m^3)','RH']"
      ]
    },
    {
      "cell_type": "markdown",
      "metadata": {
        "id": "C3uAHge0aq9t"
      },
      "source": [
        "# Fit model with exogenous data"
      ]
    },
    {
      "cell_type": "code",
      "execution_count": 47,
      "metadata": {
        "colab": {
          "base_uri": "https://localhost:8080/"
        },
        "id": "tLH3InIiagQ9",
        "outputId": "983b0778-f869-4e4d-c9b4-253cb300efe8"
      },
      "outputs": [],
      "source": [
        "from sklearn.metrics import mean_squared_error\n",
        "from statsmodels.tsa.statespace.sarimax import SARIMAX"
      ]
    },
    {
      "cell_type": "code",
      "execution_count": 48,
      "metadata": {
        "id": "fqHmiViaVvNQ"
      },
      "outputs": [],
      "source": [
        "from sklearn.model_selection import GridSearchCV"
      ]
    },
    {
      "cell_type": "code",
      "execution_count": 49,
      "metadata": {
        "id": "f5J6kQzGgRh6"
      },
      "outputs": [],
      "source": [
        "import math"
      ]
    },
    {
      "cell_type": "code",
      "execution_count": 50,
      "metadata": {
        "colab": {
          "base_uri": "https://localhost:8080/"
        },
        "id": "Er4Hz7wSDJ-7",
        "outputId": "0c1a55ee-aef7-4d4f-a84d-f345667c793f"
      },
      "outputs": [
        {
          "name": "stderr",
          "output_type": "stream",
          "text": [
            "C:\\Users\\jinnie\\AppData\\Local\\Packages\\PythonSoftwareFoundation.Python.3.10_qbz5n2kfra8p0\\LocalCache\\local-packages\\Python310\\site-packages\\statsmodels\\base\\model.py:604: ConvergenceWarning: Maximum Likelihood optimization failed to converge. Check mle_retvals\n",
            "  warnings.warn(\"Maximum Likelihood optimization failed to \"\n"
          ]
        },
        {
          "name": "stdout",
          "output_type": "stream",
          "text": [
            "SARIMAX(0, 0, 1)x(1, 0, 0, 12) - AIC:177396.88115549576 - MSE:11.02336653788185\n",
            "SARIMAX(0, 0, 1)x(0, 0, 1, 12) - AIC:180349.26454191955 - MSE:10.635714566710547\n"
          ]
        },
        {
          "name": "stderr",
          "output_type": "stream",
          "text": [
            "C:\\Users\\jinnie\\AppData\\Local\\Packages\\PythonSoftwareFoundation.Python.3.10_qbz5n2kfra8p0\\LocalCache\\local-packages\\Python310\\site-packages\\statsmodels\\base\\model.py:604: ConvergenceWarning: Maximum Likelihood optimization failed to converge. Check mle_retvals\n",
            "  warnings.warn(\"Maximum Likelihood optimization failed to \"\n"
          ]
        },
        {
          "name": "stdout",
          "output_type": "stream",
          "text": [
            "SARIMAX(0, 0, 1)x(1, 1, 0, 12) - AIC:173695.32907105077 - MSE:13.454158586093552\n"
          ]
        },
        {
          "name": "stderr",
          "output_type": "stream",
          "text": [
            "C:\\Users\\jinnie\\AppData\\Local\\Packages\\PythonSoftwareFoundation.Python.3.10_qbz5n2kfra8p0\\LocalCache\\local-packages\\Python310\\site-packages\\statsmodels\\base\\model.py:604: ConvergenceWarning: Maximum Likelihood optimization failed to converge. Check mle_retvals\n",
            "  warnings.warn(\"Maximum Likelihood optimization failed to \"\n"
          ]
        },
        {
          "name": "stdout",
          "output_type": "stream",
          "text": [
            "SARIMAX(0, 0, 1)x(0, 1, 1, 12) - AIC:172424.66827910647 - MSE:13.003598521532325\n",
            "SARIMAX(0, 1, 1)x(1, 0, 0, 12) - AIC:165011.19686572923 - MSE:16.66773336485441\n",
            "SARIMAX(0, 1, 1)x(0, 0, 1, 12) - AIC:165546.41601590512 - MSE:16.531451375041144\n",
            "SARIMAX(0, 1, 1)x(1, 1, 0, 12) - AIC:167174.93364295986 - MSE:79.61385033077124\n",
            "SARIMAX(0, 1, 1)x(0, 1, 1, 12) - AIC:162184.65785995772 - MSE:75.74546542823161\n"
          ]
        },
        {
          "name": "stderr",
          "output_type": "stream",
          "text": [
            "C:\\Users\\jinnie\\AppData\\Local\\Packages\\PythonSoftwareFoundation.Python.3.10_qbz5n2kfra8p0\\LocalCache\\local-packages\\Python310\\site-packages\\statsmodels\\base\\model.py:604: ConvergenceWarning: Maximum Likelihood optimization failed to converge. Check mle_retvals\n",
            "  warnings.warn(\"Maximum Likelihood optimization failed to \"\n"
          ]
        },
        {
          "name": "stdout",
          "output_type": "stream",
          "text": [
            "SARIMAX(0, 2, 1)x(1, 0, 0, 12) - AIC:166037.7466969366 - MSE:16.649009621214923\n"
          ]
        },
        {
          "name": "stderr",
          "output_type": "stream",
          "text": [
            "C:\\Users\\jinnie\\AppData\\Local\\Packages\\PythonSoftwareFoundation.Python.3.10_qbz5n2kfra8p0\\LocalCache\\local-packages\\Python310\\site-packages\\statsmodels\\base\\model.py:604: ConvergenceWarning: Maximum Likelihood optimization failed to converge. Check mle_retvals\n",
            "  warnings.warn(\"Maximum Likelihood optimization failed to \"\n"
          ]
        },
        {
          "name": "stdout",
          "output_type": "stream",
          "text": [
            "SARIMAX(0, 2, 1)x(0, 0, 1, 12) - AIC:166722.36920047592 - MSE:17.50379906718704\n",
            "SARIMAX(0, 2, 1)x(1, 1, 0, 12) - AIC:167407.10467765175 - MSE:342.4929760585118\n"
          ]
        },
        {
          "name": "stderr",
          "output_type": "stream",
          "text": [
            "C:\\Users\\jinnie\\AppData\\Local\\Packages\\PythonSoftwareFoundation.Python.3.10_qbz5n2kfra8p0\\LocalCache\\local-packages\\Python310\\site-packages\\statsmodels\\base\\model.py:604: ConvergenceWarning: Maximum Likelihood optimization failed to converge. Check mle_retvals\n",
            "  warnings.warn(\"Maximum Likelihood optimization failed to \"\n"
          ]
        },
        {
          "name": "stdout",
          "output_type": "stream",
          "text": [
            "SARIMAX(0, 2, 1)x(0, 1, 1, 12) - AIC:162760.70581001078 - MSE:45.046682211021796\n",
            "SARIMAX(1, 0, 0)x(1, 0, 0, 12) - AIC:164371.90124912478 - MSE:11.93187507550885\n",
            "SARIMAX(1, 0, 0)x(0, 0, 1, 12) - AIC:165210.06794217872 - MSE:11.850465587096586\n",
            "SARIMAX(1, 0, 0)x(1, 1, 0, 12) - AIC:164793.0246427371 - MSE:15.1623957617452\n",
            "SARIMAX(1, 0, 0)x(0, 1, 1, 12) - AIC:160759.75633373266 - MSE:15.243816115122538\n",
            "SARIMAX(1, 1, 0)x(1, 0, 0, 12) - AIC:165402.96037804763 - MSE:16.91931230675709\n",
            "SARIMAX(1, 1, 0)x(0, 0, 1, 12) - AIC:166016.66016868813 - MSE:16.695122171387393\n",
            "SARIMAX(1, 1, 0)x(1, 1, 0, 12) - AIC:167261.18050065683 - MSE:50.429067043811806\n",
            "SARIMAX(1, 1, 0)x(0, 1, 1, 12) - AIC:162415.92416978138 - MSE:83.32599681049804\n",
            "SARIMAX(1, 2, 0)x(1, 0, 0, 12) - AIC:177663.02057027616 - MSE:5543.828399284239\n"
          ]
        },
        {
          "name": "stderr",
          "output_type": "stream",
          "text": [
            "C:\\Users\\jinnie\\AppData\\Local\\Packages\\PythonSoftwareFoundation.Python.3.10_qbz5n2kfra8p0\\LocalCache\\local-packages\\Python310\\site-packages\\statsmodels\\base\\model.py:604: ConvergenceWarning: Maximum Likelihood optimization failed to converge. Check mle_retvals\n",
            "  warnings.warn(\"Maximum Likelihood optimization failed to \"\n"
          ]
        },
        {
          "name": "stdout",
          "output_type": "stream",
          "text": [
            "SARIMAX(1, 2, 0)x(0, 0, 1, 12) - AIC:178310.55560708488 - MSE:5675.841040172671\n",
            "SARIMAX(1, 2, 0)x(1, 1, 0, 12) - AIC:180305.63711238577 - MSE:387132.7583907602\n",
            "SARIMAX(1, 2, 0)x(0, 1, 1, 12) - AIC:175077.41708523812 - MSE:67042.33387679253\n",
            "SARIMAX(0, 0, 2)x(1, 0, 0, 12) - AIC:169270.9113743289 - MSE:10.99749860315892\n"
          ]
        },
        {
          "name": "stderr",
          "output_type": "stream",
          "text": [
            "C:\\Users\\jinnie\\AppData\\Local\\Packages\\PythonSoftwareFoundation.Python.3.10_qbz5n2kfra8p0\\LocalCache\\local-packages\\Python310\\site-packages\\statsmodels\\base\\model.py:604: ConvergenceWarning: Maximum Likelihood optimization failed to converge. Check mle_retvals\n",
            "  warnings.warn(\"Maximum Likelihood optimization failed to \"\n"
          ]
        },
        {
          "name": "stdout",
          "output_type": "stream",
          "text": [
            "SARIMAX(0, 0, 2)x(0, 0, 1, 12) - AIC:170783.30030106803 - MSE:10.743228584489533\n",
            "SARIMAX(0, 0, 2)x(1, 1, 0, 12) - AIC:167551.2172300272 - MSE:13.829863199783073\n",
            "SARIMAX(0, 0, 2)x(0, 1, 1, 12) - AIC:164940.93272625844 - MSE:13.278343275668297\n"
          ]
        }
      ],
      "source": [
        "pdq = [(0,0,1),(0,1,1),(0,2,1),(1,0,0),(1,1,0),(1,2,0),(0,0,2),]\n",
        "seasonal_pdq = [(1,0,0,12),(0,0,1,12),(1,1,0,12),(0,1,1,12)]\n",
        "params = [] \n",
        "params_s = [] \n",
        "aics = [] \n",
        "mses = []\n",
        "cnt = 0 \n",
        "for param in pdq:\n",
        "  for param_seasonal in seasonal_pdq:\n",
        "    mod = SARIMAX(train['PM2.5'],\n",
        "    exog=train[exog_columns],\n",
        "    order=param,\n",
        "    seasonal_order=param_seasonal,\n",
        "    freq='H',\n",
        "    enforce_stationarity=False,\n",
        "    enforce_invertibility=False)\n",
        "    results = mod.fit()\n",
        "    #test_exog = pd.concat((valid[exog_columns], test[exog_columns]), axis=0)\n",
        "    pred = results.get_prediction(start=test.index[0], end=test.index[-1], exog=test[exog_columns], dynamic=False)\n",
        "    pred_ci = pred.conf_int()\n",
        "    params.append(param)\n",
        "    params_s.append(param_seasonal)\n",
        "    aics.append(results.aic)\n",
        "    mse = mean_squared_error(test['PM2.5'], pred.predicted_mean)\n",
        "    rmse = math.sqrt(mse) \n",
        "    mses.append(rmse)\n",
        "    print('SARIMAX{}x{} - AIC:{} - MSE:{}'.format(param, param_seasonal,results.aic, mses[-1]))"
      ]
    },
    {
      "cell_type": "code",
      "execution_count": 37,
      "metadata": {
        "id": "r24ULIi_fckF"
      },
      "outputs": [
        {
          "data": {
            "text/plain": [
              "(18412, 4)"
            ]
          },
          "execution_count": 37,
          "metadata": {},
          "output_type": "execute_result"
        }
      ],
      "source": [
        "train.shape"
      ]
    },
    {
      "cell_type": "code",
      "execution_count": 51,
      "metadata": {},
      "outputs": [],
      "source": [
        "def getBestParams(inputlist):\n",
        " \n",
        "    #get the minimum value in the list\n",
        "    min_value = min(inputlist)\n",
        " \n",
        "    #return the index of minimum value \n",
        "    min_index=inputlist.index(min_value)\n",
        "    return params[min_index], params_s[min_index]"
      ]
    },
    {
      "cell_type": "code",
      "execution_count": 52,
      "metadata": {},
      "outputs": [],
      "source": [
        "bestPDQ, bestSeasonalPDQ = getBestParams(mses)"
      ]
    },
    {
      "cell_type": "code",
      "execution_count": 53,
      "metadata": {},
      "outputs": [
        {
          "name": "stdout",
          "output_type": "stream",
          "text": [
            "(0, 0, 1) (0, 0, 1, 12)\n"
          ]
        }
      ],
      "source": [
        "print(bestPDQ,bestSeasonalPDQ)"
      ]
    },
    {
      "cell_type": "code",
      "execution_count": 54,
      "metadata": {
        "id": "5hwH8CaUau55"
      },
      "outputs": [
        {
          "name": "stdout",
          "output_type": "stream",
          "text": [
            "================================================================================\n",
            "                   coef    std err          z      P>|z|      [0.025      0.975]\n",
            "--------------------------------------------------------------------------------\n",
            "wind speed      -0.0160      0.008     -1.890      0.059      -0.033       0.001\n",
            "wind dir        -0.0239      0.001    -23.888      0.000      -0.026      -0.022\n",
            "temp             0.5887      0.019     31.505      0.000       0.552       0.625\n",
            "so2 (ug/m^3)     2.3750      0.038     62.891      0.000       2.301       2.449\n",
            "RH               0.0145      0.008      1.822      0.069      -0.001       0.030\n",
            "ma.L1            1.2942      0.004    298.107      0.000       1.286       1.303\n",
            "ma.S.L12         0.2412      0.004     67.614      0.000       0.234       0.248\n",
            "sigma2          33.3035      0.263    126.818      0.000      32.789      33.818\n",
            "================================================================================\n"
          ]
        }
      ],
      "source": [
        "mod = SARIMAX(train['PM2.5'],\n",
        "              exog=train[exog_columns],\n",
        "              order=bestPDQ,\n",
        "              seasonal_order=bestSeasonalPDQ,\n",
        "              enforce_stationarity=False,\n",
        "              enforce_invertibility=False)\n",
        "\n",
        "results = mod.fit()\n",
        "\n",
        "print(results.summary().tables[1])"
      ]
    },
    {
      "cell_type": "markdown",
      "metadata": {
        "id": "Ncm_E2bBckpa"
      },
      "source": [
        "# Predict on test"
      ]
    },
    {
      "cell_type": "code",
      "execution_count": 56,
      "metadata": {
        "id": "x7Qaj6icbEZM"
      },
      "outputs": [],
      "source": [
        "pred = results.get_prediction(start=test.index[0], end=test.index[-1], exog=test[exog_columns], dynamic=False)\n",
        "pred_ci = pred.conf_int()"
      ]
    },
    {
      "cell_type": "code",
      "execution_count": 57,
      "metadata": {
        "colab": {
          "base_uri": "https://localhost:8080/",
          "height": 419
        },
        "id": "IRHFRthatSlD",
        "outputId": "a0123db8-1a1d-4f7d-e51a-00d6f4cc7124"
      },
      "outputs": [
        {
          "data": {
            "image/png": "[encoded data removed]",
            "text/plain": [
              "<Figure size 1440x480 with 1 Axes>"
            ]
          },
          "metadata": {},
          "output_type": "display_data"
        }
      ],
      "source": [
        "from matplotlib.pyplot import figure\n",
        "figure(num=None, figsize=(18, 6), dpi=80, facecolor='w', edgecolor='k')\n",
        "plt.plot(pd.concat([data['PM2.5'],test['PM2.5']]), color='g',label='ground truth')\n",
        "pred.predicted_mean.plot(alpha=.7, color='r',label='predict')\n",
        "plt.legend(loc=\"upper right\")\n",
        "\n",
        "plt.show()"
      ]
    },
    {
      "cell_type": "code",
      "execution_count": 58,
      "metadata": {
        "id": "4AF0i7xNtfzH"
      },
      "outputs": [],
      "source": [
        "import math"
      ]
    },
    {
      "cell_type": "code",
      "execution_count": 59,
      "metadata": {
        "colab": {
          "base_uri": "https://localhost:8080/"
        },
        "id": "q3j64mGOtT5x",
        "outputId": "bdcaddec-2f74-4f5f-8c82-6321fd8543b5"
      },
      "outputs": [
        {
          "name": "stdout",
          "output_type": "stream",
          "text": [
            "Test on SARIMAX with RMSE: 10.635715\n"
          ]
        }
      ],
      "source": [
        "mse = mean_squared_error(test['PM2.5'], pred.predicted_mean)\n",
        "rmse = math.sqrt(mse)\n",
        "print('Test on SARIMAX with RMSE: %f' % (rmse, ))"
      ]
    },
    {
      "cell_type": "code",
      "execution_count": 63,
      "metadata": {},
      "outputs": [],
      "source": [
        "pred.predicted_mean.to_csv('rayong.csv', index=True)"
      ]
    }
  ],
  "metadata": {
    "colab": {
      "collapsed_sections": [],
      "name": "SamuunJinnie ver2.1.ipynb",
      "provenance": []
    },
    "kernelspec": {
      "display_name": "Python 3",
      "name": "python3"
    },
    "language_info": {
      "codemirror_mode": {
        "name": "ipython",
        "version": 3
      },
      "file_extension": ".py",
      "mimetype": "text/x-python",
      "name": "python",
      "nbconvert_exporter": "python",
      "pygments_lexer": "ipython3",
      "version": "3.10.2"
    }
  },
  "nbformat": 4,
  "nbformat_minor": 0
}
